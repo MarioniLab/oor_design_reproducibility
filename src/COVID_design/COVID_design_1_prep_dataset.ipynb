{
 "cells": [
  {
   "cell_type": "markdown",
   "metadata": {},
   "source": [
    "# Application of design best practices to COVID-19 dataset - prepare dataset"
   ]
  },
  {
   "cell_type": "code",
   "execution_count": null,
   "id": "other-tobago",
   "metadata": {},
   "outputs": [],
   "source": [
    "%load_ext autoreload\n",
    "%autoreload 2"
   ]
  },
  {
   "cell_type": "code",
   "execution_count": 1,
   "id": "figured-vehicle",
   "metadata": {},
   "outputs": [],
   "source": [
    "import os,sys\n",
    "import scanpy as sc \n",
    "import pandas as pd\n",
    "import numpy as np\n",
    "import milopy\n",
    "import scipy\n",
    "import anndata"
   ]
  },
  {
   "cell_type": "code",
   "execution_count": 2,
   "metadata": {},
   "outputs": [],
   "source": [
    "# check X stores raw counts \n",
    "def _check_counts_in_X(adata):\n",
    "    return(all(np.random.choice(adata.X.data, 100) % 1 == 0))\n",
    "\n",
    "def _clean_adata(a):\n",
    "    ## Make obs_names unique\n",
    "    a.obs_names = a.obs['dataset_id'].astype('str') + '-' + a.obs_names.astype(\"str\")\n",
    "    assert _check_counts_in_X(a)\n",
    "\n",
    "    sc.pp.calculate_qc_metrics(a, inplace=True)\n",
    "    sc.pp.filter_cells(a, min_counts=1000)\n",
    "    return(a)"
   ]
  },
  {
   "cell_type": "markdown",
   "id": "focal-rugby",
   "metadata": {},
   "source": [
    "Filtered anndata objects (subsampling to 500 cells per sample) and split by condition are prepared running scripts in `src/01_PBMC_data_processing/` and stored in `/nfs/team205/ed6/data/PBMC_CZI_integration_filtered/tmp/`."
   ]
  },
  {
   "cell_type": "code",
   "execution_count": null,
   "id": "charged-tuner",
   "metadata": {},
   "outputs": [],
   "source": [
    "data_dir = '/nfs/team205/ed6/data/PBMC_CZI_integration_filtered/'\n",
    "query_batch = '10_1038_s41591_021_01329_2'\n",
    "normal_sample_obs = pd.read_csv(data_dir + 'PBMC_sample_metadata.normal.csv')\n",
    "covid_sample_obs = pd.read_csv(data_dir + 'PBMC_sample_metadata.COVID.csv')\n",
    "step_adata = sc.read_h5ad(data_dir + f'{query_batch}.h5ad', backed='r')\n",
    "atlas_batch = normal_sample_obs[normal_sample_obs.dataset_id != query_batch].dataset_id.unique()\n",
    "data_dir = '/nfs/team205/ed6/data/PBMC_CZI_integration_filtered/'\n",
    "tmp_dir = '/nfs/team205/ed6/data/PBMC_CZI_integration_filtered/tmp/'\n",
    "\n",
    "h5ad_files_atlas = [f'{x}.normal.subsample500cells.h5ad' for x in atlas_batch]\n",
    "h5ad_files_covid = f'{query_batch}.COVID.subsample500cells.h5ad' \n",
    "h5ad_files_ctrl = f'{query_batch}.normal.subsample500cells.h5ad' \n",
    "\n",
    "assert os.path.exists(tmp_dir + h5ad_files_covid)\n",
    "assert os.path.exists(tmp_dir + h5ad_files_ctrl)\n",
    "assert all([os.path.exists(tmp_dir + x) for x in h5ad_files_atlas])"
   ]
  },
  {
   "cell_type": "markdown",
   "metadata": {},
   "source": [
    "### Prep atlas dataset"
   ]
  },
  {
   "cell_type": "code",
   "execution_count": null,
   "id": "electoral-roulette",
   "metadata": {},
   "outputs": [],
   "source": [
    "adata_atlas_ls = [sc.read_h5ad(tmp_dir + f) for f in h5ad_files_atlas]\n",
    "for a in adata_atlas_ls:\n",
    "    _clean_adata(a)\n",
    "\n",
    "## Concatenate\n",
    "adata_atlas = anndata.concat(adata_atlas_ls)\n",
    "\n",
    "## Make var with gene names\n",
    "adata_atlas.var['gene_id'] = adata_atlas.var_names.values\n",
    "adata_atlas.var['gene_name'] = [a for a in adata_atlas_ls if 'feature_name' in a.var.columns][0].var['feature_name']\n",
    "\n",
    "## Exclude 3 donors with Smart-seq2 data\n",
    "adata_atlas = adata_atlas[adata_atlas.obs['assay'] != 'Smart-seq2'].copy()\n",
    "\n",
    "## Fix dataset naming\n",
    "adata_atlas.obs['dataset_id'] = [x[0] for x in adata_atlas.obs['dataset_id'].str.split(\"_innate\")]\n",
    "adata_atlas.obs['dataset_id'] = [x[0] for x in adata_atlas.obs['dataset_id'].str.split(\"_adaptive\")]"
   ]
  },
  {
   "cell_type": "markdown",
   "metadata": {},
   "source": [
    "### Prep COVID dataset"
   ]
  },
  {
   "cell_type": "code",
   "execution_count": null,
   "id": "rapid-morning",
   "metadata": {},
   "outputs": [
    {
     "data": {
      "text/plain": [
       "AnnData object with n_obs × n_vars = 48083 × 24727\n",
       "    obs: 'sex', 'tissue', 'ethnicity', 'disease', 'assay', 'assay_ontology_term_id', 'sample_id', 'donor_id', 'dataset_id', 'development_stage', 'cell_type', 'n_genes_by_counts', 'log1p_n_genes_by_counts', 'total_counts', 'log1p_total_counts', 'pct_counts_in_top_50_genes', 'pct_counts_in_top_100_genes', 'pct_counts_in_top_200_genes', 'pct_counts_in_top_500_genes', 'n_counts'\n",
       "    var: 'feature_biotype', 'n_cells_by_counts', 'mean_counts', 'log1p_mean_counts', 'pct_dropout_by_counts', 'total_counts', 'log1p_total_counts'"
      ]
     },
     "metadata": {},
     "output_type": "display_data"
    }
   ],
   "source": [
    "adata_covid = sc.read_h5ad(tmp_dir + h5ad_files_covid)\n",
    "_clean_adata(adata_covid)"
   ]
  },
  {
   "cell_type": "markdown",
   "metadata": {},
   "source": [
    "### Prep control dataset"
   ]
  },
  {
   "cell_type": "code",
   "execution_count": null,
   "id": "further-agriculture",
   "metadata": {},
   "outputs": [
    {
     "data": {
      "text/plain": [
       "AnnData object with n_obs × n_vars = 14426 × 24727\n",
       "    obs: 'sex', 'tissue', 'ethnicity', 'disease', 'assay', 'assay_ontology_term_id', 'sample_id', 'donor_id', 'dataset_id', 'development_stage', 'cell_type', 'n_genes_by_counts', 'log1p_n_genes_by_counts', 'total_counts', 'log1p_total_counts', 'pct_counts_in_top_50_genes', 'pct_counts_in_top_100_genes', 'pct_counts_in_top_200_genes', 'pct_counts_in_top_500_genes', 'n_counts'\n",
       "    var: 'feature_biotype', 'n_cells_by_counts', 'mean_counts', 'log1p_mean_counts', 'pct_dropout_by_counts', 'total_counts', 'log1p_total_counts'"
      ]
     },
     "metadata": {},
     "output_type": "display_data"
    }
   ],
   "source": [
    "adata_ctrl = sc.read_h5ad(tmp_dir + h5ad_files_ctrl)\n",
    "_clean_adata(adata_ctrl)"
   ]
  },
  {
   "cell_type": "code",
   "execution_count": null,
   "id": "external-mortgage",
   "metadata": {},
   "outputs": [],
   "source": [
    "## Save datasets\n",
    "outdir = '/lustre/scratch117/cellgen/team205/ed6/PBMC_COVID/'\n",
    "if not os.path.exists(outdir):\n",
    "    os.mkdir(outdir)"
   ]
  },
  {
   "cell_type": "code",
   "execution_count": null,
   "id": "about-limitation",
   "metadata": {},
   "outputs": [],
   "source": [
    "adata_atlas.obs['donor_id'] = adata_atlas.obs['donor_id'].astype(\"str\").astype(\"category\")\n",
    "adata_covid.obs['donor_id'] = adata_covid.obs['donor_id'].astype(\"str\").astype(\"category\")\n",
    "adata_ctrl.obs['donor_id'] = adata_ctrl.obs['donor_id'].astype(\"str\").astype(\"category\")\n",
    "adata_atlas.var['gene_id'] = adata_atlas.var['gene_id'].astype(\"category\")"
   ]
  },
  {
   "cell_type": "code",
   "execution_count": null,
   "id": "patient-vegetarian",
   "metadata": {},
   "outputs": [],
   "source": [
    "adata_atlas.write_h5ad(outdir + 'PBMC_COVID.subsample500cells.atlas.h5ad')\n",
    "adata_covid.write_h5ad(outdir + 'PBMC_COVID.subsample500cells.covid.h5ad')\n",
    "adata_ctrl.write_h5ad(outdir + 'PBMC_COVID.subsample500cells.ctrl.h5ad')"
   ]
  }
 ],
 "metadata": {
  "kernelspec": {
   "display_name": "Python 3",
   "language": "python",
   "name": "python3"
  },
  "language_info": {
   "codemirror_mode": {
    "name": "ipython",
    "version": 3
   },
   "file_extension": ".py",
   "mimetype": "text/x-python",
   "name": "python",
   "nbconvert_exporter": "python",
   "pygments_lexer": "ipython3",
   "version": "3.8.8"
  },
  "orig_nbformat": 4
 },
 "nbformat": 4,
 "nbformat_minor": 2
}
