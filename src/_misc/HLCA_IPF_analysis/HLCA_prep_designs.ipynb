{
 "cells": [
  {
   "cell_type": "markdown",
   "id": "laden-florida",
   "metadata": {},
   "source": [
    "# Disease-state discovery on HLCA - prepare datasets\n",
    "\n",
    "In this notebook we compare reference designs for disease-state identification on the dataset from [Adams et al](https://www.science.org/doi/10.1126/sciadv.aba1983), using trained models from the [Human Lung Cell Atlas](https://www.biorxiv.org/content/10.1101/2022.03.10.483747v1.full). \n",
    "\n",
    "- Model repository: https://zenodo.org/record/6337966/#.Yzv65ezMK3J\n",
    "- Extended HLCA data objects: https://beta.fastgenomics.org/datasets/detail-dataset-427f1eee6dd44f50bae1ab13f0f3c6a9#Files\n"
   ]
  },
  {
   "cell_type": "code",
   "execution_count": 1,
   "id": "permanent-nudist",
   "metadata": {},
   "outputs": [],
   "source": [
    "import numpy as np\n",
    "import pandas as pd\n",
    "import scanpy as sc\n",
    "\n",
    "import oor_benchmark\n",
    "\n",
    "import matplotlib\n",
    "import matplotlib.pyplot as plt\n",
    "import seaborn as sns"
   ]
  },
  {
   "cell_type": "code",
   "execution_count": 3,
   "id": "rural-walnut",
   "metadata": {},
   "outputs": [],
   "source": [
    "## r2py setup\n",
    "import rpy2.rinterface_lib.callbacks\n",
    "import logging\n",
    "rpy2.rinterface_lib.callbacks.logger.setLevel(logging.ERROR)\n"
   ]
  },
  {
   "cell_type": "code",
   "execution_count": 4,
   "id": "intelligent-surprise",
   "metadata": {},
   "outputs": [],
   "source": [
    "%load_ext rpy2.ipython"
   ]
  },
  {
   "cell_type": "code",
   "execution_count": 5,
   "id": "organic-respect",
   "metadata": {},
   "outputs": [
    {
     "name": "stderr",
     "output_type": "stream",
     "text": [
      "\u001b[0;1;31mSystem has not been booted with systemd as init system (PID 1). Can't operate.\u001b[0m\n",
      "\u001b[0;1;31mFailed to create bus connection: Host is down\u001b[0m\n"
     ]
    }
   ],
   "source": [
    "%%R\n",
    "library(tidyverse)\n",
    "library(patchwork)\n",
    "\n",
    "remove_x_axis <- function(){\n",
    "  theme(axis.text.x = element_blank(), axis.ticks.x = element_blank(), axis.title.x = element_blank())  \n",
    "}\n",
    "\n",
    "remove_y_axis <- function(){\n",
    "  theme(axis.text.y = element_blank(), axis.ticks.y = element_blank(), axis.title.y = element_blank())  \n",
    "}"
   ]
  },
  {
   "cell_type": "markdown",
   "id": "worst-advocate",
   "metadata": {},
   "source": [
    "## Download data and trained models \n",
    "\n",
    "From Zenodo repository"
   ]
  },
  {
   "cell_type": "code",
   "execution_count": 3,
   "id": "civilian-queue",
   "metadata": {},
   "outputs": [
    {
     "name": "stdout",
     "output_type": "stream",
     "text": [
      "Downloading scArches embeddings from zenodo\n"
     ]
    },
    {
     "name": "stderr",
     "output_type": "stream",
     "text": [
      "2022-10-04 09:55:03 URL:https://zenodo.org/record/6337966/files/HLCA_extended_models_and_embs.zip [380368487/380368487] -> \"HLCA_extended_models_and_embs.zip\" [1]\n"
     ]
    },
    {
     "name": "stdout",
     "output_type": "stream",
     "text": [
      "Archive:  HLCA_extended_models_and_embs.zip\n",
      "   creating: HLCA_extended_models_and_embs/\n",
      "   creating: HLCA_extended_models_and_embs/surgery_output_embeddings/\n",
      "   creating: HLCA_extended_models_and_embs/surgery_models/\n",
      "  inflating: HLCA_extended_models_and_embs/surgery_output_embeddings/KULeuven_Thienpont_2018Lambrechts_v2_emb_LCAv2.h5ad  \n",
      "  inflating: HLCA_extended_models_and_embs/surgery_output_embeddings/Sims_2019_emb_LCAv2.h5ad  \n",
      "  inflating: HLCA_extended_models_and_embs/surgery_output_embeddings/Lafyatis_Rojas_2019_disease_emb_LCAv2.h5ad  \n",
      "  inflating: HLCA_extended_models_and_embs/surgery_output_embeddings/Budinger_2021_emb_LCAv2.h5ad  \n",
      "  inflating: HLCA_extended_models_and_embs/surgery_output_embeddings/Shalek_2018_emb_LCAv2.h5ad  \n",
      "  inflating: HLCA_extended_models_and_embs/surgery_output_embeddings/Wunderink_2021_cryo_emb_LCAv2.h5ad  \n",
      "  inflating: HLCA_extended_models_and_embs/surgery_output_embeddings/Eils_2020_emb_LCAv2.h5ad  \n",
      "  inflating: HLCA_extended_models_and_embs/surgery_output_embeddings/Banovich_Kropski_2020_emb_LCAv2_no_surgery.h5ad  \n",
      "  inflating: HLCA_extended_models_and_embs/surgery_output_embeddings/Meyer_2021_3prime_emb_LCAv2.h5ad  \n",
      "  inflating: HLCA_extended_models_and_embs/surgery_output_embeddings/Kaminski_2020_emb_LCAv2.h5ad  \n",
      "  inflating: HLCA_extended_models_and_embs/surgery_output_embeddings/Guo_2020_LAM1_3_emb_LCAv2.h5ad  \n",
      "  inflating: HLCA_extended_models_and_embs/surgery_output_embeddings/KULeuven_Thienpont_2018Lambrechts_v1_emb_LCAv2.h5ad  \n",
      "  inflating: HLCA_extended_models_and_embs/surgery_output_embeddings/Duong_lungMAP_unpubl_emb_LCAv2.h5ad  \n",
      "  inflating: HLCA_extended_models_and_embs/surgery_output_embeddings/Gomperts_2021_CSMC_emb_LCAv2.h5ad  \n",
      "  inflating: HLCA_extended_models_and_embs/surgery_output_embeddings/Zhang_2021_emb_LCAv2.h5ad  \n",
      "  inflating: HLCA_extended_models_and_embs/surgery_output_embeddings/Meyer_2021_5prime_emb_LCAv2.h5ad  \n",
      "  inflating: HLCA_extended_models_and_embs/surgery_output_embeddings/Barbry_unpubl_emb_LCAv2.h5ad  \n",
      "  inflating: HLCA_extended_models_and_embs/surgery_output_embeddings/Janssen_2020_emb_LCAv2.h5ad  \n",
      "  inflating: HLCA_extended_models_and_embs/surgery_output_embeddings/Lambrechts_2021_emb_LCAv2.h5ad  \n",
      "  inflating: HLCA_extended_models_and_embs/surgery_output_embeddings/Wunderink_2021_fresh_emb_LCAv2.h5ad  \n",
      "  inflating: HLCA_extended_models_and_embs/surgery_output_embeddings/Peer_Massague_2020_emb_LCAv2.h5ad  \n",
      "  inflating: HLCA_extended_models_and_embs/surgery_output_embeddings/Regev_2021_Nuclei_emb_LCAv2.h5ad  \n",
      "  inflating: HLCA_extended_models_and_embs/surgery_output_embeddings/Gomperts2021_UCLA_emb_LCAv2.h5ad  \n",
      "  inflating: HLCA_extended_models_and_embs/surgery_output_embeddings/Regev_2021_Fresh_emb_LCAv2.h5ad  \n",
      "  inflating: HLCA_extended_models_and_embs/surgery_output_embeddings/Sun_2020_batch1_emb_LCAv2.h5ad  \n",
      "  inflating: HLCA_extended_models_and_embs/surgery_output_embeddings/Sheppard_2020_emb_LCAv2.h5ad  \n",
      "  inflating: HLCA_extended_models_and_embs/surgery_output_embeddings/Schiller_2021_emb_LCAv2.h5ad  \n",
      "  inflating: HLCA_extended_models_and_embs/surgery_output_embeddings/Sun_2020_batch3_emb_LCAv2.h5ad  \n",
      "  inflating: HLCA_extended_models_and_embs/surgery_output_embeddings/Sun_2020_batch4_emb_LCAv2.h5ad  \n",
      "  inflating: HLCA_extended_models_and_embs/surgery_output_embeddings/Misharin_Budinger_2018_emb_LCAv2_no_surgery.h5ad  \n",
      "  inflating: HLCA_extended_models_and_embs/surgery_output_embeddings/Gomperts_2021_CFF_emb_LCAv2.h5ad  \n",
      "  inflating: HLCA_extended_models_and_embs/surgery_output_embeddings/Regev_2021_Cryo_emb_LCAv2.h5ad  \n",
      "  inflating: HLCA_extended_models_and_embs/surgery_output_embeddings/Sun_2020_batch2_emb_LCAv2.h5ad  \n",
      "  inflating: HLCA_extended_models_and_embs/surgery_output_embeddings/Schiller_2020_emb_LCAv2.h5ad  \n",
      "   creating: HLCA_extended_models_and_embs/surgery_models/Gomperts_2021_CFF/\n",
      "   creating: HLCA_extended_models_and_embs/surgery_models/KULeuven_Thienpont_2018Lambrechts_v2/\n",
      "   creating: HLCA_extended_models_and_embs/surgery_models/Wunderink_2021_fresh/\n",
      "   creating: HLCA_extended_models_and_embs/surgery_models/Regev_2021_Fresh/\n",
      "   creating: HLCA_extended_models_and_embs/surgery_models/Duong_lungMAP_unpubl/\n",
      "   creating: HLCA_extended_models_and_embs/surgery_models/Wunderink_2021_cryo/\n",
      "   creating: HLCA_extended_models_and_embs/surgery_models/Schiller_2021/\n",
      "   creating: HLCA_extended_models_and_embs/surgery_models/Lambrechts_2021/\n",
      "   creating: HLCA_extended_models_and_embs/surgery_models/Sheppard_2020/\n",
      "   creating: HLCA_extended_models_and_embs/surgery_models/Regev_2021_Cryo/\n",
      "   creating: HLCA_extended_models_and_embs/surgery_models/Regev_2021_Nuclei/\n",
      "   creating: HLCA_extended_models_and_embs/surgery_models/Schiller_2020/\n",
      "   creating: HLCA_extended_models_and_embs/surgery_models/Sun_2020_batch2/\n",
      "   creating: HLCA_extended_models_and_embs/surgery_models/Zhang_2021/\n",
      "   creating: HLCA_extended_models_and_embs/surgery_models/old/\n",
      "   creating: HLCA_extended_models_and_embs/surgery_models/Sun_2020_batch4/\n",
      "   creating: HLCA_extended_models_and_embs/surgery_models/Sun_2020_batch3/\n",
      "   creating: HLCA_extended_models_and_embs/surgery_models/Barbry_unpubl/\n",
      "   creating: HLCA_extended_models_and_embs/surgery_models/Budinger_2021/\n",
      "   creating: HLCA_extended_models_and_embs/surgery_models/Peer_Massague_2020/\n",
      "   creating: HLCA_extended_models_and_embs/surgery_models/Eils_2020/\n",
      "   creating: HLCA_extended_models_and_embs/surgery_models/Meyer_2021_5prime/\n",
      "   creating: HLCA_extended_models_and_embs/surgery_models/Kaminski_2020/\n",
      "   creating: HLCA_extended_models_and_embs/surgery_models/KULeuven_Thienpont_2018Lambrechts_v1/\n",
      "   creating: HLCA_extended_models_and_embs/surgery_models/Sims_2019/\n",
      "   creating: HLCA_extended_models_and_embs/surgery_models/Lafyatis_Rojas_2019_disease/\n",
      "   creating: HLCA_extended_models_and_embs/surgery_models/Shalek_2018/\n",
      "   creating: HLCA_extended_models_and_embs/surgery_models/Guo_2020_LAM1_3/\n",
      "   creating: HLCA_extended_models_and_embs/surgery_models/Meyer_2021_3prime/\n",
      "   creating: HLCA_extended_models_and_embs/surgery_models/Gomperts2021_UCLA/\n",
      "   creating: HLCA_extended_models_and_embs/surgery_models/Gomperts_2021_CSMC/\n",
      "   creating: HLCA_extended_models_and_embs/surgery_models/Janssen_2020/\n",
      "   creating: HLCA_extended_models_and_embs/surgery_models/Sun_2020_batch1/\n",
      "  inflating: HLCA_extended_models_and_embs/surgery_models/Gomperts_2021_CFF/var_names.csv  \n",
      "  inflating: HLCA_extended_models_and_embs/surgery_models/Gomperts_2021_CFF/model_params.pt  \n",
      "  inflating: HLCA_extended_models_and_embs/surgery_models/Gomperts_2021_CFF/attr.pkl  \n",
      "  inflating: HLCA_extended_models_and_embs/surgery_models/KULeuven_Thienpont_2018Lambrechts_v2/var_names.csv  \n",
      "  inflating: HLCA_extended_models_and_embs/surgery_models/KULeuven_Thienpont_2018Lambrechts_v2/model_params.pt  \n",
      "  inflating: HLCA_extended_models_and_embs/surgery_models/KULeuven_Thienpont_2018Lambrechts_v2/attr.pkl  \n",
      "  inflating: HLCA_extended_models_and_embs/surgery_models/Wunderink_2021_fresh/var_names.csv  \n",
      "  inflating: HLCA_extended_models_and_embs/surgery_models/Wunderink_2021_fresh/model_params.pt  \n",
      "  inflating: HLCA_extended_models_and_embs/surgery_models/Wunderink_2021_fresh/attr.pkl  \n",
      "  inflating: HLCA_extended_models_and_embs/surgery_models/Regev_2021_Fresh/var_names.csv  \n",
      "  inflating: HLCA_extended_models_and_embs/surgery_models/Regev_2021_Fresh/model_params.pt  \n",
      "  inflating: HLCA_extended_models_and_embs/surgery_models/Regev_2021_Fresh/attr.pkl  \n",
      "  inflating: HLCA_extended_models_and_embs/surgery_models/Duong_lungMAP_unpubl/var_names.csv  \n",
      "  inflating: HLCA_extended_models_and_embs/surgery_models/Duong_lungMAP_unpubl/model_params.pt  \n",
      "  inflating: HLCA_extended_models_and_embs/surgery_models/Duong_lungMAP_unpubl/attr.pkl  \n",
      "  inflating: HLCA_extended_models_and_embs/surgery_models/Wunderink_2021_cryo/var_names.csv  \n",
      "  inflating: HLCA_extended_models_and_embs/surgery_models/Wunderink_2021_cryo/model_params.pt  \n",
      "  inflating: HLCA_extended_models_and_embs/surgery_models/Wunderink_2021_cryo/attr.pkl  \n",
      "  inflating: HLCA_extended_models_and_embs/surgery_models/Schiller_2021/var_names.csv  \n",
      "  inflating: HLCA_extended_models_and_embs/surgery_models/Schiller_2021/model_params.pt  \n",
      "  inflating: HLCA_extended_models_and_embs/surgery_models/Schiller_2021/attr.pkl  \n",
      "  inflating: HLCA_extended_models_and_embs/surgery_models/Lambrechts_2021/var_names.csv  \n",
      "  inflating: HLCA_extended_models_and_embs/surgery_models/Lambrechts_2021/model_params.pt  \n",
      "  inflating: HLCA_extended_models_and_embs/surgery_models/Lambrechts_2021/attr.pkl  \n",
      "  inflating: HLCA_extended_models_and_embs/surgery_models/Sheppard_2020/var_names.csv  \n",
      "  inflating: HLCA_extended_models_and_embs/surgery_models/Sheppard_2020/model_params.pt  \n",
      "  inflating: HLCA_extended_models_and_embs/surgery_models/Sheppard_2020/attr.pkl  \n",
      "  inflating: HLCA_extended_models_and_embs/surgery_models/Regev_2021_Cryo/var_names.csv  \n",
      "  inflating: HLCA_extended_models_and_embs/surgery_models/Regev_2021_Cryo/model_params.pt  \n",
      "  inflating: HLCA_extended_models_and_embs/surgery_models/Regev_2021_Cryo/attr.pkl  \n",
      "  inflating: HLCA_extended_models_and_embs/surgery_models/Regev_2021_Nuclei/var_names.csv  \n",
      "  inflating: HLCA_extended_models_and_embs/surgery_models/Regev_2021_Nuclei/model_params.pt  \n",
      "  inflating: HLCA_extended_models_and_embs/surgery_models/Regev_2021_Nuclei/attr.pkl  \n",
      "  inflating: HLCA_extended_models_and_embs/surgery_models/Schiller_2020/var_names.csv  \n",
      "  inflating: HLCA_extended_models_and_embs/surgery_models/Schiller_2020/model_params.pt  \n",
      "  inflating: HLCA_extended_models_and_embs/surgery_models/Schiller_2020/attr.pkl  \n",
      "  inflating: HLCA_extended_models_and_embs/surgery_models/Sun_2020_batch2/var_names.csv  \n",
      "  inflating: HLCA_extended_models_and_embs/surgery_models/Sun_2020_batch2/model_params.pt  \n",
      "  inflating: HLCA_extended_models_and_embs/surgery_models/Sun_2020_batch2/attr.pkl  \n",
      "  inflating: HLCA_extended_models_and_embs/surgery_models/Zhang_2021/var_names.csv  \n",
      "  inflating: HLCA_extended_models_and_embs/surgery_models/Zhang_2021/model_params.pt  \n",
      "  inflating: HLCA_extended_models_and_embs/surgery_models/Zhang_2021/attr.pkl  \n",
      "   creating: HLCA_extended_models_and_embs/surgery_models/old/lambrechts/\n",
      "   creating: HLCA_extended_models_and_embs/surgery_models/old/meyer/\n",
      "  inflating: HLCA_extended_models_and_embs/surgery_models/Sun_2020_batch4/var_names.csv  \n",
      "  inflating: HLCA_extended_models_and_embs/surgery_models/Sun_2020_batch4/model_params.pt  \n",
      "  inflating: HLCA_extended_models_and_embs/surgery_models/Sun_2020_batch4/attr.pkl  \n",
      "  inflating: HLCA_extended_models_and_embs/surgery_models/Sun_2020_batch3/var_names.csv  \n",
      "  inflating: HLCA_extended_models_and_embs/surgery_models/Sun_2020_batch3/model_params.pt  \n",
      "  inflating: HLCA_extended_models_and_embs/surgery_models/Sun_2020_batch3/attr.pkl  \n",
      "  inflating: HLCA_extended_models_and_embs/surgery_models/Barbry_unpubl/var_names.csv  \n",
      "  inflating: HLCA_extended_models_and_embs/surgery_models/Barbry_unpubl/model_params.pt  \n",
      "  inflating: HLCA_extended_models_and_embs/surgery_models/Barbry_unpubl/attr.pkl  \n",
      "  inflating: HLCA_extended_models_and_embs/surgery_models/Budinger_2021/var_names.csv  \n",
      "  inflating: HLCA_extended_models_and_embs/surgery_models/Budinger_2021/model_params.pt  \n",
      "  inflating: HLCA_extended_models_and_embs/surgery_models/Budinger_2021/attr.pkl  \n",
      "  inflating: HLCA_extended_models_and_embs/surgery_models/Peer_Massague_2020/var_names.csv  \n",
      "  inflating: HLCA_extended_models_and_embs/surgery_models/Peer_Massague_2020/model_params.pt  \n",
      "  inflating: HLCA_extended_models_and_embs/surgery_models/Peer_Massague_2020/attr.pkl  \n",
      "  inflating: HLCA_extended_models_and_embs/surgery_models/Eils_2020/var_names.csv  \n",
      "  inflating: HLCA_extended_models_and_embs/surgery_models/Eils_2020/model_params.pt  \n",
      "  inflating: HLCA_extended_models_and_embs/surgery_models/Eils_2020/attr.pkl  \n",
      "  inflating: HLCA_extended_models_and_embs/surgery_models/Meyer_2021_5prime/var_names.csv  \n",
      "  inflating: HLCA_extended_models_and_embs/surgery_models/Meyer_2021_5prime/model_params.pt  \n",
      "  inflating: HLCA_extended_models_and_embs/surgery_models/Meyer_2021_5prime/attr.pkl  \n",
      "  inflating: HLCA_extended_models_and_embs/surgery_models/Kaminski_2020/var_names.csv  \n",
      "  inflating: HLCA_extended_models_and_embs/surgery_models/Kaminski_2020/model_params.pt  \n",
      "  inflating: HLCA_extended_models_and_embs/surgery_models/Kaminski_2020/attr.pkl  \n",
      "  inflating: HLCA_extended_models_and_embs/surgery_models/KULeuven_Thienpont_2018Lambrechts_v1/var_names.csv  \n",
      "  inflating: HLCA_extended_models_and_embs/surgery_models/KULeuven_Thienpont_2018Lambrechts_v1/model_params.pt  \n",
      "  inflating: HLCA_extended_models_and_embs/surgery_models/KULeuven_Thienpont_2018Lambrechts_v1/attr.pkl  \n",
      "  inflating: HLCA_extended_models_and_embs/surgery_models/Sims_2019/var_names.csv  \n",
      "  inflating: HLCA_extended_models_and_embs/surgery_models/Sims_2019/model_params.pt  \n",
      "  inflating: HLCA_extended_models_and_embs/surgery_models/Sims_2019/attr.pkl  \n",
      "  inflating: HLCA_extended_models_and_embs/surgery_models/Lafyatis_Rojas_2019_disease/var_names.csv  \n",
      "  inflating: HLCA_extended_models_and_embs/surgery_models/Lafyatis_Rojas_2019_disease/model_params.pt  \n",
      "  inflating: HLCA_extended_models_and_embs/surgery_models/Lafyatis_Rojas_2019_disease/attr.pkl  \n",
      "  inflating: HLCA_extended_models_and_embs/surgery_models/Shalek_2018/var_names.csv  \n",
      "  inflating: HLCA_extended_models_and_embs/surgery_models/Shalek_2018/model_params.pt  \n",
      "  inflating: HLCA_extended_models_and_embs/surgery_models/Shalek_2018/attr.pkl  \n",
      "  inflating: HLCA_extended_models_and_embs/surgery_models/Guo_2020_LAM1_3/var_names.csv  \n",
      "  inflating: HLCA_extended_models_and_embs/surgery_models/Guo_2020_LAM1_3/model_params.pt  \n",
      "  inflating: HLCA_extended_models_and_embs/surgery_models/Guo_2020_LAM1_3/attr.pkl  \n",
      "  inflating: HLCA_extended_models_and_embs/surgery_models/Meyer_2021_3prime/var_names.csv  \n",
      "  inflating: HLCA_extended_models_and_embs/surgery_models/Meyer_2021_3prime/model_params.pt  \n",
      "  inflating: HLCA_extended_models_and_embs/surgery_models/Meyer_2021_3prime/attr.pkl  \n",
      "  inflating: HLCA_extended_models_and_embs/surgery_models/Gomperts2021_UCLA/var_names.csv  \n",
      "  inflating: HLCA_extended_models_and_embs/surgery_models/Gomperts2021_UCLA/model_params.pt  \n",
      "  inflating: HLCA_extended_models_and_embs/surgery_models/Gomperts2021_UCLA/attr.pkl  \n",
      "  inflating: HLCA_extended_models_and_embs/surgery_models/Gomperts_2021_CSMC/var_names.csv  \n",
      "  inflating: HLCA_extended_models_and_embs/surgery_models/Gomperts_2021_CSMC/model_params.pt  \n",
      "  inflating: HLCA_extended_models_and_embs/surgery_models/Gomperts_2021_CSMC/attr.pkl  \n",
      "  inflating: HLCA_extended_models_and_embs/surgery_models/Janssen_2020/var_names.csv  \n",
      "  inflating: HLCA_extended_models_and_embs/surgery_models/Janssen_2020/model_params.pt  \n",
      "  inflating: HLCA_extended_models_and_embs/surgery_models/Janssen_2020/attr.pkl  \n",
      "  inflating: HLCA_extended_models_and_embs/surgery_models/Sun_2020_batch1/var_names.csv  \n",
      "  inflating: HLCA_extended_models_and_embs/surgery_models/Sun_2020_batch1/model_params.pt  \n",
      "  inflating: HLCA_extended_models_and_embs/surgery_models/Sun_2020_batch1/attr.pkl  \n",
      "  inflating: HLCA_extended_models_and_embs/surgery_models/old/lambrechts/var_names.csv  \n",
      "  inflating: HLCA_extended_models_and_embs/surgery_models/old/lambrechts/model_params.pt  \n",
      "  inflating: HLCA_extended_models_and_embs/surgery_models/old/lambrechts/attr.pkl  \n",
      "  inflating: HLCA_extended_models_and_embs/surgery_models/old/meyer/var_names.csv  \n",
      "  inflating: HLCA_extended_models_and_embs/surgery_models/old/meyer/model_params.pt  \n",
      "  inflating: HLCA_extended_models_and_embs/surgery_models/old/meyer/attr.pkl  \n"
     ]
    }
   ],
   "source": [
    "%%bash\n",
    "cd /lustre/scratch117/cellgen/team205/ed6/HLCA/\n",
    "\n",
    "## Download extended HLCA embeddings \n",
    "if ! [ -d Kaminski_2020_emb_LCAv2.h5ad ];\n",
    "    then echo \"Downloading scArches embeddings from zenodo\"\n",
    "    wget -nv https://zenodo.org/record/6337966/files/HLCA_extended_models_and_embs.zip\n",
    "    unzip HLCA_extended_models_and_embs.zip\n",
    "    rm HLCA_extended_models_and_embs.zip\n",
    "fi"
   ]
  },
  {
   "cell_type": "markdown",
   "id": "greatest-wednesday",
   "metadata": {},
   "source": [
    "## Prepare ACR design\n",
    "\n",
    "Use control and condition mapped to HLCA core (from original pub). Full gene expression matrix was downloaded from the original publication."
   ]
  },
  {
   "cell_type": "code",
   "execution_count": null,
   "id": "voluntary-width",
   "metadata": {},
   "outputs": [],
   "source": [
    "# Objects processed by Amanda\n",
    "datadir = '/lustre/scratch117/cellgen/team205/ed6/HLCA/'\n",
    "h5ad_file = '/nfs/team205/ao15/Adult_lung_MadissoonOliver/Kaminski2020_COPD/Kaminski_2020_HLCAlabeltransfer.h5ad'\n",
    "adata = sc.read_h5ad(h5ad_file, backed=False)\n",
    "adata_hlca = sc.read_h5ad(datadir + \"Kaminski_2020_emb_LCAv2.annotated.h5ad\", backed=True)\n",
    "## Keep cells analysed in HLCA\n",
    "adata = adata[adata_hlca.obs_names.str.strip(\"_adams\")].copy()\n",
    "adata.obsm = adata_hlca.obsm.copy()\n",
    "adata.obsp = adata_hlca.obsp.copy()\n",
    "adata.write_h5ad(datadir + \"Kaminski_2020_emb_LCAv2.annotated.with_counts.h5ad\")"
   ]
  },
  {
   "cell_type": "code",
   "execution_count": 73,
   "id": "crazy-teens",
   "metadata": {},
   "outputs": [],
   "source": [
    "datadir = '/lustre/scratch117/cellgen/team205/ed6/HLCA/'\n",
    "adata = sc.read_h5ad(datadir + \"Kaminski_2020_emb_LCAv2.annotated.with_counts.h5ad\")\n",
    "\n",
    "## Set IDs to var_names\n",
    "adata.var['gene_name'] = adata.var.index.values\n",
    "adata.var_names = adata.var['Ensembl_GeneID']\n",
    "\n",
    "## Renamer\n",
    "rename_obs_cols = {\n",
    "    'Library_Identity':'sample',\n",
    "    'Subject_Identity':'individual', \n",
    "    'Disease_Identity':'disease'\n",
    "}\n",
    "\n",
    "adata.obs = adata.obs.rename(rename_obs_cols, axis=1)\n",
    "\n",
    "## Get label uncertainty from original HLCA study\n",
    "full_file = '/lustre/scratch117/cellgen/team205/ed6/HLCA/HLCA_v1_extended_raw_counts_2000hvgs.h5ad' ## Downloaded from FastGenomics\n",
    "full_adata = sc.read_h5ad(full_file, backed='r')\n",
    "\n",
    "adata.obs['HLCA_label_transfer_uncertainty']  = full_adata.obs.loc[adata.obs_names + \"_adams\"]['ext_transf_uncert_level_5'].values\n",
    "\n",
    "## Add labels to train scANVI model for CR design\n",
    "adata.obs['scanvi_labels'] = full_adata.obs.loc[adata.obs_names + \"_adams\"]['original_ann_level_2'].values"
   ]
  },
  {
   "cell_type": "markdown",
   "id": "civic-focus",
   "metadata": {},
   "source": [
    "Save ACR design object"
   ]
  },
  {
   "cell_type": "code",
   "execution_count": 79,
   "id": "administrative-florist",
   "metadata": {},
   "outputs": [],
   "source": [
    "adata.write_h5ad(data_dir + \"Kaminski_2020_oor_design.ACR.h5ad\")"
   ]
  },
  {
   "cell_type": "code",
   "execution_count": 44,
   "id": "legal-airplane",
   "metadata": {},
   "outputs": [],
   "source": [
    "full_adatair = '/lustre/scratch117/cellgen/team205/ed6/HLCA/'\n",
    "# emb_file = '/lustre/scratch117/cellgen/team205/ed6/HLCA/HLCA_extended_models_and_embs/surgery_output_embeddings/Kaminski_2020_emb_LCAv2.h5ad'\n",
    "# full_file = '/lustre/scratch117/cellgen/team205/ed6/HLCA/HLCA_v1_extended_raw_counts_2000hvgs.h5ad' ## Downloaded from FastGenomics\n",
    "# full_adata = sc.read_h5ad(full_file, backed='r')\n",
    "\n",
    "# query_adata = sc.read_h5ad(emb_file)\n",
    "\n",
    "# ## Get obs for Kaminski_2020\n",
    "# query_adata.obs = full_adata.obs[full_adata.obs_names.isin(query_adata.obs_names)].copy()\n",
    "\n",
    "# ## Exclude cols that are all NAs for this dataset\n",
    "# non_na_obs_columns = query_adata.obs.columns[\n",
    "#     ((query_adata.obs == 'nan').sum() < query_adata.n_obs) &\n",
    "#     (query_adata.obs.isna().sum() < query_adata.n_obs)\n",
    "# ].tolist()\n",
    "\n",
    "# ## Remove obs that are the same for all cells\n",
    "# ## (move to uns)\n",
    "# dataset_meta = {}\n",
    "# keep_obs_columns = []\n",
    "# for col in non_na_obs_columns:\n",
    "#     if query_adata.obs[col].unique().shape[0] == 1:\n",
    "#         dataset_meta[col] = query_adata.obs[col].unique()[0]\n",
    "#     else:\n",
    "#         keep_obs_columns.append(col)\n",
    "        \n",
    "# ## Remove HLCA analysis columns\n",
    "# keep_obs_columns = [x for x in keep_obs_columns if not x.startswith('ext_transf')]\n",
    "\n",
    "# ## Keep column for label transfer uncertainty score used in HLCA ms\n",
    "# keep_obs_columns.append('ext_transf_uncert_level_5')\n",
    "\n",
    "\n",
    "# query_adata.obs = query_adata.obs[keep_obs_columns].copy()\n",
    "# for c in query_adata.obs.columns:\n",
    "#     if query_adata.obs[c].dtype == 'category':\n",
    "#         query_adata.obs[c] = query_adata.obs[c].cat.remove_unused_categories()\n",
    "# query_adata.obsm['X_scVI'] = query_adata.X.copy()\n",
    "# query_adata.uns['dataset_metadata'] = dataset_meta.copy()\n",
    "\n",
    "# ## Renamer\n",
    "# rename_obs_cols = {\n",
    "#     'subject_ID':'individual', \n",
    "#     'condition':'disease', \n",
    "#     'ext_transf_uncert_level_5':'HLCA_label_transfer_uncertainty'\n",
    "# }\n",
    "\n",
    "# query_adata.obs = query_adata.obs.rename(rename_obs_cols, axis=1)\n",
    "\n",
    "# ## Read gene expression matrix (downloaded from original pub)\n",
    "# adata_gex = sc.read_h5ad('/nfs/team205/ao15/Adult_lung_MadissoonOliver/Kaminski2020_COPD/Kaminski_2020_HLCAlabeltransfer.h5ad')\n",
    "\n",
    "# query_adata.X = adata_gex[query_adata.obs_names.str.strip(\"_adams\")].X.copy()\n",
    "# query_adata.obs['Celltype_HLCA'] = adata_gex[query_adata.obs_names.str.strip(\"_adams\")].obs['Celltype_HLCA'].values"
   ]
  },
  {
   "cell_type": "markdown",
   "id": "several-track",
   "metadata": {},
   "source": [
    "## Prepare AR design"
   ]
  },
  {
   "cell_type": "code",
   "execution_count": 6,
   "id": "split-sperm",
   "metadata": {},
   "outputs": [],
   "source": [
    "data_dir = '/lustre/scratch117/cellgen/team205/ed6/HLCA/'\n",
    "acr_adata = sc.read_h5ad(data_dir + \"Kaminski_2020_oor_design.ACR.h5ad\", backed=True)"
   ]
  },
  {
   "cell_type": "code",
   "execution_count": 7,
   "id": "magnetic-group",
   "metadata": {},
   "outputs": [],
   "source": [
    "full_file = '/lustre/scratch117/cellgen/team205/ed6/HLCA/HLCA_v1_extended_raw_counts_2000hvgs.h5ad' ## Downloaded from FastGenomics\n",
    "full_adata = sc.read_h5ad(full_file, backed='r')"
   ]
  },
  {
   "cell_type": "code",
   "execution_count": 8,
   "id": "loved-listing",
   "metadata": {},
   "outputs": [],
   "source": [
    "## Subset to core atlas and Kaminski\n",
    "keep_obs = full_adata.obs_names[(full_adata.obs['HLCA_core_or_extension'] == 'core') | (full_adata.obs['study'] == 'Kaminski_2020')]\n",
    "adata = full_adata[keep_obs].to_memory()\n",
    "\n",
    "## Renamer\n",
    "rename_obs_cols = {\n",
    "    'subject_ID':'individual', \n",
    "    'condition':'disease', \n",
    "    'ext_transf_uncert_level_5':'HLCA_label_transfer_uncertainty'\n",
    "}\n",
    "\n",
    "adata.obs = adata.obs.rename(rename_obs_cols, axis=1)"
   ]
  },
  {
   "cell_type": "code",
   "execution_count": 17,
   "id": "approximate-alexandria",
   "metadata": {},
   "outputs": [],
   "source": [
    "## Store annotation\n",
    "adata.obs['Celltype_HLCA'] = np.nan\n",
    "adata.obs.loc[adata.obs['HLCA_core_or_extension'] == 'core', 'Celltype_HLCA'] = adata.obs.loc[adata.obs['HLCA_core_or_extension'] == 'core', 'ann_finest_level']\n",
    "\n",
    "kaminski_cells = adata.obs_names[adata.obs['HLCA_core_or_extension'] != 'core']\n",
    "adata.obs.loc[kaminski_cells, 'Celltype_HLCA'] = acr_adata.obs.loc[kaminski_cells.str.strip(\"_adams\"),'Celltype_HLCA'].values"
   ]
  },
  {
   "cell_type": "code",
   "execution_count": 18,
   "id": "ahead-easter",
   "metadata": {},
   "outputs": [],
   "source": [
    "keep_obs = ['individual', 'sample', 'disease', 'study', 'HLCA_core_or_extension', 'Celltype_HLCA', 'HLCA_label_transfer_uncertainty']"
   ]
  },
  {
   "cell_type": "code",
   "execution_count": 19,
   "id": "continent-rwanda",
   "metadata": {},
   "outputs": [],
   "source": [
    "adata.obs = adata.obs[keep_obs]"
   ]
  },
  {
   "cell_type": "code",
   "execution_count": 20,
   "id": "apart-geology",
   "metadata": {},
   "outputs": [],
   "source": [
    "## Store joint embedding\n",
    "emb_adata = sc.read_h5ad(data_dir + \"HLCA_emb_and_metadata.h5ad\", backed=False)\n",
    "\n",
    "X_scVI_core = emb_adata[adata.obs_names[adata.obs['HLCA_core_or_extension'] == 'core']].X.copy()\n",
    "X_scVI_kaminski = acr_adata[kaminski_cells.str.strip(\"_adams\")].obsm['X_scVI'].copy()\n",
    "\n",
    "assert all(np.hstack([adata.obs_names[adata.obs['HLCA_core_or_extension'] == 'core'], kaminski_cells]) == adata.obs_names)\n",
    "adata.obsm['X_scVI'] = np.vstack([X_scVI_core, X_scVI_kaminski])"
   ]
  },
  {
   "cell_type": "code",
   "execution_count": 21,
   "id": "timely-disclosure",
   "metadata": {},
   "outputs": [
    {
     "data": {
      "text/plain": [
       "AnnData object with n_obs × n_vars = 892534 × 2000\n",
       "    obs: 'individual', 'sample', 'disease', 'study', 'HLCA_core_or_extension', 'Celltype_HLCA', 'HLCA_label_transfer_uncertainty'\n",
       "    uns: 'ann_finest_level_colors', 'ann_level_1_core_transferred_colors'\n",
       "    obsm: 'X_umap', 'X_scVI'"
      ]
     },
     "execution_count": 21,
     "metadata": {},
     "output_type": "execute_result"
    }
   ],
   "source": [
    "adata"
   ]
  },
  {
   "cell_type": "code",
   "execution_count": 30,
   "id": "integrated-prefix",
   "metadata": {},
   "outputs": [],
   "source": [
    "## Clean disease assingment\n",
    "adata.obs['disease'] = np.where(adata.obs['disease'].isin(['healthy', 'nan', 'Control', \"Healthy\", 'had TB as a child (fully treated over 30+ years)']), 'Control', adata.obs['disease'])\n",
    "adata.obs['disease'] = adata.obs['disease'].astype(\"category\").cat.reorder_categories(\n",
    "    ['non-small cell lung cancer', 'carcinoid','worsening respiratory function prior to arrest', \"Control\",'COPD', 'IPF'])"
   ]
  },
  {
   "cell_type": "code",
   "execution_count": 31,
   "id": "sensitive-morris",
   "metadata": {},
   "outputs": [],
   "source": [
    "adata.write_h5ad(data_dir + \"Kaminski_2020_oor_design.AR.h5ad\")"
   ]
  },
  {
   "cell_type": "code",
   "execution_count": 52,
   "id": "micro-cabinet",
   "metadata": {},
   "outputs": [
    {
     "name": "stdout",
     "output_type": "stream",
     "text": [
      "         n_donors  n_cells\n",
      "disease                   \n",
      "IPF            32   144404\n",
      "Control        28    95303\n",
      "COPD           18    67943\n"
     ]
    },
    {
     "name": "stderr",
     "output_type": "stream",
     "text": [
      "/tmp/ipykernel_51420/1809269403.py:3: FutureWarning: In a future version of pandas all arguments of concat except for the argument 'objs' will be keyword-only.\n",
      "  df = pd.concat([n_donors, n_cells], 1)\n"
     ]
    }
   ],
   "source": [
    "n_donors = acr_adata.obs[['disease', 'individual']].drop_duplicates().value_counts('disease')\n",
    "n_cells = acr_adata.obs[['disease', 'individual']].value_counts('disease')\n",
    "df = pd.concat([n_donors, n_cells], 1)\n",
    "df.columns = ['n_donors', 'n_cells']\n",
    "print(df)"
   ]
  },
  {
   "cell_type": "code",
   "execution_count": 41,
   "id": "emerging-wichita",
   "metadata": {},
   "outputs": [
    {
     "name": "stdout",
     "output_type": "stream",
     "text": [
      "# cells\n"
     ]
    },
    {
     "data": {
      "text/plain": [
       "disease\n",
       "IPF        144404\n",
       "Control     95303\n",
       "COPD        67943\n",
       "dtype: int64"
      ]
     },
     "execution_count": 41,
     "metadata": {},
     "output_type": "execute_result"
    }
   ],
   "source": [
    "print(\"# cells\")\n"
   ]
  },
  {
   "cell_type": "markdown",
   "id": "reduced-wales",
   "metadata": {},
   "source": [
    "## Prep CR design"
   ]
  },
  {
   "cell_type": "code",
   "execution_count": 158,
   "id": "vietnamese-pricing",
   "metadata": {},
   "outputs": [],
   "source": [
    "cr_adata = sc.read_h5ad(data_dir + \"Kaminski_2020_oor_design.ACR.h5ad\", backed=False)"
   ]
  },
  {
   "cell_type": "code",
   "execution_count": 171,
   "id": "mysterious-publisher",
   "metadata": {},
   "outputs": [
    {
     "name": "stderr",
     "output_type": "stream",
     "text": [
      "--2023-01-11 17:44:48--  https://raw.githubusercontent.com/LungCellAtlas/HLCA_reproducibility/main/notebooks/3_atlas_extension/HLCA_extension_data_preprocessing/genes_for_mapping.csv\n",
      "Resolving raw.githubusercontent.com (raw.githubusercontent.com)... 185.199.108.133, 185.199.109.133, 185.199.111.133, ...\n",
      "Connecting to raw.githubusercontent.com (raw.githubusercontent.com)|185.199.108.133|:443... connected.\n",
      "HTTP request sent, awaiting response... 200 OK\n",
      "Length: 45063 (44K) [text/plain]\n",
      "Saving to: ‘genes_for_mapping.csv.1’\n",
      "\n",
      "     0K .......... .......... .......... .......... ....      100% 15.7M=0.003s\n",
      "\n",
      "2023-01-11 17:44:48 (15.7 MB/s) - ‘genes_for_mapping.csv.1’ saved [45063/45063]\n",
      "\n"
     ]
    }
   ],
   "source": [
    "%%bash\n",
    "cd /lustre/scratch117/cellgen/team205/ed6/HLCA/\n",
    "wget https://raw.githubusercontent.com/LungCellAtlas/HLCA_reproducibility/main/notebooks/3_atlas_extension/HLCA_extension_data_preprocessing/genes_for_mapping.csv"
   ]
  },
  {
   "cell_type": "code",
   "execution_count": 179,
   "id": "specialized-dependence",
   "metadata": {},
   "outputs": [],
   "source": [
    "## Use the same HVGs used in core\n",
    "genes_for_mapping = pd.read_csv(data_dir+'genes_for_mapping.csv',index_col=0)\n",
    "cr_adata.var['mapping_gene'] = cr_adata.var_names.isin(genes_for_mapping.index)"
   ]
  },
  {
   "cell_type": "code",
   "execution_count": 190,
   "id": "distinguished-spring",
   "metadata": {},
   "outputs": [],
   "source": [
    "cr_adata.obs['dataset'] = 'Kaminski_2020'"
   ]
  },
  {
   "cell_type": "code",
   "execution_count": 215,
   "id": "pursuant-rebound",
   "metadata": {},
   "outputs": [],
   "source": [
    "cr_adata.write_h5ad(data_dir + \"Kaminski_2020_oor_design.CR.h5ad\")"
   ]
  },
  {
   "cell_type": "markdown",
   "id": "military-needle",
   "metadata": {},
   "source": [
    "We generate a common latent embedding between control and disease dataset running the script `train_CR_design.py` "
   ]
  },
  {
   "cell_type": "raw",
   "id": "conceptual-vehicle",
   "metadata": {},
   "source": [
    "# with scVI (de novo integration)\n",
    "echo \"python train_CR_design.py\" | bsub -G teichlab -o logfile-HLCA-%J.out -e logfile-HLCA-%J.err -q gpu-normal -M150000 -R \"select[mem>150000] rusage[mem=150000]\" -gpu \"mode=shared:j_exclusive=no:gmem=6000:num=1\" \n",
    "\n",
    "# with scArches (query mapping)\n",
    "echo \"python train_CR_design_scArches.py\" | bsub -G teichlab -o logfile-HLCA-%J.out -e logfile-HLCA-%J.err -q gpu-normal -M150000 -R \"select[mem>150000] rusage[mem=150000]\" -gpu \"mode=shared:j_exclusive=no:gmem=6000:num=1\" "
   ]
  }
 ],
 "metadata": {
  "kernelspec": {
   "display_name": "Python (oor-benchmark)",
   "language": "python",
   "name": "oor-benchmark"
  },
  "language_info": {
   "codemirror_mode": {
    "name": "ipython",
    "version": 3
   },
   "file_extension": ".py",
   "mimetype": "text/x-python",
   "name": "python",
   "nbconvert_exporter": "python",
   "pygments_lexer": "ipython3",
   "version": "3.10.6"
  }
 },
 "nbformat": 4,
 "nbformat_minor": 5
}
