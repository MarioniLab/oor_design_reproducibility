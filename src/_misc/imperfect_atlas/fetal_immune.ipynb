{
 "cells": [
  {
   "cell_type": "markdown",
   "id": "cardiovascular-crown",
   "metadata": {},
   "source": [
    "## Fetal lung on pan-fetal immune"
   ]
  },
  {
   "cell_type": "code",
   "execution_count": 1,
   "id": "surrounded-sentence",
   "metadata": {
    "vscode": {
     "languageId": "python"
    }
   },
   "outputs": [],
   "source": [
    "%load_ext autoreload\n",
    "%autoreload 2"
   ]
  },
  {
   "cell_type": "code",
   "execution_count": 2,
   "id": "advance-fiction",
   "metadata": {
    "vscode": {
     "languageId": "python"
    }
   },
   "outputs": [],
   "source": [
    "import os,sys\n",
    "import glob\n",
    "import scanpy as sc \n",
    "import pandas as pd\n",
    "import numpy as np\n",
    "import milopy\n",
    "import scipy\n",
    "import anndata\n",
    "\n",
    "import seaborn as sns\n",
    "import matplotlib\n",
    "import matplotlib.pyplot as plt\n",
    "\n",
    "sns.set_context('talk')\n",
    "from matplotlib.pyplot import rc_context\n",
    "\n",
    "import milopy\n",
    "import milopy.core as milo"
   ]
  },
  {
   "cell_type": "code",
   "execution_count": 3,
   "id": "acceptable-waters",
   "metadata": {},
   "outputs": [],
   "source": [
    "# from oor_benchmark.metrics import auprc, FDR_TPR_FPR"
   ]
  },
  {
   "cell_type": "code",
   "execution_count": 4,
   "id": "balanced-assets",
   "metadata": {
    "vscode": {
     "languageId": "python"
    }
   },
   "outputs": [],
   "source": [
    "## r2py setup\n",
    "import rpy2.rinterface_lib.callbacks\n",
    "import logging\n",
    "rpy2.rinterface_lib.callbacks.logger.setLevel(logging.ERROR)"
   ]
  },
  {
   "cell_type": "code",
   "execution_count": 5,
   "id": "blessed-concentration",
   "metadata": {
    "vscode": {
     "languageId": "python"
    }
   },
   "outputs": [],
   "source": [
    "%load_ext rpy2.ipython"
   ]
  },
  {
   "cell_type": "code",
   "execution_count": 6,
   "id": "powerful-regression",
   "metadata": {
    "vscode": {
     "languageId": "python"
    }
   },
   "outputs": [
    {
     "name": "stderr",
     "output_type": "stream",
     "text": [
      "\u001b[0;1;31mSystem has not been booted with systemd as init system (PID 1). Can't operate.\u001b[0m\n",
      "\u001b[0;1;31mFailed to create bus connection: Host is down\u001b[0m\n"
     ]
    }
   ],
   "source": [
    "%%R\n",
    "library(tidyverse)"
   ]
  },
  {
   "cell_type": "code",
   "execution_count": 7,
   "id": "roman-terry",
   "metadata": {},
   "outputs": [],
   "source": [
    "## Some utils\n",
    "\n",
    "def _plot_nhood_sizes(adata, bins=50, **kwargs):\n",
    "    plt.hist(np.array(adata.obsm['nhoods'].sum(0)).ravel(), bins=bins, **kwargs);\n",
    "    plt.xlabel('# cells');plt.ylabel('# nhoods');\n",
    "    \n",
    "def get_nhood_adata(adata):\n",
    "    return(adata.uns['nhood_adata'])\n",
    "\n",
    "def get_cells_from_nhood(adata, i):\n",
    "    return((adata.obsm['nhoods'][:,i].toarray() == 1).flatten())\n",
    "\n",
    "def remove_x_axis(ax):\n",
    "    ax.xaxis.set_major_locator(matplotlib.ticker.NullLocator());\n",
    "    ax.set_xlabel('');\n",
    "\n",
    "def remove_y_axis(ax):\n",
    "    ax.yaxis.set_major_locator(matplotlib.ticker.NullLocator());\n",
    "    ax.set_ylabel('');\n",
    "    \n",
    "def make_ct_label(label):\n",
    "    return(' '.join(label.split('_')))"
   ]
  },
  {
   "cell_type": "code",
   "execution_count": 8,
   "id": "objective-seminar",
   "metadata": {},
   "outputs": [
    {
     "data": {
      "text/html": [
       "<svg  width=\"660\" height=\"55\"><rect x=\"0\" y=\"0\" width=\"55\" height=\"55\" style=\"fill:#a6cee3;stroke-width:2;stroke:rgb(255,255,255)\"/><rect x=\"55\" y=\"0\" width=\"55\" height=\"55\" style=\"fill:#1f78b4;stroke-width:2;stroke:rgb(255,255,255)\"/><rect x=\"110\" y=\"0\" width=\"55\" height=\"55\" style=\"fill:#b2df8a;stroke-width:2;stroke:rgb(255,255,255)\"/><rect x=\"165\" y=\"0\" width=\"55\" height=\"55\" style=\"fill:#33a02c;stroke-width:2;stroke:rgb(255,255,255)\"/><rect x=\"220\" y=\"0\" width=\"55\" height=\"55\" style=\"fill:#fb9a99;stroke-width:2;stroke:rgb(255,255,255)\"/><rect x=\"275\" y=\"0\" width=\"55\" height=\"55\" style=\"fill:#e31a1c;stroke-width:2;stroke:rgb(255,255,255)\"/><rect x=\"330\" y=\"0\" width=\"55\" height=\"55\" style=\"fill:#fdbf6f;stroke-width:2;stroke:rgb(255,255,255)\"/><rect x=\"385\" y=\"0\" width=\"55\" height=\"55\" style=\"fill:#ff7f00;stroke-width:2;stroke:rgb(255,255,255)\"/><rect x=\"440\" y=\"0\" width=\"55\" height=\"55\" style=\"fill:#cab2d6;stroke-width:2;stroke:rgb(255,255,255)\"/><rect x=\"495\" y=\"0\" width=\"55\" height=\"55\" style=\"fill:#6a3d9a;stroke-width:2;stroke:rgb(255,255,255)\"/><rect x=\"550\" y=\"0\" width=\"55\" height=\"55\" style=\"fill:#ffff99;stroke-width:2;stroke:rgb(255,255,255)\"/><rect x=\"605\" y=\"0\" width=\"55\" height=\"55\" style=\"fill:#b15928;stroke-width:2;stroke:rgb(255,255,255)\"/></svg>"
      ],
      "text/plain": [
       "[(0.6509803921568628, 0.807843137254902, 0.8901960784313725),\n",
       " (0.12156862745098039, 0.47058823529411764, 0.7058823529411765),\n",
       " (0.6980392156862745, 0.8745098039215686, 0.5411764705882353),\n",
       " (0.2, 0.6274509803921569, 0.17254901960784313),\n",
       " (0.984313725490196, 0.6039215686274509, 0.6),\n",
       " (0.8901960784313725, 0.10196078431372549, 0.10980392156862745),\n",
       " (0.9921568627450981, 0.7490196078431373, 0.43529411764705883),\n",
       " (1.0, 0.4980392156862745, 0.0),\n",
       " (0.792156862745098, 0.6980392156862745, 0.8392156862745098),\n",
       " (0.41568627450980394, 0.23921568627450981, 0.6039215686274509),\n",
       " (1.0, 1.0, 0.6),\n",
       " (0.6941176470588235, 0.34901960784313724, 0.1568627450980392)]"
      ]
     },
     "execution_count": 8,
     "metadata": {},
     "output_type": "execute_result"
    }
   ],
   "source": [
    "sns.color_palette('Paired')"
   ]
  },
  {
   "cell_type": "code",
   "execution_count": 9,
   "id": "daily-uzbekistan",
   "metadata": {},
   "outputs": [],
   "source": [
    "## Define color palette\n",
    "pal = sns.color_palette('Paired').as_hex()\n",
    "design_palette = {'ACR':pal[3], 'CR':pal[7], 'AR':pal[9], 'joint_CR':pal[6]}\n",
    "design_palette_df = pd.DataFrame(design_palette.values(), index =design_palette.keys() )\n",
    "design_palette_df.columns = ['color']"
   ]
  },
  {
   "cell_type": "code",
   "execution_count": 10,
   "id": "material-hydrogen",
   "metadata": {},
   "outputs": [],
   "source": [
    "# figdir = '/home/jovyan/mount/gdrive/diff2atlas/figures/pbmc_design_comparison_Embedding_methods/'\n",
    "# if not os.path.exists(figdir):\n",
    "#     os.mkdir(figdir)"
   ]
  },
  {
   "cell_type": "code",
   "execution_count": 11,
   "id": "aware-constitutional",
   "metadata": {},
   "outputs": [],
   "source": [
    "# %%R -i design_palette_df -i figdir\n",
    "# design_palette = setNames(design_palette_df$color, rownames(design_palette_df))"
   ]
  },
  {
   "cell_type": "markdown",
   "id": "gorgeous-release",
   "metadata": {},
   "source": [
    "## Prep atlas dataset \n",
    "\n",
    "Downloaded from [here](https://cellgeni.cog.sanger.ac.uk/developmentcellatlas/fetal-immune/PAN.A01.v01.raw_count.20210429.PFI.embedding.h5ad)"
   ]
  },
  {
   "cell_type": "code",
   "execution_count": 12,
   "id": "pressed-force",
   "metadata": {},
   "outputs": [],
   "source": [
    "## Subsample by sample\n",
    "np.random.seed(2345)\n",
    "\n",
    "def _subsample(adata, sample_col, n_cells_sample = 1000):\n",
    "    s_obs = pd.Series() \n",
    "    for s in adata.obs[sample_col].unique():\n",
    "        s_obs_i = adata.obs_names[adata.obs[sample_col] == s]\n",
    "        if s_obs_i.shape[0] > n_cells_sample:\n",
    "            obs_df = adata.obs.loc[s_obs_i]\n",
    "            obs_df[sample_col] = obs_df[sample_col].astype('str')\n",
    "            s_obs_i = obs_df[[sample_col]].groupby(\n",
    "                sample_col).sample(n_cells_sample).index\n",
    "        s_obs = pd.concat([s_obs, pd.Series(s_obs_i)])\n",
    "    s_obs = s_obs.values\n",
    "    return(s_obs)"
   ]
  },
  {
   "cell_type": "code",
   "execution_count": 13,
   "id": "tender-microwave",
   "metadata": {},
   "outputs": [],
   "source": [
    "h5ad_file = '/nfs/team205/ed6/data/Fetal_immune/cellxgene_h5ad_files/scRNA_data/PAN.A01.v01.raw_count.20210429.PFI.embedding.h5ad'\n",
    "adata_atlas = sc.read_h5ad(h5ad_file, backed=True)"
   ]
  },
  {
   "cell_type": "code",
   "execution_count": 14,
   "id": "blank-cuisine",
   "metadata": {},
   "outputs": [
    {
     "name": "stderr",
     "output_type": "stream",
     "text": [
      "/tmp/ipykernel_15629/2809032511.py:5: FutureWarning: The default dtype for empty Series will be 'object' instead of 'float64' in a future version. Specify a dtype explicitly to silence this warning.\n",
      "  s_obs = pd.Series()\n"
     ]
    }
   ],
   "source": [
    "## Remove low Q\n",
    "lowQ_clusters = [\n",
    "    \"DOUBLET_IMMUNE_FIBROBLAST\",\n",
    "    \"LOW_Q_INCONSISTENT\",\n",
    "    \"DOUBLET_LYMPHOID_MACROPHAGE\",\n",
    "    \"LOW_QUALITY\",\n",
    "    \"HIGH_MITO\",\n",
    "    \"DOUBLETS_FIBRO_ERY\",\n",
    "    \"DOUBLET_ENDOTHELIUM_ERYTHROCYTE\",\n",
    "    \"DOUBLET_ERY_B\",\n",
    "    \"LOW_QUALITY_MACROPHAGE\",\n",
    "    \"LOW_QUALITY_MID_ERY_(HIGH_RIBO)\",\n",
    "    \"PLACENTAL_CONTAMINANTS\",\n",
    "    \"DOUBLET\",\n",
    "    ]\n",
    "\n",
    "keep_obs = adata_atlas.obs_names[\n",
    "    (~adata_atlas.obs['organ'].isna()) & # remove maternal contaminants\n",
    "    (~adata_atlas.obs['celltype_annotation'].isin(lowQ_clusters)) &  # remove low quality\n",
    "    (adata_atlas.obs['age'] >= 14) # Filter by age\n",
    "] \n",
    "\n",
    "keep_obs = _subsample(adata_atlas[keep_obs], sample_col='Sample', n_cells_sample=2000)"
   ]
  },
  {
   "cell_type": "code",
   "execution_count": 15,
   "id": "usual-delicious",
   "metadata": {},
   "outputs": [
    {
     "data": {
      "text/plain": [
       "191830"
      ]
     },
     "execution_count": 15,
     "metadata": {},
     "output_type": "execute_result"
    }
   ],
   "source": [
    "len(keep_obs)"
   ]
  },
  {
   "cell_type": "code",
   "execution_count": 16,
   "id": "intensive-snowboard",
   "metadata": {},
   "outputs": [],
   "source": [
    "adata_atlas = adata_atlas[keep_obs].to_memory()"
   ]
  },
  {
   "cell_type": "code",
   "execution_count": 17,
   "id": "valid-perry",
   "metadata": {},
   "outputs": [
    {
     "name": "stdout",
     "output_type": "stream",
     "text": [
      "--- Atlas ---\n",
      "# donors: 11\n",
      "# samples: 99\n"
     ]
    }
   ],
   "source": [
    "print('--- Atlas ---')\n",
    "print('# donors:', adata_atlas.obs['donor'].nunique())\n",
    "print('# samples:', adata_atlas.obs['Sample'].nunique())"
   ]
  },
  {
   "cell_type": "markdown",
   "id": "substantial-foster",
   "metadata": {},
   "source": [
    "## Prep case-control dataset\n",
    "\n",
    "Downloaded from [cellxgene](https://cellxgene.cziscience.com/collections/2d2e2acd-dade-489f-a2da-6c11aa654028)"
   ]
  },
  {
   "cell_type": "code",
   "execution_count": 18,
   "id": "informative-increase",
   "metadata": {},
   "outputs": [],
   "source": [
    "h5ad_file = '/nfs/team205/ed6/data/He2020_fetal_lung.h5ad'\n",
    "adata_query = sc.read_h5ad(h5ad_file, backed=True)"
   ]
  },
  {
   "cell_type": "code",
   "execution_count": 19,
   "id": "green-awareness",
   "metadata": {},
   "outputs": [
    {
     "name": "stderr",
     "output_type": "stream",
     "text": [
      "/tmp/ipykernel_15629/2809032511.py:5: FutureWarning: The default dtype for empty Series will be 'object' instead of 'float64' in a future version. Specify a dtype explicitly to silence this warning.\n",
      "  s_obs = pd.Series()\n"
     ]
    }
   ],
   "source": [
    "query_ages = ['18th week post-fertilization human stage', \n",
    " '22nd week post-fertilization human stage', \n",
    " '15th week post-fertilization human stage', \n",
    " '20th week post-fertilization human stage', \n",
    " ]\n",
    "\n",
    "keep_obs = adata_query.obs_names[\n",
    "    adata_query.obs['development_stage'].isin(query_ages)\n",
    "]\n",
    "\n",
    "keep_obs = _subsample(adata_query[keep_obs], sample_col='batch', n_cells_sample=1000)"
   ]
  },
  {
   "cell_type": "code",
   "execution_count": 20,
   "id": "local-facial",
   "metadata": {},
   "outputs": [],
   "source": [
    "adata_query = adata_query[keep_obs].to_memory()"
   ]
  },
  {
   "cell_type": "code",
   "execution_count": 21,
   "id": "inappropriate-productivity",
   "metadata": {},
   "outputs": [
    {
     "name": "stdout",
     "output_type": "stream",
     "text": [
      "--- Query ---\n",
      "# donors: 8\n",
      "# samples: 22\n"
     ]
    }
   ],
   "source": [
    "print('--- Query ---')\n",
    "print('# donors:', adata_query.obs['donor_id'].nunique())\n",
    "print('# samples:', adata_query.obs['batch'].nunique())"
   ]
  },
  {
   "cell_type": "markdown",
   "id": "practical-depression",
   "metadata": {},
   "source": [
    "Uniform metadata"
   ]
  },
  {
   "cell_type": "code",
   "execution_count": 23,
   "id": "laden-senate",
   "metadata": {},
   "outputs": [],
   "source": [
    "adata_query.obs['method'] = '5GEX'\n",
    "adata_query.obs['Sample'] = adata_query.obs['batch'].copy()\n",
    "adata_query.obs['donor'] = adata_query.obs['donor_id'].copy()"
   ]
  },
  {
   "cell_type": "code",
   "execution_count": 31,
   "id": "biological-technician",
   "metadata": {},
   "outputs": [],
   "source": [
    "## Set ensemblIDs to var names\n",
    "adata_atlas.var_names = adata_atlas.var['GeneID'].values"
   ]
  },
  {
   "cell_type": "code",
   "execution_count": 37,
   "id": "adjustable-arkansas",
   "metadata": {},
   "outputs": [],
   "source": [
    "## Keep common vars\n",
    "adata_query = adata_query[:, np.intersect1d(adata_query.var_names, adata_atlas.var_names)].copy()\n",
    "adata_atlas = adata_atlas[:, np.intersect1d(adata_query.var_names, adata_atlas.var_names)].copy()"
   ]
  },
  {
   "cell_type": "markdown",
   "id": "acceptable-laundry",
   "metadata": {},
   "source": [
    "### Save for simulations"
   ]
  },
  {
   "cell_type": "code",
   "execution_count": 38,
   "id": "cognitive-warning",
   "metadata": {},
   "outputs": [],
   "source": [
    "adata_atlas.write_h5ad('/lustre/scratch117/cellgen/team205/ed6/OOR_benchmark_fetal/PFI_atlas.subsampled.h5ad')\n",
    "adata_query.write_h5ad('/lustre/scratch117/cellgen/team205/ed6/OOR_benchmark_fetal/FL_query.subsampled.h5ad')"
   ]
  },
  {
   "cell_type": "markdown",
   "id": "tight-solution",
   "metadata": {},
   "source": [
    "### Simulate disease"
   ]
  },
  {
   "cell_type": "code",
   "execution_count": 45,
   "id": "plastic-combination",
   "metadata": {},
   "outputs": [],
   "source": [
    "from oor_benchmark.datasets.simulation import simulate_query_reference"
   ]
  },
  {
   "cell_type": "code",
   "execution_count": null,
   "id": "dominant-reason",
   "metadata": {},
   "outputs": [],
   "source": []
  }
 ],
 "metadata": {
  "kernelspec": {
   "display_name": "Python (oor-benchmark)",
   "language": "python",
   "name": "oor-benchmark"
  },
  "language_info": {
   "codemirror_mode": {
    "name": "ipython",
    "version": 3
   },
   "file_extension": ".py",
   "mimetype": "text/x-python",
   "name": "python",
   "nbconvert_exporter": "python",
   "pygments_lexer": "ipython3",
   "version": "3.10.6"
  }
 },
 "nbformat": 4,
 "nbformat_minor": 5
}
