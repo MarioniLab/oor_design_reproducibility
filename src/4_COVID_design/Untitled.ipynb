{
 "cells": [
  {
   "cell_type": "markdown",
   "id": "known-pharmacology",
   "metadata": {},
   "source": [
    "# Application of design best practices to COVID-19 dataset - monocyte follow-up"
   ]
  },
  {
   "cell_type": "code",
   "execution_count": 1,
   "id": "sustainable-celebration",
   "metadata": {},
   "outputs": [],
   "source": [
    "%load_ext autoreload\n",
    "%autoreload 2"
   ]
  },
  {
   "cell_type": "code",
   "execution_count": null,
   "id": "practical-money",
   "metadata": {},
   "outputs": [
    {
     "name": "stderr",
     "output_type": "stream",
     "text": [
      "Global seed set to 0\n"
     ]
    }
   ],
   "source": [
    "import os,sys\n",
    "import scanpy as sc \n",
    "import pandas as pd\n",
    "import numpy as np\n",
    "import milopy\n",
    "import scipy\n",
    "import anndata\n",
    "\n",
    "import scvi\n",
    "import shutil\n",
    "\n",
    "from oor_benchmark.methods.scArches_milo import run_milo\n",
    "\n",
    "import seaborn as sns\n",
    "import matplotlib\n",
    "import matplotlib.pyplot as plt\n",
    "\n",
    "sns.set_context('talk')\n",
    "from matplotlib.pyplot import rc_context"
   ]
  },
  {
   "cell_type": "code",
   "execution_count": 2,
   "id": "racial-campaign",
   "metadata": {},
   "outputs": [],
   "source": [
    "figdir = '/home/jovyan/mount/gdrive/diff2atlas/figures/COVID_analysis/'\n",
    "if not os.path.exists(figdir):\n",
    "    os.mkdir(figdir)\n",
    "sc.settings.figdir = figdir\n"
   ]
  },
  {
   "cell_type": "code",
   "execution_count": 3,
   "id": "czech-people",
   "metadata": {},
   "outputs": [],
   "source": [
    "## r2py setup\n",
    "import rpy2.rinterface_lib.callbacks\n",
    "import logging\n",
    "rpy2.rinterface_lib.callbacks.logger.setLevel(logging.ERROR)\n"
   ]
  },
  {
   "cell_type": "code",
   "execution_count": 6,
   "id": "agricultural-delta",
   "metadata": {},
   "outputs": [],
   "source": [
    "%load_ext rpy2.ipython"
   ]
  },
  {
   "cell_type": "code",
   "execution_count": 7,
   "id": "designing-prison",
   "metadata": {},
   "outputs": [
    {
     "name": "stderr",
     "output_type": "stream",
     "text": [
      "\u001b[0;1;31mSystem has not been booted with systemd as init system (PID 1). Can't operate.\u001b[0m\n",
      "\u001b[0;1;31mFailed to create bus connection: Host is down\u001b[0m\n"
     ]
    }
   ],
   "source": [
    "%%R\n",
    "library(tidyverse)\n",
    "library(reshape2)\n",
    "library(patchwork)\n",
    "library(ggrastr)\n",
    "\n",
    "remove_x_axis <- function(){\n",
    "  theme(axis.text.x = element_blank(), axis.ticks.x = element_blank(), axis.title.x = element_blank())  \n",
    "}\n",
    "\n",
    "remove_y_axis <- function(){\n",
    "  theme(axis.text.y = element_blank(), axis.ticks.y = element_blank(), axis.title.y = element_blank())  \n",
    "}"
   ]
  },
  {
   "cell_type": "code",
   "execution_count": 8,
   "id": "virgin-radical",
   "metadata": {},
   "outputs": [],
   "source": [
    "## Define color palette\n",
    "pal = sns.color_palette('Paired').as_hex()\n",
    "design_palette = {'ACR':pal[3], 'CR':pal[7], 'AR':pal[9], 'joint_CR':pal[6]}\n",
    "design_palette_df = pd.DataFrame(design_palette.values(), index =design_palette.keys() )\n",
    "design_palette_df.columns = ['color']"
   ]
  },
  {
   "cell_type": "code",
   "execution_count": 9,
   "id": "unexpected-miracle",
   "metadata": {},
   "outputs": [],
   "source": [
    "%%R -i design_palette_df -i figdir\n",
    "design_palette = setNames(design_palette_df$color, rownames(design_palette_df))"
   ]
  },
  {
   "cell_type": "code",
   "execution_count": 10,
   "id": "gentle-sampling",
   "metadata": {},
   "outputs": [],
   "source": [
    "from adjustText import adjust_text\n",
    "def gen_mpl_labels(\n",
    "    adata, groupby, exclude=(), ax=None, adjust_kwargs=None, text_kwargs=None\n",
    "):\n",
    "    if adjust_kwargs is None:\n",
    "        adjust_kwargs = {\"text_from_points\": False}\n",
    "    if text_kwargs is None:\n",
    "        text_kwargs = {}\n",
    "\n",
    "    medians = {}\n",
    "\n",
    "    for g, g_idx in adata.obs.groupby(groupby).groups.items():\n",
    "        if g in exclude:\n",
    "            continue\n",
    "        medians[g] = np.median(adata[g_idx].obsm[\"X_umap\"], axis=0)\n",
    "\n",
    "    if ax is None:\n",
    "        texts = [\n",
    "            plt.text(x=x, y=y, s=k, **text_kwargs) for k, (x, y) in medians.items()\n",
    "        ]\n",
    "    else:\n",
    "        texts = [ax.text(x=x, y=y, s=k, **text_kwargs) for k, (x, y) in medians.items()]\n",
    "\n",
    "    adjust_text(texts, **adjust_kwargs)"
   ]
  },
  {
   "cell_type": "code",
   "execution_count": 11,
   "id": "latest-mandate",
   "metadata": {},
   "outputs": [],
   "source": [
    "def plot_w_ggplot(r_fct_str, args, figdir='.', pl_name='plot', pl_width=8, pl_height=8):\n",
    "\n",
    "    import rpy2.robjects.pandas2ri\n",
    "    import rpy2.robjects.numpy2ri\n",
    "    from rpy2.robjects.packages import STAP\n",
    "\n",
    "    r_pkg = STAP(r_fct_str, \"r_pkg\")\n",
    "    #this was needed for the code to run on jhub\n",
    "    #if you have a different version of rpy2 you may not need these two lines\n",
    "    rpy2.robjects.pandas2ri.activate()\n",
    "    rpy2.robjects.numpy2ri.activate()\n",
    "    \n",
    "    # PASS OBJECTS INTO FUNCTION\n",
    "    pl = r_pkg.plot_func(args)\n",
    "    \n",
    "    ggsave_str = '''\n",
    "    save_plot <- function(pl, figdir, pl_name, pl_width, pl_height){\n",
    "        pl + \n",
    "        ggsave(file.path(figdir, paste0(pl_name, \".png\")), width=pl_width, height=pl_height)  +\n",
    "        ggsave(file.path(figdir, paste0(pl_name, \".pdf\")), width=pl_width, height=pl_height)\n",
    "    }\n",
    "    \n",
    "    '''\n",
    "    r_save = STAP(ggsave_str, \"r_save\")\n",
    "    r_save.save_plot(pl, figdir, pl_name=pl_name, pl_width=pl_width, pl_height=pl_height)\n",
    "    "
   ]
  }
 ],
 "metadata": {
  "kernelspec": {
   "display_name": "Python (oor-benchmark)",
   "language": "python",
   "name": "oor-benchmark"
  },
  "language_info": {
   "codemirror_mode": {
    "name": "ipython",
    "version": 3
   },
   "file_extension": ".py",
   "mimetype": "text/x-python",
   "name": "python",
   "nbconvert_exporter": "python",
   "pygments_lexer": "ipython3",
   "version": "3.10.6"
  }
 },
 "nbformat": 4,
 "nbformat_minor": 5
}
