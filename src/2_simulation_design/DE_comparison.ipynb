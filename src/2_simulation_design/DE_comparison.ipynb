{
 "cells": [
  {
   "cell_type": "markdown",
   "id": "elementary-style",
   "metadata": {},
   "source": [
    "## DE analysis comparison"
   ]
  },
  {
   "cell_type": "code",
   "execution_count": 1,
   "id": "stunning-charter",
   "metadata": {
    "vscode": {
     "languageId": "python"
    }
   },
   "outputs": [],
   "source": [
    "%load_ext autoreload\n",
    "%autoreload 2"
   ]
  },
  {
   "cell_type": "code",
   "execution_count": 2,
   "id": "interim-basin",
   "metadata": {
    "vscode": {
     "languageId": "python"
    }
   },
   "outputs": [],
   "source": [
    "import os,sys\n",
    "import scanpy as sc \n",
    "import pandas as pd\n",
    "import numpy as np\n",
    "import milopy\n",
    "import scipy\n",
    "import anndata\n",
    "\n",
    "import seaborn as sns\n",
    "import matplotlib\n",
    "import matplotlib.pyplot as plt\n",
    "\n",
    "sns.set_context('talk')\n",
    "from matplotlib.pyplot import rc_context\n",
    "\n",
    "import milopy\n",
    "import milopy.core as milo"
   ]
  },
  {
   "cell_type": "code",
   "execution_count": 3,
   "id": "western-elephant",
   "metadata": {
    "vscode": {
     "languageId": "python"
    }
   },
   "outputs": [],
   "source": [
    "## r2py setup\n",
    "import rpy2.rinterface_lib.callbacks\n",
    "import logging\n",
    "rpy2.rinterface_lib.callbacks.logger.setLevel(logging.ERROR)"
   ]
  },
  {
   "cell_type": "code",
   "execution_count": 4,
   "id": "introductory-region",
   "metadata": {
    "vscode": {
     "languageId": "python"
    }
   },
   "outputs": [],
   "source": [
    "%load_ext rpy2.ipython"
   ]
  },
  {
   "cell_type": "code",
   "execution_count": 5,
   "id": "ahead-franchise",
   "metadata": {
    "vscode": {
     "languageId": "python"
    }
   },
   "outputs": [
    {
     "name": "stderr",
     "output_type": "stream",
     "text": [
      "\u001b[0;1;31mSystem has not been booted with systemd as init system (PID 1). Can't operate.\u001b[0m\n",
      "\u001b[0;1;31mFailed to create bus connection: Host is down\u001b[0m\n"
     ]
    }
   ],
   "source": [
    "%%R\n",
    "library(tidyverse)"
   ]
  },
  {
   "cell_type": "code",
   "execution_count": 6,
   "id": "dressed-happening",
   "metadata": {
    "vscode": {
     "languageId": "python"
    }
   },
   "outputs": [],
   "source": [
    "## Some utils\n",
    "\n",
    "def _plot_nhood_sizes(adata, bins=50, **kwargs):\n",
    "    plt.hist(np.array(adata.obsm['nhoods'].sum(0)).ravel(), bins=bins, **kwargs);\n",
    "    plt.xlabel('# cells');plt.ylabel('# nhoods');\n",
    "    \n",
    "def get_nhood_adata(adata):\n",
    "    return(adata.uns['nhood_adata'])\n",
    "\n",
    "def get_cells_from_nhood(adata, i):\n",
    "    return((adata.obsm['nhoods'][:,i].toarray() == 1).flatten())\n",
    "\n",
    "def remove_x_axis(ax):\n",
    "    ax.xaxis.set_major_locator(matplotlib.ticker.NullLocator());\n",
    "    ax.set_xlabel('');\n",
    "\n",
    "def remove_y_axis(ax):\n",
    "    ax.yaxis.set_major_locator(matplotlib.ticker.NullLocator());\n",
    "    ax.set_ylabel('');"
   ]
  },
  {
   "cell_type": "code",
   "execution_count": 7,
   "id": "identical-statistics",
   "metadata": {},
   "outputs": [],
   "source": [
    "# figdir = '/home/jovyan/mount/gdrive/diff2atlas/figures/atlas_subsampling/'\n",
    "# if not os.path.exists(figdir):\n",
    "#     os.mkdir(figdir)"
   ]
  },
  {
   "cell_type": "code",
   "execution_count": 8,
   "id": "patent-tomato",
   "metadata": {},
   "outputs": [
    {
     "data": {
      "text/html": [
       "<svg  width=\"660\" height=\"55\"><rect x=\"0\" y=\"0\" width=\"55\" height=\"55\" style=\"fill:#a6cee3;stroke-width:2;stroke:rgb(255,255,255)\"/><rect x=\"55\" y=\"0\" width=\"55\" height=\"55\" style=\"fill:#1f78b4;stroke-width:2;stroke:rgb(255,255,255)\"/><rect x=\"110\" y=\"0\" width=\"55\" height=\"55\" style=\"fill:#b2df8a;stroke-width:2;stroke:rgb(255,255,255)\"/><rect x=\"165\" y=\"0\" width=\"55\" height=\"55\" style=\"fill:#33a02c;stroke-width:2;stroke:rgb(255,255,255)\"/><rect x=\"220\" y=\"0\" width=\"55\" height=\"55\" style=\"fill:#fb9a99;stroke-width:2;stroke:rgb(255,255,255)\"/><rect x=\"275\" y=\"0\" width=\"55\" height=\"55\" style=\"fill:#e31a1c;stroke-width:2;stroke:rgb(255,255,255)\"/><rect x=\"330\" y=\"0\" width=\"55\" height=\"55\" style=\"fill:#fdbf6f;stroke-width:2;stroke:rgb(255,255,255)\"/><rect x=\"385\" y=\"0\" width=\"55\" height=\"55\" style=\"fill:#ff7f00;stroke-width:2;stroke:rgb(255,255,255)\"/><rect x=\"440\" y=\"0\" width=\"55\" height=\"55\" style=\"fill:#cab2d6;stroke-width:2;stroke:rgb(255,255,255)\"/><rect x=\"495\" y=\"0\" width=\"55\" height=\"55\" style=\"fill:#6a3d9a;stroke-width:2;stroke:rgb(255,255,255)\"/><rect x=\"550\" y=\"0\" width=\"55\" height=\"55\" style=\"fill:#ffff99;stroke-width:2;stroke:rgb(255,255,255)\"/><rect x=\"605\" y=\"0\" width=\"55\" height=\"55\" style=\"fill:#b15928;stroke-width:2;stroke:rgb(255,255,255)\"/></svg>"
      ],
      "text/plain": [
       "[(0.6509803921568628, 0.807843137254902, 0.8901960784313725),\n",
       " (0.12156862745098039, 0.47058823529411764, 0.7058823529411765),\n",
       " (0.6980392156862745, 0.8745098039215686, 0.5411764705882353),\n",
       " (0.2, 0.6274509803921569, 0.17254901960784313),\n",
       " (0.984313725490196, 0.6039215686274509, 0.6),\n",
       " (0.8901960784313725, 0.10196078431372549, 0.10980392156862745),\n",
       " (0.9921568627450981, 0.7490196078431373, 0.43529411764705883),\n",
       " (1.0, 0.4980392156862745, 0.0),\n",
       " (0.792156862745098, 0.6980392156862745, 0.8392156862745098),\n",
       " (0.41568627450980394, 0.23921568627450981, 0.6039215686274509),\n",
       " (1.0, 1.0, 0.6),\n",
       " (0.6941176470588235, 0.34901960784313724, 0.1568627450980392)]"
      ]
     },
     "execution_count": 8,
     "metadata": {},
     "output_type": "execute_result"
    }
   ],
   "source": [
    "sns.color_palette('Paired')"
   ]
  },
  {
   "cell_type": "code",
   "execution_count": 9,
   "id": "pressed-might",
   "metadata": {},
   "outputs": [],
   "source": [
    "## Define color palette\n",
    "pal = sns.color_palette('Paired').as_hex()\n",
    "design_palette = {'ACR':pal[3], 'CR':pal[7], 'AR':pal[9], 'joint_CR':pal[6], 'closest_ACR':pal[2], 'random_ACR':pal[8]}\n",
    "design_palette_df = pd.DataFrame(design_palette.values(), index =design_palette.keys() )\n",
    "design_palette_df.columns = ['color']"
   ]
  },
  {
   "cell_type": "code",
   "execution_count": 10,
   "id": "aerial-amount",
   "metadata": {},
   "outputs": [],
   "source": [
    "# %%R -i figdir -i design_palette_df\n",
    "# design_palette = setNames(design_palette_df$color, rownames(design_palette_df))"
   ]
  },
  {
   "cell_type": "code",
   "execution_count": 11,
   "id": "available-liberia",
   "metadata": {},
   "outputs": [],
   "source": [
    "\n",
    "short_pop_names = {\n",
    "    \"DC\":'conventional_dendritic_cell', \n",
    "    \"naive B\":'naive_B_cell',\n",
    "    \"memory B\":'memory_B_cell',\n",
    "    \"CM CD4+T\":'central_memory_CD4_positive_alpha_beta_T_cell', \n",
    "    'plasmablast':'plasmablast',\n",
    "    'platelet':'platelet', \n",
    " \"pDC\":'plasmacytoid_dendritic_cell',\n",
    "     \"neutrophil\":'neutrophil',\n",
    "#     \"cDC\":'conventional_dendritic_cell',\n",
    " 'naive CD4+T':'naive_thymus_derived_CD4_positive_alpha_beta_T_cell',\n",
    "\"classical monocyte\":'classical_monocyte', \n",
    " 'erythrocyte':'erythrocyte',\n",
    "       \"naive CD8+T\":'naive_thymus_derived_CD8_positive_alpha_beta_T_cell',\n",
    "       \"NK\":'natural_killer_cell',\n",
    "       \"EM CD8+T\":'effector_memory_CD8_positive_alpha_beta_T_cell',\n",
    "       'MAIT':'mucosal_invariant_T_cell', \n",
    " 'CD14lo CD16hi monocyte':'CD14_low_CD16_positive_monocyte'}\n",
    "\n",
    "short_pop_names={v:k for k,v in short_pop_names.items()}"
   ]
  },
  {
   "cell_type": "markdown",
   "id": "detected-welsh",
   "metadata": {},
   "source": [
    "## Get marker genes from celltypist"
   ]
  },
  {
   "cell_type": "code",
   "execution_count": 12,
   "id": "macro-prophet",
   "metadata": {},
   "outputs": [],
   "source": [
    "import celltypist"
   ]
  },
  {
   "cell_type": "code",
   "execution_count": 13,
   "id": "working-virgin",
   "metadata": {},
   "outputs": [],
   "source": [
    "# Match cell types \n",
    "celltypist_anno_dict = {\n",
    "'natural_killer_cell':'NK cells',\n",
    " 'memory_B_cell':'Memory B cells',\n",
    " 'central_memory_CD4_positive_alpha_beta_T_cell':'Tem/Effector helper T cells',\n",
    " 'naive_thymus_derived_CD4_positive_alpha_beta_T_cell':'Tcm/Naive helper T cells',\n",
    " 'naive_thymus_derived_CD8_positive_alpha_beta_T_cell':'Tcm/Naive cytotoxic T cells',\n",
    " 'naive_B_cell':'Naive B cells',\n",
    " 'classical_monocyte':'Classical monocytes',\n",
    " 'conventional_dendritic_cell':'DC',\n",
    " 'effector_memory_CD8_positive_alpha_beta_T_cell':'Tem/Effector cytotoxic T cells',\n",
    " 'mucosal_invariant_T_cell':'MAIT cells',\n",
    " 'plasmacytoid_dendritic_cell':'pDC',\n",
    " 'platelet':'Megakaryocytes/platelets',\n",
    " 'plasmablast':'Plasma cells',\n",
    " 'erythrocyte':'Erythrocytes',\n",
    " 'CD14_low_CD16_positive_monocyte':'Non-classical monocytes'\n",
    "}"
   ]
  },
  {
   "cell_type": "code",
   "execution_count": 14,
   "id": "abroad-oliver",
   "metadata": {},
   "outputs": [],
   "source": [
    "# Get celltypist model for immune cells\n",
    "ct_model = celltypist.Model.load('Immune_All_Low.pkl')"
   ]
  },
  {
   "cell_type": "code",
   "execution_count": 15,
   "id": "industrial-status",
   "metadata": {},
   "outputs": [
    {
     "name": "stderr",
     "output_type": "stream",
     "text": [
      "Created a temporary directory at /tmp/tmp0igbly35\n",
      "Writing /tmp/tmp0igbly35/_remote_module_non_scriptable.py\n",
      "Global seed set to 0\n",
      "/home/jovyan/my-conda-envs/oor-benchmark/lib/python3.10/site-packages/pytorch_lightning/utilities/warnings.py:53: LightningDeprecationWarning: pytorch_lightning.utilities.warnings.rank_zero_deprecation has been deprecated in v1.6 and will be removed in v1.8. Use the equivalent function from the pytorch_lightning.utilities.rank_zero module instead.\n",
      "  new_rank_zero_deprecation(\n",
      "/home/jovyan/my-conda-envs/oor-benchmark/lib/python3.10/site-packages/pytorch_lightning/utilities/warnings.py:58: LightningDeprecationWarning: The `pytorch_lightning.loggers.base.rank_zero_experiment` is deprecated in v1.7 and will be removed in v1.9. Please use `pytorch_lightning.loggers.logger.rank_zero_experiment` instead.\n",
      "  return new_rank_zero_deprecation(*args, **kwargs)\n"
     ]
    }
   ],
   "source": [
    "from pynndescent import NNDescent\n",
    "from scipy.sparse import csc_matrix, identity\n",
    "import pickle as pkl\n",
    "from collections import Counter\n",
    "import diff2atlas\n",
    "from diff2atlas.utils import anndata2pseudobulk\n",
    "\n",
    "def _train_weighted_knn(train_adata, outfile: str = None, use_rep: str = \"X_scVI\", n_neighbors: int = 50):\n",
    "    \"\"\"Trains a weighted KNN classifier on ``train_adata.obsm[use_rep]``.\n",
    "\n",
    "    Parameters\n",
    "    ----------\n",
    "    train_adata: AnnData\n",
    "        Annotated dataset to be used to train KNN classifier with ``label_key`` as the target variable.\n",
    "    outfile: str\n",
    "        path to pkl file to save trained model\n",
    "    use_rep: str\n",
    "        Name of the obsm layer to be used for calculation of neighbors. If set to \"X\", anndata.X will be\n",
    "        used (default: X_scVI)\n",
    "    n_neighbors: int\n",
    "        Number of nearest neighbors in KNN classifier.\n",
    "    \"\"\"\n",
    "    print(\n",
    "        f\"Weighted KNN with n_neighbors = {n_neighbors} ... \",\n",
    "        end=\"\",\n",
    "    )\n",
    "    if use_rep == \"X\":\n",
    "        train_emb = train_adata.X\n",
    "    elif use_rep in train_adata.obsm.keys():\n",
    "        train_emb = train_adata.obsm[use_rep]\n",
    "    else:\n",
    "        raise ValueError(\"use_rep should be set to either 'X' or the name of the obsm layer to be used!\")\n",
    "    k_neighbors_transformer = NNDescent(\n",
    "        train_emb,\n",
    "        n_neighbors=n_neighbors,\n",
    "        metric=\"euclidean\",\n",
    "        n_jobs=-1,\n",
    "    )\n",
    "    k_neighbors_transformer.prepare()\n",
    "\n",
    "    if outfile is not None:\n",
    "        with open(outfile, \"wb\") as f:\n",
    "            pkl.dump(k_neighbors_transformer, f)\n",
    "    return k_neighbors_transformer\n",
    "\n",
    "def _pbulk_filter_genes(pbulk_sdata, min_samples = 10, min_counts = 20):\n",
    "    '''Remove sporadically expressed genes'''\n",
    "    n_samples = pbulk_sdata.X.copy()\n",
    "    n_samples[pbulk_sdata.X.nonzero()] = 1\n",
    "    pbulk_sdata.var['tot_samples'] =np.array(n_samples.sum(0)).ravel()\n",
    "    pbulk_sdata.var['tot_counts'] = np.array(pbulk_sdata.X.sum(0)).ravel()\n",
    "    return(pbulk_sdata[:,(pbulk_sdata.var['tot_counts'] > min_counts) & (pbulk_sdata.var['tot_samples'] > min_samples)])\n",
    "\n",
    "def run_glmGamPoi_DE(pbulk_adata, \n",
    "                     design = '~ Site + nhood_groups',\n",
    "                    ref_level = 'in_nhoods_other',\n",
    "                    contrast = 'nhood_groupsin_nhoods_critical',\n",
    "                     n_hvgs = 5000):\n",
    "    '''\n",
    "    Run R code for DE analysis with glmGamPoi\n",
    "    \n",
    "    Params:\n",
    "    ------\n",
    "    - pbulk_adata: anndata object with pseudobulked data\n",
    "    \n",
    "    '''\n",
    "    \n",
    "    ## Define R function\n",
    "    glmgampoi_str = f'''\n",
    "        library(SingleCellExperiment)\n",
    "        library(glmGamPoi)\n",
    "        library(scran)\n",
    "        library(scater)\n",
    "\n",
    "        run_de <- function(args){{\n",
    "            pbulk_sdata_X <- args[[1]]\n",
    "            pbulk_sdata_obs <- args[[2]]\n",
    "            pbulk_sdata_var <- args[[3]]\n",
    "            n_hvgs <- args[[4]]\n",
    "\n",
    "            sce <- SingleCellExperiment(assays = list(counts = t(pbulk_sdata_X)), colData = pbulk_sdata_obs)\n",
    "            sce <- logNormCounts(sce)\n",
    "\n",
    "            ## Feature selection w scran (just on test cell types)\n",
    "            dec <- modelGeneVar(sce)\n",
    "            hvgs <- getTopHVGs(dec, n = n_hvgs)\n",
    "            subset_sce <- sce[hvgs,]\n",
    "\n",
    "            ## Fit\n",
    "            fit <- glm_gp(subset_sce, design = {design}, reference_level = '{ref_level}')\n",
    "\n",
    "            ## Test \n",
    "            de_res <- test_de(fit, contrast = '{contrast}')    \n",
    "            de_res[,'gene_name'] <- pbulk_sdata_var[hvgs,]['gene_name']\n",
    "            return(de_res)\n",
    "        }}'''\n",
    "    \n",
    "    import rpy2.robjects.pandas2ri\n",
    "    import rpy2.robjects.numpy2ri\n",
    "    from rpy2.robjects.packages import STAP\n",
    "    \n",
    "    ## Get anndata components\n",
    "    pbulk_sdata_X = pbulk_adata.X.toarray().copy()\n",
    "    pbulk_sdata_obs = pbulk_adata.obs.copy()\n",
    "    pbulk_sdata_var = pbulk_adata.var.copy()\n",
    "    \n",
    "    r_pkg = STAP(glmgampoi_str, \"r_pkg\")\n",
    "    # this was needed for the code to run on jhub\n",
    "    # if you have a different version of rpy2 you may not need these two lines\n",
    "    rpy2.robjects.pandas2ri.activate()\n",
    "    rpy2.robjects.numpy2ri.activate()\n",
    "    \n",
    "    # PASS OBJECTS INTO FUNCTION\n",
    "    args = [pbulk_sdata_X, pbulk_sdata_obs, pbulk_sdata_var, n_hvgs]\n",
    "    de_res_df = r_pkg.run_de(args).to_csvfile('./DE_results.csv')\n",
    "    de_res_df = pd.read_csv('./DE_results.csv', index_col=0)\n",
    "    de_res_df.index = de_res_df['gene_name']\n",
    "    de_res_df.drop('name', 1, inplace=True)\n",
    "    os.remove('./DE_results.csv')\n",
    "    return(de_res_df)\n"
   ]
  },
  {
   "cell_type": "code",
   "execution_count": 16,
   "id": "annoying-engineer",
   "metadata": {},
   "outputs": [],
   "source": [
    "## Make pseudobulk adata for cells if different nhood groups and samples\n",
    "def run_annotation_DE(acr_adata, ct, diff_reference, sample_col='sample_id', n_hvgs=10000, annotation_col='cell_annotation'):\n",
    "    pbulk_use_layer = None\n",
    "    sdata = acr_adata[acr_adata.obs[f'DE_{annotation_col}'] == ct].to_memory()\n",
    "    # sdata.X = sdata.layers['counts'].copy()\n",
    "    # if confounders_obs is None:\n",
    "    design = '~dataset_group'\n",
    "    pbulk_sdata = diff2atlas.utils.anndata2pseudobulk(\n",
    "            sdata, \n",
    "            group_by=[sample_col, 'dataset_group', 'Site'], \n",
    "            min_ncells=1, \n",
    "            use_layer=pbulk_use_layer)\n",
    "\n",
    "    pbulk_sdata = _pbulk_filter_genes(pbulk_sdata).copy()\n",
    "    if pbulk_sdata.n_vars < 1:\n",
    "        print(f\"Skipping {ct} - no gene passes criteria\")\n",
    "        raise ValueError()\n",
    "    de_results = run_glmGamPoi_DE(pbulk_sdata, \n",
    "                                  design=design, ref_level=diff_reference, \n",
    "                                  contrast =f'dataset_groupquery',\n",
    "                                  n_hvgs = n_hvgs)\n",
    "    return(de_results)"
   ]
  },
  {
   "cell_type": "markdown",
   "id": "subject-cassette",
   "metadata": {},
   "source": [
    "## Load data"
   ]
  },
  {
   "cell_type": "code",
   "execution_count": 18,
   "id": "front-excuse",
   "metadata": {},
   "outputs": [],
   "source": [
    "# annotation_col = 'cell_annotation'\n",
    "# sample_col = 'sample_id'\n",
    "# diff_reference = 'ctrl'\n",
    "# design = 'CR'\n",
    "\n",
    "def run_DE_benchmark(d, design, \n",
    "                     ct_model,\n",
    "                     annotation_col = 'cell_annotation',\n",
    "                     sample_col = 'sample_id',\n",
    "                     outdir = '/lustre/scratch117/cellgen/team205/ed6/PBMC_CZI_integration_filtered/tmp/'\n",
    "                    ):\n",
    "    '''\n",
    "    Run DE benchmark\n",
    "    '''\n",
    "    classifier_reference = {\n",
    "        'CR':'ctrl',\n",
    "        'ACR':'atlas',\n",
    "        'AR':'atlas'\n",
    "    }\n",
    "    \n",
    "    diff_reference = {\n",
    "        'CR':'ctrl',\n",
    "        'ACR':'ctrl',\n",
    "        'AR':'atlas'\n",
    "    }\n",
    "    \n",
    "    # load\n",
    "    print('Loading')\n",
    "    acr_adata = sc.read_h5ad(outdir + d + f'/{design.lower()}_design.h5ad', backed=True)\n",
    "    \n",
    "    # Store top markers for each celltype (from celltypist model)\n",
    "    ct_markers_df = pd.DataFrame(index=acr_adata.var['gene_name'], columns = celltypist_anno_dict.keys())\n",
    "    for ct in ct_markers_df.columns:\n",
    "        ct_markers = ct_model.extract_top_markers(celltypist_anno_dict[ct], top_n=50)\n",
    "        ct_markers_df[ct] = ct_markers_df.index.isin(ct_markers)\n",
    "        \n",
    "    print('Training')\n",
    "    ## Train classifier from latent embedding\n",
    "    try:\n",
    "        with open(outdir + d + f\"/weighted_KNN_classifier.{classifier_reference[design]}.pkl\", \"rb\") as f:\n",
    "            knn_classifier = pkl.load(f)\n",
    "    except:\n",
    "        knn_classifier = _train_weighted_knn(\n",
    "            acr_adata[acr_adata.obs['dataset_group'] == classifier_reference[design]],\n",
    "            use_rep = 'X_scVI',\n",
    "            outfile=outdir + d + f\"/weighted_KNN_classifier.{classifier_reference[design]}.pkl\",\n",
    "            n_neighbors = 50\n",
    "        )\n",
    "    \n",
    "    print('Predicting')\n",
    "    y_train_labels = acr_adata[acr_adata.obs['dataset_group'] == classifier_reference[design]].obs[annotation_col]\n",
    "    query_adata = acr_adata[acr_adata.obs['dataset_group'] != classifier_reference[design]]\n",
    "\n",
    "    # Predict neighbors\n",
    "    query_emb = query_adata.obsm['X_scVI'].toarray()\n",
    "    top_k_indices, top_k_distances = knn_classifier.query(query_emb, k=knn_classifier.n_neighbors)\n",
    "\n",
    "    stds = np.std(top_k_distances, axis=1)\n",
    "    stds = (2.0 / stds) ** 2\n",
    "    stds = stds.reshape(-1, 1)\n",
    "\n",
    "    top_k_distances_tilda = np.exp(-np.true_divide(top_k_distances, stds))\n",
    "\n",
    "    # Compute probs and labels\n",
    "    weights = top_k_distances_tilda / np.sum(top_k_distances_tilda, axis=1, keepdims=True)\n",
    "    uncertainties = pd.DataFrame(columns=[\"pred_uncertainty\"], index=query_adata.obs_names)\n",
    "    pred_labels = pd.DataFrame(columns=[\"pred_label\"], index=query_adata.obs_names)\n",
    "\n",
    "    for i in range(len(weights)):\n",
    "        counter = Counter(y_train_labels[top_k_indices[i]])\n",
    "        # Here I assume the highest no of neighbors also has the highest probability\n",
    "        best_label = max(counter, key=counter.get)\n",
    "        best_prob = weights[i, y_train_labels[top_k_indices[i]] == best_label].sum()\n",
    "\n",
    "        uncertainties.iloc[i] = max(1 - best_prob, 0)\n",
    "        pred_labels.iloc[i] = best_label\n",
    "\n",
    "    # Save predicted labels for DE analysis\n",
    "    acr_adata.obs[f'DE_{annotation_col}'] = acr_adata.obs[annotation_col].copy()\n",
    "    acr_adata.obs.loc[pred_labels.index, f'DE_{annotation_col}'] = pred_labels.values \n",
    "    acr_adata.obs[f'DE_{annotation_col}'] = acr_adata.obs[f'DE_{annotation_col}'].cat.remove_unused_categories()\n",
    "\n",
    "    # sns.heatmap(\n",
    "    #     sc.metrics.confusion_matrix(annotation_col, f'DE_{annotation_col}', \n",
    "    #                                 acr_adata.obs[acr_adata.obs['dataset_group'] == 'query']))\n",
    "    \n",
    "    print('Testing')\n",
    "    ct_oi = d.split(\"cell_type\")[-1].split(\"_queryBatch\")[0]\n",
    "\n",
    "    ## Find affected annotation (where are the OOR cells?)\n",
    "    acr_adata.obs['OOR_state'] = acr_adata.obs[annotation_col] == ct_oi\n",
    "    n_oor_cells = acr_adata.obs['OOR_state'].sum()\n",
    "    anno_df = acr_adata.obs[['OOR_state', f'DE_{annotation_col}']].groupby(f'DE_{annotation_col}').sum('OOR_state')\n",
    "    anno_df['affected_anno'] = anno_df['OOR_state'] > (n_oor_cells*0.5)\n",
    "\n",
    "    anno_df['FPR'] = np.nan\n",
    "    anno_df['TPR'] = np.nan\n",
    "\n",
    "    # de_ct = 'classical_monocyte'\n",
    "    for de_ct in anno_df.index:\n",
    "        try:\n",
    "#             print(de_ct)\n",
    "            de_results = run_annotation_DE(acr_adata, de_ct, \n",
    "                                           diff_reference = diff_reference[design], \n",
    "                                           sample_col='sample_id',\n",
    "                                          annotation_col =annotation_col)\n",
    "        except:\n",
    "            print(f\"Skipping {de_ct} - no gene passes criteria\")\n",
    "            continue\n",
    "            \n",
    "        de_results[f'DE_{annotation_col}'] = de_ct\n",
    "\n",
    "        if anno_df.loc[de_ct]['affected_anno']:\n",
    "            de_results['is_OORstate_marker'] = de_results['gene_name'].isin(ct_markers_df.index[ct_markers_df[ct_oi]].tolist())\n",
    "            TP = sum(de_results[de_results['is_OORstate_marker']].adj_pval < 0.1)\n",
    "            FN = sum(de_results[de_results['is_OORstate_marker']].adj_pval >= 0.1)\n",
    "            TN = sum(de_results[~de_results['is_OORstate_marker']].adj_pval >= 0.1)\n",
    "            FP = sum(de_results[~de_results['is_OORstate_marker']].adj_pval < 0.1)\n",
    "            anno_df.loc[de_ct, 'TPR'] = TP / (TP+FN)\n",
    "        else:\n",
    "            FP = sum(de_results['adj_pval'] < 0.1)\n",
    "            TN = sum(de_results['adj_pval'] >= 0.1)\n",
    "            TP = 0\n",
    "            FN = 0\n",
    "\n",
    "        anno_df.loc[de_ct, 'FPR'] = FP / (FP+TN)\n",
    "\n",
    "    anno_df['design'] = design \n",
    "    anno_df['OOR_state_simulation'] = ct_oi\n",
    "    return(anno_df)"
   ]
  },
  {
   "cell_type": "code",
   "execution_count": 19,
   "id": "after-programmer",
   "metadata": {},
   "outputs": [],
   "source": [
    "outdir = '/lustre/scratch117/cellgen/team205/ed6/PBMC_CZI_integration_filtered/tmp/'\n",
    "dirs = [x for x in os.listdir(outdir) if x.startswith('qPBMC_500cells_demo_perturb_cell_') and not x.endswith(\"withOOR\") and not x.endswith(\".pkl\")]"
   ]
  },
  {
   "cell_type": "code",
   "execution_count": 24,
   "id": "clinical-classification",
   "metadata": {},
   "outputs": [
    {
     "data": {
      "text/html": [
       "<div>\n",
       "<style scoped>\n",
       "    .dataframe tbody tr th:only-of-type {\n",
       "        vertical-align: middle;\n",
       "    }\n",
       "\n",
       "    .dataframe tbody tr th {\n",
       "        vertical-align: top;\n",
       "    }\n",
       "\n",
       "    .dataframe thead th {\n",
       "        text-align: right;\n",
       "    }\n",
       "</style>\n",
       "<table border=\"1\" class=\"dataframe\">\n",
       "  <thead>\n",
       "    <tr style=\"text-align: right;\">\n",
       "      <th></th>\n",
       "      <th>OOR_state</th>\n",
       "      <th>affected_anno</th>\n",
       "      <th>FPR</th>\n",
       "      <th>TPR</th>\n",
       "      <th>design</th>\n",
       "      <th>OOR_state_simulation</th>\n",
       "    </tr>\n",
       "    <tr>\n",
       "      <th>DE_cell_annotation</th>\n",
       "      <th></th>\n",
       "      <th></th>\n",
       "      <th></th>\n",
       "      <th></th>\n",
       "      <th></th>\n",
       "      <th></th>\n",
       "    </tr>\n",
       "  </thead>\n",
       "  <tbody>\n",
       "    <tr>\n",
       "      <th>CD14_low_CD16_positive_monocyte</th>\n",
       "      <td>0</td>\n",
       "      <td>False</td>\n",
       "      <td>0.000000</td>\n",
       "      <td>NaN</td>\n",
       "      <td>CR</td>\n",
       "      <td>memory_B_cell</td>\n",
       "    </tr>\n",
       "    <tr>\n",
       "      <th>central_memory_CD4_positive_alpha_beta_T_cell</th>\n",
       "      <td>0</td>\n",
       "      <td>False</td>\n",
       "      <td>0.000000</td>\n",
       "      <td>NaN</td>\n",
       "      <td>CR</td>\n",
       "      <td>memory_B_cell</td>\n",
       "    </tr>\n",
       "    <tr>\n",
       "      <th>classical_monocyte</th>\n",
       "      <td>0</td>\n",
       "      <td>False</td>\n",
       "      <td>0.000000</td>\n",
       "      <td>NaN</td>\n",
       "      <td>CR</td>\n",
       "      <td>memory_B_cell</td>\n",
       "    </tr>\n",
       "    <tr>\n",
       "      <th>conventional_dendritic_cell</th>\n",
       "      <td>0</td>\n",
       "      <td>False</td>\n",
       "      <td>0.000240</td>\n",
       "      <td>NaN</td>\n",
       "      <td>CR</td>\n",
       "      <td>memory_B_cell</td>\n",
       "    </tr>\n",
       "    <tr>\n",
       "      <th>effector_memory_CD8_positive_alpha_beta_T_cell</th>\n",
       "      <td>0</td>\n",
       "      <td>False</td>\n",
       "      <td>0.000000</td>\n",
       "      <td>NaN</td>\n",
       "      <td>CR</td>\n",
       "      <td>memory_B_cell</td>\n",
       "    </tr>\n",
       "    <tr>\n",
       "      <th>erythrocyte</th>\n",
       "      <td>0</td>\n",
       "      <td>False</td>\n",
       "      <td>NaN</td>\n",
       "      <td>NaN</td>\n",
       "      <td>CR</td>\n",
       "      <td>memory_B_cell</td>\n",
       "    </tr>\n",
       "    <tr>\n",
       "      <th>mucosal_invariant_T_cell</th>\n",
       "      <td>0</td>\n",
       "      <td>False</td>\n",
       "      <td>0.000000</td>\n",
       "      <td>NaN</td>\n",
       "      <td>CR</td>\n",
       "      <td>memory_B_cell</td>\n",
       "    </tr>\n",
       "    <tr>\n",
       "      <th>naive_B_cell</th>\n",
       "      <td>397</td>\n",
       "      <td>True</td>\n",
       "      <td>0.014611</td>\n",
       "      <td>0.071429</td>\n",
       "      <td>CR</td>\n",
       "      <td>memory_B_cell</td>\n",
       "    </tr>\n",
       "    <tr>\n",
       "      <th>naive_thymus_derived_CD4_positive_alpha_beta_T_cell</th>\n",
       "      <td>1</td>\n",
       "      <td>False</td>\n",
       "      <td>0.000000</td>\n",
       "      <td>NaN</td>\n",
       "      <td>CR</td>\n",
       "      <td>memory_B_cell</td>\n",
       "    </tr>\n",
       "    <tr>\n",
       "      <th>naive_thymus_derived_CD8_positive_alpha_beta_T_cell</th>\n",
       "      <td>0</td>\n",
       "      <td>False</td>\n",
       "      <td>0.000000</td>\n",
       "      <td>NaN</td>\n",
       "      <td>CR</td>\n",
       "      <td>memory_B_cell</td>\n",
       "    </tr>\n",
       "    <tr>\n",
       "      <th>natural_killer_cell</th>\n",
       "      <td>0</td>\n",
       "      <td>False</td>\n",
       "      <td>0.000206</td>\n",
       "      <td>NaN</td>\n",
       "      <td>CR</td>\n",
       "      <td>memory_B_cell</td>\n",
       "    </tr>\n",
       "    <tr>\n",
       "      <th>plasmablast</th>\n",
       "      <td>0</td>\n",
       "      <td>False</td>\n",
       "      <td>NaN</td>\n",
       "      <td>NaN</td>\n",
       "      <td>CR</td>\n",
       "      <td>memory_B_cell</td>\n",
       "    </tr>\n",
       "    <tr>\n",
       "      <th>plasmacytoid_dendritic_cell</th>\n",
       "      <td>0</td>\n",
       "      <td>False</td>\n",
       "      <td>0.000000</td>\n",
       "      <td>NaN</td>\n",
       "      <td>CR</td>\n",
       "      <td>memory_B_cell</td>\n",
       "    </tr>\n",
       "    <tr>\n",
       "      <th>platelet</th>\n",
       "      <td>0</td>\n",
       "      <td>False</td>\n",
       "      <td>0.000000</td>\n",
       "      <td>NaN</td>\n",
       "      <td>CR</td>\n",
       "      <td>memory_B_cell</td>\n",
       "    </tr>\n",
       "  </tbody>\n",
       "</table>\n",
       "</div>"
      ],
      "text/plain": [
       "                                                    OOR_state  affected_anno  \\\n",
       "DE_cell_annotation                                                             \n",
       "CD14_low_CD16_positive_monocyte                             0          False   \n",
       "central_memory_CD4_positive_alpha_beta_T_cell               0          False   \n",
       "classical_monocyte                                          0          False   \n",
       "conventional_dendritic_cell                                 0          False   \n",
       "effector_memory_CD8_positive_alpha_beta_T_cell              0          False   \n",
       "erythrocyte                                                 0          False   \n",
       "mucosal_invariant_T_cell                                    0          False   \n",
       "naive_B_cell                                              397           True   \n",
       "naive_thymus_derived_CD4_positive_alpha_beta_T_...          1          False   \n",
       "naive_thymus_derived_CD8_positive_alpha_beta_T_...          0          False   \n",
       "natural_killer_cell                                         0          False   \n",
       "plasmablast                                                 0          False   \n",
       "plasmacytoid_dendritic_cell                                 0          False   \n",
       "platelet                                                    0          False   \n",
       "\n",
       "                                                         FPR       TPR design  \\\n",
       "DE_cell_annotation                                                              \n",
       "CD14_low_CD16_positive_monocyte                     0.000000       NaN     CR   \n",
       "central_memory_CD4_positive_alpha_beta_T_cell       0.000000       NaN     CR   \n",
       "classical_monocyte                                  0.000000       NaN     CR   \n",
       "conventional_dendritic_cell                         0.000240       NaN     CR   \n",
       "effector_memory_CD8_positive_alpha_beta_T_cell      0.000000       NaN     CR   \n",
       "erythrocyte                                              NaN       NaN     CR   \n",
       "mucosal_invariant_T_cell                            0.000000       NaN     CR   \n",
       "naive_B_cell                                        0.014611  0.071429     CR   \n",
       "naive_thymus_derived_CD4_positive_alpha_beta_T_...  0.000000       NaN     CR   \n",
       "naive_thymus_derived_CD8_positive_alpha_beta_T_...  0.000000       NaN     CR   \n",
       "natural_killer_cell                                 0.000206       NaN     CR   \n",
       "plasmablast                                              NaN       NaN     CR   \n",
       "plasmacytoid_dendritic_cell                         0.000000       NaN     CR   \n",
       "platelet                                            0.000000       NaN     CR   \n",
       "\n",
       "                                                   OOR_state_simulation  \n",
       "DE_cell_annotation                                                       \n",
       "CD14_low_CD16_positive_monocyte                           memory_B_cell  \n",
       "central_memory_CD4_positive_alpha_beta_T_cell             memory_B_cell  \n",
       "classical_monocyte                                        memory_B_cell  \n",
       "conventional_dendritic_cell                               memory_B_cell  \n",
       "effector_memory_CD8_positive_alpha_beta_T_cell            memory_B_cell  \n",
       "erythrocyte                                               memory_B_cell  \n",
       "mucosal_invariant_T_cell                                  memory_B_cell  \n",
       "naive_B_cell                                              memory_B_cell  \n",
       "naive_thymus_derived_CD4_positive_alpha_beta_T_...        memory_B_cell  \n",
       "naive_thymus_derived_CD8_positive_alpha_beta_T_...        memory_B_cell  \n",
       "natural_killer_cell                                       memory_B_cell  \n",
       "plasmablast                                               memory_B_cell  \n",
       "plasmacytoid_dendritic_cell                               memory_B_cell  \n",
       "platelet                                                  memory_B_cell  "
      ]
     },
     "execution_count": 24,
     "metadata": {},
     "output_type": "execute_result"
    }
   ],
   "source": [
    "cr_results"
   ]
  },
  {
   "cell_type": "code",
   "execution_count": 20,
   "id": "minimal-identity",
   "metadata": {},
   "outputs": [
    {
     "name": "stdout",
     "output_type": "stream",
     "text": [
      "Loading\n",
      "Training\n",
      "Weighted KNN with n_neighbors = 50 ... Predicting\n",
      "Testing\n",
      "Skipping erythrocyte - no gene passes criteria\n",
      "Skipping erythrocyte - no gene passes criteria\n",
      "Skipping plasmablast - no gene passes criteria\n",
      "Skipping plasmablast - no gene passes criteria\n",
      "Loading\n",
      "Training\n",
      "Predicting\n"
     ]
    },
    {
     "ename": "IndexError",
     "evalue": "positional indexers are out-of-bounds",
     "output_type": "error",
     "traceback": [
      "\u001b[0;31m---------------------------------------------------------------------------\u001b[0m",
      "\u001b[0;31mIndexError\u001b[0m                                Traceback (most recent call last)",
      "File \u001b[0;32m~/my-conda-envs/oor-benchmark/lib/python3.10/site-packages/pandas/core/indexing.py:1588\u001b[0m, in \u001b[0;36m_iLocIndexer._get_list_axis\u001b[0;34m(self, key, axis)\u001b[0m\n\u001b[1;32m   1587\u001b[0m \u001b[38;5;28;01mtry\u001b[39;00m:\n\u001b[0;32m-> 1588\u001b[0m     \u001b[38;5;28;01mreturn\u001b[39;00m \u001b[38;5;28;43mself\u001b[39;49m\u001b[38;5;241;43m.\u001b[39;49m\u001b[43mobj\u001b[49m\u001b[38;5;241;43m.\u001b[39;49m\u001b[43m_take_with_is_copy\u001b[49m\u001b[43m(\u001b[49m\u001b[43mkey\u001b[49m\u001b[43m,\u001b[49m\u001b[43m \u001b[49m\u001b[43maxis\u001b[49m\u001b[38;5;241;43m=\u001b[39;49m\u001b[43maxis\u001b[49m\u001b[43m)\u001b[49m\n\u001b[1;32m   1589\u001b[0m \u001b[38;5;28;01mexcept\u001b[39;00m \u001b[38;5;167;01mIndexError\u001b[39;00m \u001b[38;5;28;01mas\u001b[39;00m err:\n\u001b[1;32m   1590\u001b[0m     \u001b[38;5;66;03m# re-raise with different error message\u001b[39;00m\n",
      "File \u001b[0;32m~/my-conda-envs/oor-benchmark/lib/python3.10/site-packages/pandas/core/series.py:946\u001b[0m, in \u001b[0;36mSeries._take_with_is_copy\u001b[0;34m(self, indices, axis)\u001b[0m\n\u001b[1;32m    938\u001b[0m \u001b[38;5;124;03m\"\"\"\u001b[39;00m\n\u001b[1;32m    939\u001b[0m \u001b[38;5;124;03mInternal version of the `take` method that sets the `_is_copy`\u001b[39;00m\n\u001b[1;32m    940\u001b[0m \u001b[38;5;124;03mattribute to keep track of the parent dataframe (using in indexing\u001b[39;00m\n\u001b[0;32m   (...)\u001b[0m\n\u001b[1;32m    944\u001b[0m \u001b[38;5;124;03mSee the docstring of `take` for full explanation of the parameters.\u001b[39;00m\n\u001b[1;32m    945\u001b[0m \u001b[38;5;124;03m\"\"\"\u001b[39;00m\n\u001b[0;32m--> 946\u001b[0m \u001b[38;5;28;01mreturn\u001b[39;00m \u001b[38;5;28;43mself\u001b[39;49m\u001b[38;5;241;43m.\u001b[39;49m\u001b[43mtake\u001b[49m\u001b[43m(\u001b[49m\u001b[43mindices\u001b[49m\u001b[38;5;241;43m=\u001b[39;49m\u001b[43mindices\u001b[49m\u001b[43m,\u001b[49m\u001b[43m \u001b[49m\u001b[43maxis\u001b[49m\u001b[38;5;241;43m=\u001b[39;49m\u001b[43maxis\u001b[49m\u001b[43m)\u001b[49m\n",
      "File \u001b[0;32m~/my-conda-envs/oor-benchmark/lib/python3.10/site-packages/pandas/core/series.py:931\u001b[0m, in \u001b[0;36mSeries.take\u001b[0;34m(self, indices, axis, is_copy, **kwargs)\u001b[0m\n\u001b[1;32m    930\u001b[0m indices \u001b[38;5;241m=\u001b[39m ensure_platform_int(indices)\n\u001b[0;32m--> 931\u001b[0m new_index \u001b[38;5;241m=\u001b[39m \u001b[38;5;28;43mself\u001b[39;49m\u001b[38;5;241;43m.\u001b[39;49m\u001b[43mindex\u001b[49m\u001b[38;5;241;43m.\u001b[39;49m\u001b[43mtake\u001b[49m\u001b[43m(\u001b[49m\u001b[43mindices\u001b[49m\u001b[43m)\u001b[49m\n\u001b[1;32m    932\u001b[0m new_values \u001b[38;5;241m=\u001b[39m \u001b[38;5;28mself\u001b[39m\u001b[38;5;241m.\u001b[39m_values\u001b[38;5;241m.\u001b[39mtake(indices)\n",
      "File \u001b[0;32m~/my-conda-envs/oor-benchmark/lib/python3.10/site-packages/pandas/core/indexes/base.py:1185\u001b[0m, in \u001b[0;36mIndex.take\u001b[0;34m(self, indices, axis, allow_fill, fill_value, **kwargs)\u001b[0m\n\u001b[1;32m   1184\u001b[0m \u001b[38;5;28;01mif\u001b[39;00m \u001b[38;5;28misinstance\u001b[39m(values, np\u001b[38;5;241m.\u001b[39mndarray):\n\u001b[0;32m-> 1185\u001b[0m     taken \u001b[38;5;241m=\u001b[39m \u001b[43malgos\u001b[49m\u001b[38;5;241;43m.\u001b[39;49m\u001b[43mtake\u001b[49m\u001b[43m(\u001b[49m\n\u001b[1;32m   1186\u001b[0m \u001b[43m        \u001b[49m\u001b[43mvalues\u001b[49m\u001b[43m,\u001b[49m\u001b[43m \u001b[49m\u001b[43mindices\u001b[49m\u001b[43m,\u001b[49m\u001b[43m \u001b[49m\u001b[43mallow_fill\u001b[49m\u001b[38;5;241;43m=\u001b[39;49m\u001b[43mallow_fill\u001b[49m\u001b[43m,\u001b[49m\u001b[43m \u001b[49m\u001b[43mfill_value\u001b[49m\u001b[38;5;241;43m=\u001b[39;49m\u001b[38;5;28;43mself\u001b[39;49m\u001b[38;5;241;43m.\u001b[39;49m\u001b[43m_na_value\u001b[49m\n\u001b[1;32m   1187\u001b[0m \u001b[43m    \u001b[49m\u001b[43m)\u001b[49m\n\u001b[1;32m   1188\u001b[0m \u001b[38;5;28;01melse\u001b[39;00m:\n\u001b[1;32m   1189\u001b[0m     \u001b[38;5;66;03m# algos.take passes 'axis' keyword which not all EAs accept\u001b[39;00m\n",
      "File \u001b[0;32m~/my-conda-envs/oor-benchmark/lib/python3.10/site-packages/pandas/core/algorithms.py:1570\u001b[0m, in \u001b[0;36mtake\u001b[0;34m(arr, indices, axis, allow_fill, fill_value)\u001b[0m\n\u001b[1;32m   1568\u001b[0m \u001b[38;5;28;01melse\u001b[39;00m:\n\u001b[1;32m   1569\u001b[0m     \u001b[38;5;66;03m# NumPy style\u001b[39;00m\n\u001b[0;32m-> 1570\u001b[0m     result \u001b[38;5;241m=\u001b[39m \u001b[43marr\u001b[49m\u001b[38;5;241;43m.\u001b[39;49m\u001b[43mtake\u001b[49m\u001b[43m(\u001b[49m\u001b[43mindices\u001b[49m\u001b[43m,\u001b[49m\u001b[43m \u001b[49m\u001b[43maxis\u001b[49m\u001b[38;5;241;43m=\u001b[39;49m\u001b[43maxis\u001b[49m\u001b[43m)\u001b[49m\n\u001b[1;32m   1571\u001b[0m \u001b[38;5;28;01mreturn\u001b[39;00m result\n",
      "\u001b[0;31mIndexError\u001b[0m: cannot do a non-empty take from an empty axes.",
      "\nThe above exception was the direct cause of the following exception:\n",
      "\u001b[0;31mIndexError\u001b[0m                                Traceback (most recent call last)",
      "Input \u001b[0;32mIn [20]\u001b[0m, in \u001b[0;36m<cell line: 2>\u001b[0;34m()\u001b[0m\n\u001b[1;32m      2\u001b[0m \u001b[38;5;28;01mfor\u001b[39;00m d \u001b[38;5;129;01min\u001b[39;00m dirs:\n\u001b[1;32m      3\u001b[0m     cr_results \u001b[38;5;241m=\u001b[39m run_DE_benchmark(d, design\u001b[38;5;241m=\u001b[39m\u001b[38;5;124m'\u001b[39m\u001b[38;5;124mCR\u001b[39m\u001b[38;5;124m'\u001b[39m, ct_model\u001b[38;5;241m=\u001b[39mct_model)\n\u001b[0;32m----> 4\u001b[0m     acr_results \u001b[38;5;241m=\u001b[39m \u001b[43mrun_DE_benchmark\u001b[49m\u001b[43m(\u001b[49m\u001b[43md\u001b[49m\u001b[43m,\u001b[49m\u001b[43m \u001b[49m\u001b[43mdesign\u001b[49m\u001b[38;5;241;43m=\u001b[39;49m\u001b[38;5;124;43m'\u001b[39;49m\u001b[38;5;124;43mACR\u001b[39;49m\u001b[38;5;124;43m'\u001b[39;49m\u001b[43m,\u001b[49m\u001b[43m \u001b[49m\u001b[43mct_model\u001b[49m\u001b[38;5;241;43m=\u001b[39;49m\u001b[43mct_model\u001b[49m\u001b[43m)\u001b[49m\n\u001b[1;32m      5\u001b[0m     d_df \u001b[38;5;241m=\u001b[39m pd\u001b[38;5;241m.\u001b[39mconcat([acr_results\u001b[38;5;241m.\u001b[39mreset_index(), cr_results\u001b[38;5;241m.\u001b[39mreset_index()])    \n\u001b[1;32m      6\u001b[0m     \u001b[38;5;28;01mif\u001b[39;00m d_df\u001b[38;5;241m.\u001b[39mshape[\u001b[38;5;241m0\u001b[39m] \u001b[38;5;241m>\u001b[39m \u001b[38;5;241m0\u001b[39m:\n",
      "Input \u001b[0;32mIn [18]\u001b[0m, in \u001b[0;36mrun_DE_benchmark\u001b[0;34m(d, design, ct_model, annotation_col, sample_col, outdir)\u001b[0m\n\u001b[1;32m     66\u001b[0m pred_labels \u001b[38;5;241m=\u001b[39m pd\u001b[38;5;241m.\u001b[39mDataFrame(columns\u001b[38;5;241m=\u001b[39m[\u001b[38;5;124m\"\u001b[39m\u001b[38;5;124mpred_label\u001b[39m\u001b[38;5;124m\"\u001b[39m], index\u001b[38;5;241m=\u001b[39mquery_adata\u001b[38;5;241m.\u001b[39mobs_names)\n\u001b[1;32m     68\u001b[0m \u001b[38;5;28;01mfor\u001b[39;00m i \u001b[38;5;129;01min\u001b[39;00m \u001b[38;5;28mrange\u001b[39m(\u001b[38;5;28mlen\u001b[39m(weights)):\n\u001b[0;32m---> 69\u001b[0m     counter \u001b[38;5;241m=\u001b[39m Counter(\u001b[43my_train_labels\u001b[49m\u001b[43m[\u001b[49m\u001b[43mtop_k_indices\u001b[49m\u001b[43m[\u001b[49m\u001b[43mi\u001b[49m\u001b[43m]\u001b[49m\u001b[43m]\u001b[49m)\n\u001b[1;32m     70\u001b[0m     \u001b[38;5;66;03m# Here I assume the highest no of neighbors also has the highest probability\u001b[39;00m\n\u001b[1;32m     71\u001b[0m     best_label \u001b[38;5;241m=\u001b[39m \u001b[38;5;28mmax\u001b[39m(counter, key\u001b[38;5;241m=\u001b[39mcounter\u001b[38;5;241m.\u001b[39mget)\n",
      "File \u001b[0;32m~/my-conda-envs/oor-benchmark/lib/python3.10/site-packages/pandas/core/series.py:1008\u001b[0m, in \u001b[0;36mSeries.__getitem__\u001b[0;34m(self, key)\u001b[0m\n\u001b[1;32m   1005\u001b[0m     key \u001b[38;5;241m=\u001b[39m np\u001b[38;5;241m.\u001b[39masarray(key, dtype\u001b[38;5;241m=\u001b[39m\u001b[38;5;28mbool\u001b[39m)\n\u001b[1;32m   1006\u001b[0m     \u001b[38;5;28;01mreturn\u001b[39;00m \u001b[38;5;28mself\u001b[39m\u001b[38;5;241m.\u001b[39m_get_values(key)\n\u001b[0;32m-> 1008\u001b[0m \u001b[38;5;28;01mreturn\u001b[39;00m \u001b[38;5;28;43mself\u001b[39;49m\u001b[38;5;241;43m.\u001b[39;49m\u001b[43m_get_with\u001b[49m\u001b[43m(\u001b[49m\u001b[43mkey\u001b[49m\u001b[43m)\u001b[49m\n",
      "File \u001b[0;32m~/my-conda-envs/oor-benchmark/lib/python3.10/site-packages/pandas/core/series.py:1045\u001b[0m, in \u001b[0;36mSeries._get_with\u001b[0;34m(self, key)\u001b[0m\n\u001b[1;32m   1043\u001b[0m         \u001b[38;5;28;01mreturn\u001b[39;00m \u001b[38;5;28mself\u001b[39m\u001b[38;5;241m.\u001b[39mloc[key]\n\u001b[1;32m   1044\u001b[0m     \u001b[38;5;28;01melse\u001b[39;00m:\n\u001b[0;32m-> 1045\u001b[0m         \u001b[38;5;28;01mreturn\u001b[39;00m \u001b[38;5;28;43mself\u001b[39;49m\u001b[38;5;241;43m.\u001b[39;49m\u001b[43miloc\u001b[49m\u001b[43m[\u001b[49m\u001b[43mkey\u001b[49m\u001b[43m]\u001b[49m\n\u001b[1;32m   1047\u001b[0m \u001b[38;5;66;03m# handle the dup indexing case GH#4246\u001b[39;00m\n\u001b[1;32m   1048\u001b[0m \u001b[38;5;28;01mreturn\u001b[39;00m \u001b[38;5;28mself\u001b[39m\u001b[38;5;241m.\u001b[39mloc[key]\n",
      "File \u001b[0;32m~/my-conda-envs/oor-benchmark/lib/python3.10/site-packages/pandas/core/indexing.py:1074\u001b[0m, in \u001b[0;36m_LocationIndexer.__getitem__\u001b[0;34m(self, key)\u001b[0m\n\u001b[1;32m   1071\u001b[0m axis \u001b[38;5;241m=\u001b[39m \u001b[38;5;28mself\u001b[39m\u001b[38;5;241m.\u001b[39maxis \u001b[38;5;129;01mor\u001b[39;00m \u001b[38;5;241m0\u001b[39m\n\u001b[1;32m   1073\u001b[0m maybe_callable \u001b[38;5;241m=\u001b[39m com\u001b[38;5;241m.\u001b[39mapply_if_callable(key, \u001b[38;5;28mself\u001b[39m\u001b[38;5;241m.\u001b[39mobj)\n\u001b[0;32m-> 1074\u001b[0m \u001b[38;5;28;01mreturn\u001b[39;00m \u001b[38;5;28;43mself\u001b[39;49m\u001b[38;5;241;43m.\u001b[39;49m\u001b[43m_getitem_axis\u001b[49m\u001b[43m(\u001b[49m\u001b[43mmaybe_callable\u001b[49m\u001b[43m,\u001b[49m\u001b[43m \u001b[49m\u001b[43maxis\u001b[49m\u001b[38;5;241;43m=\u001b[39;49m\u001b[43maxis\u001b[49m\u001b[43m)\u001b[49m\n",
      "File \u001b[0;32m~/my-conda-envs/oor-benchmark/lib/python3.10/site-packages/pandas/core/indexing.py:1617\u001b[0m, in \u001b[0;36m_iLocIndexer._getitem_axis\u001b[0;34m(self, key, axis)\u001b[0m\n\u001b[1;32m   1615\u001b[0m \u001b[38;5;66;03m# a list of integers\u001b[39;00m\n\u001b[1;32m   1616\u001b[0m \u001b[38;5;28;01melif\u001b[39;00m is_list_like_indexer(key):\n\u001b[0;32m-> 1617\u001b[0m     \u001b[38;5;28;01mreturn\u001b[39;00m \u001b[38;5;28;43mself\u001b[39;49m\u001b[38;5;241;43m.\u001b[39;49m\u001b[43m_get_list_axis\u001b[49m\u001b[43m(\u001b[49m\u001b[43mkey\u001b[49m\u001b[43m,\u001b[49m\u001b[43m \u001b[49m\u001b[43maxis\u001b[49m\u001b[38;5;241;43m=\u001b[39;49m\u001b[43maxis\u001b[49m\u001b[43m)\u001b[49m\n\u001b[1;32m   1619\u001b[0m \u001b[38;5;66;03m# a single integer\u001b[39;00m\n\u001b[1;32m   1620\u001b[0m \u001b[38;5;28;01melse\u001b[39;00m:\n\u001b[1;32m   1621\u001b[0m     key \u001b[38;5;241m=\u001b[39m item_from_zerodim(key)\n",
      "File \u001b[0;32m~/my-conda-envs/oor-benchmark/lib/python3.10/site-packages/pandas/core/indexing.py:1591\u001b[0m, in \u001b[0;36m_iLocIndexer._get_list_axis\u001b[0;34m(self, key, axis)\u001b[0m\n\u001b[1;32m   1588\u001b[0m     \u001b[38;5;28;01mreturn\u001b[39;00m \u001b[38;5;28mself\u001b[39m\u001b[38;5;241m.\u001b[39mobj\u001b[38;5;241m.\u001b[39m_take_with_is_copy(key, axis\u001b[38;5;241m=\u001b[39maxis)\n\u001b[1;32m   1589\u001b[0m \u001b[38;5;28;01mexcept\u001b[39;00m \u001b[38;5;167;01mIndexError\u001b[39;00m \u001b[38;5;28;01mas\u001b[39;00m err:\n\u001b[1;32m   1590\u001b[0m     \u001b[38;5;66;03m# re-raise with different error message\u001b[39;00m\n\u001b[0;32m-> 1591\u001b[0m     \u001b[38;5;28;01mraise\u001b[39;00m \u001b[38;5;167;01mIndexError\u001b[39;00m(\u001b[38;5;124m\"\u001b[39m\u001b[38;5;124mpositional indexers are out-of-bounds\u001b[39m\u001b[38;5;124m\"\u001b[39m) \u001b[38;5;28;01mfrom\u001b[39;00m \u001b[38;5;21;01merr\u001b[39;00m\n",
      "\u001b[0;31mIndexError\u001b[0m: positional indexers are out-of-bounds"
     ]
    }
   ],
   "source": [
    "df = pd.DataFrame()\n",
    "for d in dirs:\n",
    "    cr_results = run_DE_benchmark(d, design='CR', ct_model=ct_model)\n",
    "    acr_results = run_DE_benchmark(d, design='ACR', ct_model=ct_model)\n",
    "    d_df = pd.concat([acr_results.reset_index(), cr_results.reset_index()])    \n",
    "    if d_df.shape[0] > 0:\n",
    "        df = pd.concat([df, d_df])"
   ]
  },
  {
   "cell_type": "code",
   "execution_count": 176,
   "id": "finished-excuse",
   "metadata": {},
   "outputs": [
    {
     "name": "stdout",
     "output_type": "stream",
     "text": [
      "                              DE_cell_annotation OOR_state affected_anno\n",
      "1                CD14_low_CD16_positive_monocyte         0         FALSE\n",
      "2  central_memory_CD4_positive_alpha_beta_T_cell         2         FALSE\n",
      "3                             classical_monocyte         0         FALSE\n",
      "4                    conventional_dendritic_cell         3         FALSE\n",
      "5 effector_memory_CD8_positive_alpha_beta_T_cell         0         FALSE\n",
      "6                                    erythrocyte         0         FALSE\n",
      "          FPR TPR design OOR_state_simulation\n",
      "1 0.000000000 NaN    ACR        memory_B_cell\n",
      "2 0.000000000 NaN    ACR        memory_B_cell\n",
      "3 0.000000000 NaN    ACR        memory_B_cell\n",
      "4 0.000262605 NaN    ACR        memory_B_cell\n",
      "5 0.000000000 NaN    ACR        memory_B_cell\n",
      "6         NaN NaN    ACR        memory_B_cell\n"
     ]
    }
   ],
   "source": [
    "%%R -i df\n",
    "head(df)"
   ]
  },
  {
   "cell_type": "code",
   "execution_count": 198,
   "id": "respected-darkness",
   "metadata": {},
   "outputs": [
    {
     "data": {
      "image/png": "[encoded data removed]"
     },
     "metadata": {},
     "output_type": "display_data"
    }
   ],
   "source": [
    "%%R\n",
    "df %>%\n",
    "filter(affected_anno == TRUE) %>%\n",
    "group_by(OOR_state_simulation) %>%\n",
    "mutate(n_rows=n()) %>%\n",
    "ungroup() %>%\n",
    "filter(n_rows > 1) %>%\n",
    "ggplot(aes(OOR_state_simulation, TPR, fill=design)) +\n",
    "geom_col(position='dodge') +\n",
    "coord_flip()"
   ]
  },
  {
   "cell_type": "code",
   "execution_count": 204,
   "id": "standard-fruit",
   "metadata": {},
   "outputs": [
    {
     "data": {
      "image/png": "[encoded data removed]"
     },
     "metadata": {},
     "output_type": "display_data"
    }
   ],
   "source": [
    "%%R\n",
    "df %>%\n",
    "filter(affected_anno == FALSE & OOR_state == 0) %>%\n",
    "# head()\n",
    "\n",
    "ggplot(aes(OOR_state_simulation, FPR, fill=design)) +\n",
    "geom_boxplot() +\n",
    "coord_flip()"
   ]
  },
  {
   "cell_type": "code",
   "execution_count": 202,
   "id": "structural-playback",
   "metadata": {},
   "outputs": [
    {
     "data": {
      "image/png": "[encoded data removed]"
     },
     "metadata": {},
     "output_type": "display_data"
    }
   ],
   "source": [
    "%%R\n",
    "df %>%\n",
    "filter(affected_anno == FALSE) %>%\n",
    "# head()\n",
    "\n",
    "ggplot(aes(OOR_state, FPR, color=design)) +\n",
    "geom_point()"
   ]
  },
  {
   "cell_type": "markdown",
   "id": "sitting-shower",
   "metadata": {},
   "source": [
    "---"
   ]
  },
  {
   "cell_type": "code",
   "execution_count": 131,
   "id": "intimate-liquid",
   "metadata": {},
   "outputs": [],
   "source": [
    "design = 'CR'"
   ]
  },
  {
   "cell_type": "code",
   "execution_count": 173,
   "id": "combined-survival",
   "metadata": {},
   "outputs": [],
   "source": [
    "d_df = pd.concat([acr_results, cr_results])"
   ]
  }
 ],
 "metadata": {
  "kernelspec": {
   "display_name": "Python (oor-benchmark)",
   "language": "python",
   "name": "oor-benchmark"
  },
  "language_info": {
   "codemirror_mode": {
    "name": "ipython",
    "version": 3
   },
   "file_extension": ".py",
   "mimetype": "text/x-python",
   "name": "python",
   "nbconvert_exporter": "python",
   "pygments_lexer": "ipython3",
   "version": "3.10.6"
  }
 },
 "nbformat": 4,
 "nbformat_minor": 5
}
