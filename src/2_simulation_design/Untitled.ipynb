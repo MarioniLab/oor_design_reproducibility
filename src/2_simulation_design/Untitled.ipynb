{
 "cells": [
  {
   "cell_type": "markdown",
   "id": "hazardous-median",
   "metadata": {},
   "source": [
    "# Alternatives to differential abundance analysis for OOR state detection\n",
    "\n",
    "In this notebook we test the ability to detect OOR states without using differential abundance analysis, testing 3 alternatives:\n",
    "\n",
    "1. Distance/segregation of OOR cells in latent space\n",
    "2. Query-mapping quality control metrics\n",
    "3. Differential expression analysis after label transfer"
   ]
  },
  {
   "cell_type": "markdown",
   "id": "expensive-postage",
   "metadata": {},
   "source": [
    "### Preparations"
   ]
  },
  {
   "cell_type": "code",
   "execution_count": 1,
   "id": "racial-jackson",
   "metadata": {},
   "outputs": [],
   "source": [
    "%load_ext autoreload\n",
    "%autoreload 2"
   ]
  },
  {
   "cell_type": "code",
   "execution_count": 2,
   "id": "considerable-specification",
   "metadata": {},
   "outputs": [],
   "source": [
    "import os,sys\n",
    "import scanpy as sc \n",
    "import pandas as pd\n",
    "import numpy as np\n",
    "import milopy\n",
    "import scipy\n",
    "\n",
    "import seaborn as sns\n",
    "import matplotlib\n",
    "import matplotlib.pyplot as plt\n",
    "\n",
    "import oor_benchmark\n",
    "import oor_benchmark.metrics.utils\n",
    "\n",
    "sns.set_context('talk')\n",
    "from matplotlib.pyplot import rc_context"
   ]
  },
  {
   "cell_type": "code",
   "execution_count": 3,
   "id": "straight-notification",
   "metadata": {},
   "outputs": [],
   "source": [
    "figdir = '/home/jovyan/mount/gdrive/diff2atlas/figures/pbmc_design_comparison_v2/'\n",
    "if not os.path.exists(figdir):\n",
    "    os.mkdir(figdir)"
   ]
  },
  {
   "cell_type": "code",
   "execution_count": 4,
   "id": "hairy-radiation",
   "metadata": {},
   "outputs": [],
   "source": [
    "## r2py setup\n",
    "import rpy2.rinterface_lib.callbacks\n",
    "import logging\n",
    "rpy2.rinterface_lib.callbacks.logger.setLevel(logging.ERROR)\n"
   ]
  },
  {
   "cell_type": "code",
   "execution_count": 5,
   "id": "bearing-council",
   "metadata": {},
   "outputs": [],
   "source": [
    "%load_ext rpy2.ipython"
   ]
  },
  {
   "cell_type": "code",
   "execution_count": 6,
   "id": "polyphonic-cabin",
   "metadata": {},
   "outputs": [
    {
     "name": "stderr",
     "output_type": "stream",
     "text": [
      "\u001b[0;1;31mSystem has not been booted with systemd as init system (PID 1). Can't operate.\u001b[0m\n",
      "\u001b[0;1;31mFailed to create bus connection: Host is down\u001b[0m\n"
     ]
    }
   ],
   "source": [
    "%%R -i figdir\n",
    "library(tidyverse)\n",
    "library(patchwork)\n",
    "library(ggrastr)\n",
    "\n",
    "remove_x_axis <- function(){\n",
    "  theme(axis.text.x = element_blank(), axis.ticks.x = element_blank(), axis.title.x = element_blank())  \n",
    "}\n",
    "\n",
    "remove_y_axis <- function(){\n",
    "  theme(axis.text.y = element_blank(), axis.ticks.y = element_blank(), axis.title.y = element_blank())  \n",
    "}"
   ]
  },
  {
   "cell_type": "code",
   "execution_count": 7,
   "id": "creative-crowd",
   "metadata": {},
   "outputs": [],
   "source": [
    "## Some utils\n",
    "\n",
    "def _plot_nhood_sizes(adata, bins=50, **kwargs):\n",
    "    plt.hist(np.array(adata.obsm['nhoods'].sum(0)).ravel(), bins=bins, **kwargs);\n",
    "    plt.xlabel('# cells');plt.ylabel('# nhoods');\n",
    "    \n",
    "def get_nhood_adata(adata):\n",
    "    return(adata.uns['nhood_adata'])\n",
    "\n",
    "def get_cells_from_nhood(adata, i):\n",
    "    return((adata.obsm['nhoods'][:,i].toarray() == 1).flatten())\n",
    "\n",
    "def remove_x_axis(ax):\n",
    "    ax.xaxis.set_major_locator(matplotlib.ticker.NullLocator());\n",
    "    ax.set_xlabel('');\n",
    "\n",
    "def remove_y_axis(ax):\n",
    "    ax.yaxis.set_major_locator(matplotlib.ticker.NullLocator());\n",
    "    ax.set_ylabel('');\n",
    "    \n",
    "def make_ct_label(label):\n",
    "    return(' '.join(label.split('_')))"
   ]
  },
  {
   "cell_type": "code",
   "execution_count": 8,
   "id": "accepting-minnesota",
   "metadata": {},
   "outputs": [],
   "source": [
    "## Define color palette\n",
    "pal = sns.color_palette('Paired').as_hex()\n",
    "design_palette = {'ACR':pal[3], 'CR scArches':pal[7], 'AR':pal[9], 'CR scVI':pal[6]}\n",
    "design_palette_df = pd.DataFrame(design_palette.values(), index =design_palette.keys() )\n",
    "design_palette_df.columns = ['color']"
   ]
  },
  {
   "cell_type": "code",
   "execution_count": 9,
   "id": "adaptive-bottom",
   "metadata": {},
   "outputs": [],
   "source": [
    "%%R -i design_palette_df\n",
    "design_palette <- setNames(design_palette_df$color, rownames(design_palette_df))\n",
    "\n",
    "scale_color_design <- function(){\n",
    "    scale_color_manual(values=design_palette, name='design')\n",
    "}\n",
    "\n",
    "scale_fill_design <- function(){\n",
    "    scale_color_manual(values=design_palette, name='design')\n",
    "}"
   ]
  },
  {
   "cell_type": "code",
   "execution_count": 10,
   "id": "foster-proxy",
   "metadata": {},
   "outputs": [],
   "source": [
    "short_pop_names = {\n",
    "    \"DC\":'conventional_dendritic_cell', \n",
    "    \"naive B\":'naive_B_cell',\n",
    "    \"memory B\":'memory_B_cell',\n",
    "    \"CM CD4+T\":'central_memory_CD4_positive_alpha_beta_T_cell', \n",
    "    'plasmablast':'plasmablast',\n",
    "    'platelet':'platelet', \n",
    " \"pDC\":'plasmacytoid_dendritic_cell',\n",
    "     \"neutrophil\":'neutrophil',\n",
    "#     \"cDC\":'conventional_dendritic_cell',\n",
    " 'naive CD4+T':'naive_thymus_derived_CD4_positive_alpha_beta_T_cell',\n",
    "\"classical monocyte\":'classical_monocyte', \n",
    "    'CD14+ monocyte':'CD14_positive_monocyte',\n",
    " 'erythrocyte':'erythrocyte',\n",
    "       \"naive CD8+T\":'naive_thymus_derived_CD8_positive_alpha_beta_T_cell',\n",
    "       \"NK\":'natural_killer_cell',\n",
    "       \"EM CD8+T\":'effector_memory_CD8_positive_alpha_beta_T_cell',\n",
    "       'MAIT':'mucosal_invariant_T_cell', \n",
    " 'CD14lo CD16hi monocyte':'CD14_low_CD16_positive_monocyte',\n",
    "    \"HPP\":'hematopoietic_precursor_cell'\n",
    "}\n",
    "\n",
    "short_pop_names={v:k for k,v in short_pop_names.items()}"
   ]
  },
  {
   "cell_type": "markdown",
   "id": "imperial-calculator",
   "metadata": {},
   "source": [
    "## 1. Distance/segregation of OOR cells in latent space"
   ]
  },
  {
   "cell_type": "markdown",
   "id": "trained-premiere",
   "metadata": {},
   "source": [
    "Here we want to test whether position in the latent space can always distinguish the OOR state. We train a KNN classifier to distinguish the OOR state in simulations with one removed OOR state (using results from ) "
   ]
  },
  {
   "cell_type": "code",
   "execution_count": 12,
   "id": "orange-moses",
   "metadata": {},
   "outputs": [],
   "source": [
    "from sklearn.linear_model import LogisticRegression\n",
    "from sklearn.neighbors import KNeighborsClassifier\n",
    "from sklearn.model_selection import train_test_split\n",
    "from sklearn.metrics import ConfusionMatrixDisplay\n",
    "from sklearn.metrics import classification_report\n",
    "\n",
    "def classify_OOR(adata, n_iters = 5, split_seed=42):\n",
    "    '''Train classifier on latent space to identify OOR cell state in disease cells'''\n",
    "    X = adata[adata.obs['dataset_group'] == 'query'].obsm['X_scVI'].copy()\n",
    "    y = adata[adata.obs['dataset_group'] == 'query'].obs['OOR_state']\n",
    "    class_out = {'precision':[], 'recall':[], 'f1-score':[], 'accuracy':[], 'support':[]}\n",
    "    for s in np.arange(split_seed, split_seed+n_iters):\n",
    "        X_train, X_test, y_train, y_test = train_test_split(\n",
    "            X, y, test_size=0.33, random_state=s)\n",
    "\n",
    "#         clf = LogisticRegression(random_state=0).fit(X_train, y_train)\n",
    "        clf = KNeighborsClassifier(n_neighbors=50, metric=\"euclidean\").fit(X_train, y_train)\n",
    "        class_out_iter = classification_report(y_test, clf.predict(X_test), output_dict=True)['1']\n",
    "        class_out_iter['accuracy'] = classification_report(y_test, clf.predict(X_test), output_dict=True)['accuracy']\n",
    "        for k in class_out.keys():\n",
    "            class_out[k].append(class_out_iter[k])\n",
    "    return(pd.DataFrame(class_out))"
   ]
  },
  {
   "cell_type": "code",
   "execution_count": 19,
   "id": "loose-pride",
   "metadata": {},
   "outputs": [
    {
     "name": "stdout",
     "output_type": "stream",
     "text": [
      "qPBMC_500cells_demo_perturb_cell_typememory_B_cell_queryBatchdataset_id10_1038_s41591_021_01329_2_seed2022\n",
      "qPBMC_500cells_demo_perturb_cell_typeconventional_dendritic_cell_queryBatchdataset_id10_1038_s41591_021_01329_2_seed2022\n",
      "qPBMC_500cells_demo_perturb_cell_typenaive_B_cell_queryBatchdataset_id10_1038_s41591_021_01329_2_seed2022\n",
      "qPBMC_500cells_demo_perturb_cell_typecentral_memory_CD4_positive_alpha_beta_T_cell_queryBatchdataset_id10_1038_s41591_021_01329_2_seed2022\n",
      "qPBMC_500cells_demo_perturb_cell_typeplatelet_queryBatchdataset_id10_1038_s41591_021_01329_2_seed2022\n",
      "qPBMC_500cells_demo_perturb_cell_typenaive_thymus_derived_CD4_positive_alpha_beta_T_cell_queryBatchdataset_id10_1038_s41591_021_01329_2_seed2022\n",
      "qPBMC_500cells_demo_perturb_cell_typeclassical_monocyte_queryBatchdataset_id10_1038_s41591_021_01329_2_seed2022\n",
      "qPBMC_500cells_demo_perturb_cell_typenaive_thymus_derived_CD8_positive_alpha_beta_T_cell_queryBatchdataset_id10_1038_s41591_021_01329_2_seed2022\n",
      "qPBMC_500cells_demo_perturb_cell_typenatural_killer_cell_queryBatchdataset_id10_1038_s41591_021_01329_2_seed2022\n",
      "qPBMC_500cells_demo_perturb_cell_typeeffector_memory_CD8_positive_alpha_beta_T_cell_queryBatchdataset_id10_1038_s41591_021_01329_2_seed2022\n",
      "qPBMC_500cells_demo_perturb_cell_typemucosal_invariant_T_cell_queryBatchdataset_id10_1038_s41591_021_01329_2_seed2022\n",
      "qPBMC_500cells_demo_perturb_cell_typeCD14_low_CD16_positive_monocyte_queryBatchdataset_id10_1038_s41591_021_01329_2_seed2022\n"
     ]
    }
   ],
   "source": [
    "classifier_outs_all = pd.DataFrame()\n",
    "for ct in [k for k,v in oor_state_size.items() if v > 100]: ## Select simulations with at least 100 cells in OOR state \n",
    "    d = f'qPBMC_500cells_demo_perturb_cell_type{ct}_queryBatchdataset_id10_1038_s41591_021_01329_2_seed2022'\n",
    "    print(d)\n",
    "    acr_adata = milopy.utils.read_milo_adata(outdir + d + '/ACR_design.scArches_milo.h5ad', backed=True)\n",
    "    ar_adata = milopy.utils.read_milo_adata(outdir + d + '/ar_design.h5ad', backed=True)\n",
    "    cr_adata = milopy.utils.read_milo_adata(outdir + d + '/CR_design.scArches_milo.h5ad', backed=True)\n",
    "    cr_scvi_adata = milopy.utils.read_milo_adata(outdir + d + '/CR_design.scVI_milo.h5ad', backed=True)\n",
    "    AR_classifier_outs = classify_OOR(ar_adata, split_seed=312, n_iters=10)\n",
    "    AR_classifier_outs['design'] = 'AR'\n",
    "    CR_classifier_outs = classify_OOR(cr_adata, split_seed=312, n_iters=10)\n",
    "    CR_classifier_outs['design'] = 'CR scArches'\n",
    "    CR_scVI_classifier_outs = classify_OOR(cr_scvi_adata, split_seed=312, n_iters=10)\n",
    "    CR_scVI_classifier_outs['design'] = 'CR scVI'\n",
    "    ACR_classifier_outs = classify_OOR(acr_adata, split_seed=312, n_iters=10)\n",
    "    ACR_classifier_outs['design'] = 'ACR'\n",
    "    classifier_outs = pd.concat([ACR_classifier_outs, AR_classifier_outs, CR_classifier_outs, CR_scVI_classifier_outs])\n",
    "    classifier_outs['OOR_state_name'] = ct\n",
    "    classifier_outs_all = pd.concat([classifier_outs_all, classifier_outs])"
   ]
  },
  {
   "cell_type": "code",
   "execution_count": 20,
   "id": "indonesian-enforcement",
   "metadata": {},
   "outputs": [
    {
     "data": {
      "text/html": [
       "<div>\n",
       "<style scoped>\n",
       "    .dataframe tbody tr th:only-of-type {\n",
       "        vertical-align: middle;\n",
       "    }\n",
       "\n",
       "    .dataframe tbody tr th {\n",
       "        vertical-align: top;\n",
       "    }\n",
       "\n",
       "    .dataframe thead th {\n",
       "        text-align: right;\n",
       "    }\n",
       "</style>\n",
       "<table border=\"1\" class=\"dataframe\">\n",
       "  <thead>\n",
       "    <tr style=\"text-align: right;\">\n",
       "      <th></th>\n",
       "      <th>precision</th>\n",
       "      <th>recall</th>\n",
       "      <th>f1-score</th>\n",
       "      <th>accuracy</th>\n",
       "      <th>support</th>\n",
       "      <th>design</th>\n",
       "      <th>OOR_state_name</th>\n",
       "    </tr>\n",
       "  </thead>\n",
       "  <tbody>\n",
       "    <tr>\n",
       "      <th>0</th>\n",
       "      <td>0.854962</td>\n",
       "      <td>0.829630</td>\n",
       "      <td>0.842105</td>\n",
       "      <td>0.983044</td>\n",
       "      <td>135</td>\n",
       "      <td>ACR</td>\n",
       "      <td>memory_B_cell</td>\n",
       "    </tr>\n",
       "    <tr>\n",
       "      <th>1</th>\n",
       "      <td>0.880597</td>\n",
       "      <td>0.825175</td>\n",
       "      <td>0.851986</td>\n",
       "      <td>0.983448</td>\n",
       "      <td>143</td>\n",
       "      <td>ACR</td>\n",
       "      <td>memory_B_cell</td>\n",
       "    </tr>\n",
       "    <tr>\n",
       "      <th>2</th>\n",
       "      <td>0.814570</td>\n",
       "      <td>0.848276</td>\n",
       "      <td>0.831081</td>\n",
       "      <td>0.979814</td>\n",
       "      <td>145</td>\n",
       "      <td>ACR</td>\n",
       "      <td>memory_B_cell</td>\n",
       "    </tr>\n",
       "    <tr>\n",
       "      <th>3</th>\n",
       "      <td>0.834532</td>\n",
       "      <td>0.794521</td>\n",
       "      <td>0.814035</td>\n",
       "      <td>0.978603</td>\n",
       "      <td>146</td>\n",
       "      <td>ACR</td>\n",
       "      <td>memory_B_cell</td>\n",
       "    </tr>\n",
       "    <tr>\n",
       "      <th>4</th>\n",
       "      <td>0.805970</td>\n",
       "      <td>0.857143</td>\n",
       "      <td>0.830769</td>\n",
       "      <td>0.982237</td>\n",
       "      <td>126</td>\n",
       "      <td>ACR</td>\n",
       "      <td>memory_B_cell</td>\n",
       "    </tr>\n",
       "    <tr>\n",
       "      <th>...</th>\n",
       "      <td>...</td>\n",
       "      <td>...</td>\n",
       "      <td>...</td>\n",
       "      <td>...</td>\n",
       "      <td>...</td>\n",
       "      <td>...</td>\n",
       "      <td>...</td>\n",
       "    </tr>\n",
       "    <tr>\n",
       "      <th>5</th>\n",
       "      <td>0.897436</td>\n",
       "      <td>0.972222</td>\n",
       "      <td>0.933333</td>\n",
       "      <td>0.997981</td>\n",
       "      <td>36</td>\n",
       "      <td>CR scVI</td>\n",
       "      <td>CD14_low_CD16_positive_monocyte</td>\n",
       "    </tr>\n",
       "    <tr>\n",
       "      <th>6</th>\n",
       "      <td>0.936170</td>\n",
       "      <td>0.936170</td>\n",
       "      <td>0.936170</td>\n",
       "      <td>0.997578</td>\n",
       "      <td>47</td>\n",
       "      <td>CR scVI</td>\n",
       "      <td>CD14_low_CD16_positive_monocyte</td>\n",
       "    </tr>\n",
       "    <tr>\n",
       "      <th>7</th>\n",
       "      <td>0.938776</td>\n",
       "      <td>0.978723</td>\n",
       "      <td>0.958333</td>\n",
       "      <td>0.998385</td>\n",
       "      <td>47</td>\n",
       "      <td>CR scVI</td>\n",
       "      <td>CD14_low_CD16_positive_monocyte</td>\n",
       "    </tr>\n",
       "    <tr>\n",
       "      <th>8</th>\n",
       "      <td>0.953488</td>\n",
       "      <td>0.976190</td>\n",
       "      <td>0.964706</td>\n",
       "      <td>0.998789</td>\n",
       "      <td>42</td>\n",
       "      <td>CR scVI</td>\n",
       "      <td>CD14_low_CD16_positive_monocyte</td>\n",
       "    </tr>\n",
       "    <tr>\n",
       "      <th>9</th>\n",
       "      <td>0.930233</td>\n",
       "      <td>0.975610</td>\n",
       "      <td>0.952381</td>\n",
       "      <td>0.998385</td>\n",
       "      <td>41</td>\n",
       "      <td>CR scVI</td>\n",
       "      <td>CD14_low_CD16_positive_monocyte</td>\n",
       "    </tr>\n",
       "  </tbody>\n",
       "</table>\n",
       "<p>480 rows × 7 columns</p>\n",
       "</div>"
      ],
      "text/plain": [
       "    precision    recall  f1-score  accuracy  support   design  \\\n",
       "0    0.854962  0.829630  0.842105  0.983044      135      ACR   \n",
       "1    0.880597  0.825175  0.851986  0.983448      143      ACR   \n",
       "2    0.814570  0.848276  0.831081  0.979814      145      ACR   \n",
       "3    0.834532  0.794521  0.814035  0.978603      146      ACR   \n",
       "4    0.805970  0.857143  0.830769  0.982237      126      ACR   \n",
       "..        ...       ...       ...       ...      ...      ...   \n",
       "5    0.897436  0.972222  0.933333  0.997981       36  CR scVI   \n",
       "6    0.936170  0.936170  0.936170  0.997578       47  CR scVI   \n",
       "7    0.938776  0.978723  0.958333  0.998385       47  CR scVI   \n",
       "8    0.953488  0.976190  0.964706  0.998789       42  CR scVI   \n",
       "9    0.930233  0.975610  0.952381  0.998385       41  CR scVI   \n",
       "\n",
       "                     OOR_state_name  \n",
       "0                     memory_B_cell  \n",
       "1                     memory_B_cell  \n",
       "2                     memory_B_cell  \n",
       "3                     memory_B_cell  \n",
       "4                     memory_B_cell  \n",
       "..                              ...  \n",
       "5   CD14_low_CD16_positive_monocyte  \n",
       "6   CD14_low_CD16_positive_monocyte  \n",
       "7   CD14_low_CD16_positive_monocyte  \n",
       "8   CD14_low_CD16_positive_monocyte  \n",
       "9   CD14_low_CD16_positive_monocyte  \n",
       "\n",
       "[480 rows x 7 columns]"
      ]
     },
     "execution_count": 20,
     "metadata": {},
     "output_type": "execute_result"
    }
   ],
   "source": [
    "classifier_outs_all"
   ]
  },
  {
   "cell_type": "code",
   "execution_count": 52,
   "id": "sublime-discussion",
   "metadata": {},
   "outputs": [],
   "source": [
    "# plt.rcParams['figure.figsize'] = [6,10]\n",
    "# sorted_cts = classifier_outs_all[classifier_outs_all.design == 'ACR'].groupby('OOR_state_name').first()['support'].sort_values().index\n",
    "\n",
    "# sns.boxplot(data = classifier_outs_all, y = 'OOR_state_name', x = 'precision', hue = 'design', orient = 'h', order=sorted_cts, width=0.5);\n",
    "# plt.show()\n",
    "# sns.boxplot(data = classifier_outs_all, y = 'OOR_state_name', x = 'accuracy', hue = 'design', orient = 'h', order=sorted_cts, width=0.5)"
   ]
  },
  {
   "cell_type": "code",
   "execution_count": 21,
   "id": "convinced-graphic",
   "metadata": {},
   "outputs": [],
   "source": [
    "classifier_outs_all['OOR_state_name'] = [short_pop_names[x] for x in classifier_outs_all.OOR_state_name]"
   ]
  },
  {
   "cell_type": "code",
   "execution_count": 22,
   "id": "painful-tooth",
   "metadata": {},
   "outputs": [
    {
     "name": "stdout",
     "output_type": "stream",
     "text": [
      "  precision    recall  f1-score  accuracy support design OOR_state_name\n",
      "1 0.8549618 0.8296296 0.8421053 0.9830440     135    ACR       memory B\n",
      "2 0.8805970 0.8251748 0.8519856 0.9834477     143    ACR       memory B\n",
      "3 0.8145695 0.8482759 0.8310811 0.9798143     145    ACR       memory B\n",
      "4 0.8345324 0.7945205 0.8140351 0.9786031     146    ACR       memory B\n",
      "5 0.8059701 0.8571429 0.8307692 0.9822366     126    ACR       memory B\n",
      "6 0.8031496 0.8095238 0.8063241 0.9802180     126    ACR       memory B\n"
     ]
    }
   ],
   "source": [
    "%%R -i classifier_outs_all\n",
    "head(classifier_outs_all)"
   ]
  },
  {
   "cell_type": "code",
   "execution_count": 24,
   "id": "sealed-converter",
   "metadata": {},
   "outputs": [
    {
     "data": {
      "image/png": "[encoded data removed]"
     },
     "metadata": {},
     "output_type": "display_data"
    }
   ],
   "source": [
    "%%R -w 700 -h 700\n",
    "pl_df <- classifier_outs_all %>%\n",
    "    group_by(OOR_state_name) %>%\n",
    "    mutate(mean_precision = median(precision), mean_accuracy = median(accuracy)) %>%\n",
    "    ungroup() %>%\n",
    "    arrange(mean_precision) %>%\n",
    "    mutate(OOR_state_name = factor(OOR_state_name, levels=unique(OOR_state_name))) %>%\n",
    "    mutate(design = factor(design, levels=c('AR', \"CR scArches\", 'CR scVI', \"ACR\"))) \n",
    "    \n",
    "p1 <- pl_df %>%\n",
    "    ggplot(aes(OOR_state_name, precision, color=design)) +\n",
    "    geom_boxplot() +\n",
    "    scale_color_manual(values=design_palette) +\n",
    "    coord_flip() +\n",
    "    theme_bw(base_size=22) +\n",
    "    xlab('OOR cell population') +\n",
    "    theme(legend.position='top')\n",
    "\n",
    "p2 <- pl_df %>%\n",
    "    ggplot(aes(OOR_state_name, `recall`, color=design)) +\n",
    "    geom_boxplot() +\n",
    "    scale_color_manual(values=design_palette) +\n",
    "    coord_flip() +\n",
    "    theme_bw(base_size=22) +\n",
    "    theme(legend.position='top')\n",
    "    \n",
    "(p1 + (p2 + remove_y_axis()) + plot_layout(guides='collect') & theme(legend.position='top')) +\n",
    "ggsave(paste0(figdir, 'OOR_state_classifier_precision_recall.png'), width=12, height=7) +\n",
    "ggsave(paste0(figdir, 'OOR_state_classifier_precision_recall.pdf'), width=12, height=7)"
   ]
  }
 ],
 "metadata": {
  "kernelspec": {
   "display_name": "Python (oor-benchmark)",
   "language": "python",
   "name": "oor-benchmark"
  },
  "language_info": {
   "codemirror_mode": {
    "name": "ipython",
    "version": 3
   },
   "file_extension": ".py",
   "mimetype": "text/x-python",
   "name": "python",
   "nbconvert_exporter": "python",
   "pygments_lexer": "ipython3",
   "version": "3.10.6"
  }
 },
 "nbformat": 4,
 "nbformat_minor": 5
}
