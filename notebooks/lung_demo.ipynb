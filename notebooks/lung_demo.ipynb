{
 "cells": [
  {
   "cell_type": "markdown",
   "id": "fiscal-correspondence",
   "metadata": {},
   "source": [
    "# Demo on lung dataset"
   ]
  },
  {
   "cell_type": "code",
   "execution_count": 1,
   "id": "golden-mystery",
   "metadata": {},
   "outputs": [],
   "source": [
    "%load_ext autoreload\n",
    "%autoreload 2"
   ]
  },
  {
   "cell_type": "code",
   "execution_count": 15,
   "id": "imported-sigma",
   "metadata": {},
   "outputs": [],
   "source": [
    "import os,sys\n",
    "import numpy as np\n",
    "import pandas as pd\n",
    "import scanpy as sc\n",
    "\n",
    "import q2r_uncertainty\n",
    "import diff2atlas"
   ]
  },
  {
   "cell_type": "code",
   "execution_count": 18,
   "id": "temporal-ability",
   "metadata": {},
   "outputs": [],
   "source": [
    "## Some utils\n",
    "def clean_pop_name(string):\n",
    "   return(''.join(e if e.isalnum() else '_' for e in string))"
   ]
  },
  {
   "cell_type": "markdown",
   "id": "spiritual-champagne",
   "metadata": {},
   "source": [
    "### Load dataset"
   ]
  },
  {
   "cell_type": "code",
   "execution_count": 11,
   "id": "robust-swing",
   "metadata": {},
   "outputs": [],
   "source": [
    "outpath = '/home/jovyan/mount/gdrive/query2reference/processed_data/'\n",
    "h5ad_file = 'lung.h5ad'\n",
    "adata = sc.read_h5ad(outpath + h5ad_file)"
   ]
  },
  {
   "cell_type": "markdown",
   "id": "advised-notification",
   "metadata": {},
   "source": [
    "### Split into atlas-condition-control and simulate condition-specific pop"
   ]
  },
  {
   "cell_type": "code",
   "execution_count": 12,
   "id": "induced-buffer",
   "metadata": {},
   "outputs": [
    {
     "data": {
      "text/plain": [
       "False"
      ]
     },
     "execution_count": 12,
     "metadata": {},
     "output_type": "execute_result"
    }
   ],
   "source": [
    "population_obs = 'cell_type'\n",
    "perturb_pop=['Secretory']\n",
    "batch_obs='batch'\n",
    "query_batch=['A6']\n",
    "ctrl_batch=['A5']\n",
    "\n",
    "q2r_uncertainty.q2r_simulation.simulate_query_reference_batch(\n",
    "            adata, perturb_pop = perturb_pop, population_obs = population_obs,\n",
    "            batch_obs = batch_obs, query_batch = query_batch, ctrl_batch=ctrl_batch\n",
    "        )\n",
    "\n",
    "## Checks \n",
    "any(adata.obs[adata.obs[population_obs].isin(perturb_pop)]['is_train']==1)\n",
    "any(adata.obs[adata.obs[population_obs].isin(perturb_pop)]['is_ctrl']==1)"
   ]
  },
  {
   "cell_type": "code",
   "execution_count": 17,
   "id": "rising-scenario",
   "metadata": {},
   "outputs": [
    {
     "data": {
      "text/plain": [
       "True"
      ]
     },
     "execution_count": 17,
     "metadata": {},
     "output_type": "execute_result"
    }
   ],
   "source": [
    "sim_id = f\"queryBatch{'-'.join(query_batch)}_ctrlBatch{'-'.join(ctrl_batch)}_perturb_{population_obs}{clean_pop_name('-'.join(perturb_pop))}\"\n",
    "if os.path.exists(outpath + h5ad_file.split('.h5ad')[0] + f\"_models/model_reference_{sim_id}/\"):"
   ]
  },
  {
   "cell_type": "code",
   "execution_count": null,
   "id": "arranged-journalist",
   "metadata": {},
   "outputs": [],
   "source": []
  }
 ],
 "metadata": {
  "kernelspec": {
   "display_name": "Python (emma_env)",
   "language": "python",
   "name": "emma_env"
  },
  "language_info": {
   "codemirror_mode": {
    "name": "ipython",
    "version": 3
   },
   "file_extension": ".py",
   "mimetype": "text/x-python",
   "name": "python",
   "nbconvert_exporter": "python",
   "pygments_lexer": "ipython3",
   "version": "3.7.8"
  }
 },
 "nbformat": 4,
 "nbformat_minor": 5
}
