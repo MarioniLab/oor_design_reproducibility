{
 "cells": [
  {
   "cell_type": "markdown",
   "metadata": {},
   "source": [
    "## Atlas subsampling "
   ]
  },
  {
   "cell_type": "code",
   "execution_count": 259,
   "metadata": {},
   "outputs": [
    {
     "name": "stdout",
     "output_type": "stream",
     "text": [
      "The autoreload extension is already loaded. To reload it, use:\n",
      "  %reload_ext autoreload\n"
     ]
    }
   ],
   "source": [
    "%load_ext autoreload\n",
    "%autoreload 2"
   ]
  },
  {
   "cell_type": "code",
   "execution_count": 260,
   "metadata": {},
   "outputs": [],
   "source": [
    "import os,sys\n",
    "import scanpy as sc \n",
    "import pandas as pd\n",
    "import numpy as np\n",
    "import milopy\n",
    "import scipy\n",
    "import anndata\n",
    "\n",
    "import seaborn as sns\n",
    "import matplotlib\n",
    "import matplotlib.pyplot as plt\n",
    "\n",
    "sns.set_context('talk')\n",
    "from matplotlib.pyplot import rc_context\n",
    "\n",
    "import milopy\n",
    "import milopy.core as milo"
   ]
  },
  {
   "cell_type": "markdown",
   "metadata": {},
   "source": [
    "## Load dataset"
   ]
  },
  {
   "cell_type": "code",
   "execution_count": null,
   "metadata": {},
   "outputs": [],
   "source": [
    "data_dir = '/lustre/scratch117/cellgen/team205/ed6/PBMC_CZI_integration_filtered/'\n",
    "adata = sc.read_h5ad(data_dir + 'PBMC_merged.normal.subsample500cells.clean_celltypes.h5ad')"
   ]
  },
  {
   "cell_type": "markdown",
   "metadata": {},
   "source": [
    "## Make sample level anndata"
   ]
  },
  {
   "cell_type": "code",
   "execution_count": 265,
   "metadata": {},
   "outputs": [],
   "source": [
    "sc.pp.neighbors(adata, use_rep='X_scVI', n_neighbors=100)"
   ]
  },
  {
   "cell_type": "code",
   "execution_count": 266,
   "metadata": {},
   "outputs": [
    {
     "name": "stderr",
     "output_type": "stream",
     "text": [
      "/home/jovyan/my-conda-envs/emma_env/lib/python3.7/site-packages/anndata/_core/anndata.py:121: ImplicitModificationWarning: Transforming to str index.\n",
      "  warnings.warn(\"Transforming to str index.\", ImplicitModificationWarning)\n"
     ]
    }
   ],
   "source": [
    "## Make nhoods\n",
    "milo.make_nhoods(adata, prop=0.01)\n",
    "milo.count_nhoods(adata, sample_col='donor_id')\n",
    "milopy.utils.add_covariate_to_nhoods_var(adata, ['sex', 'dataset_id', 'ethnicity', 'assay'])\n",
    "sample_adata = adata.uns['nhood_adata'].T.copy()\n",
    "sample_adata.layers['counts'] = sample_adata.X.copy()\n",
    "\n",
    "## Normalize counts x donor\n",
    "sc.pp.normalize_total(sample_adata, target_sum=10000)\n",
    "sc.pp.log1p(sample_adata)\n",
    "\n",
    "## Dim reduction\n",
    "sc.pp.pca(sample_adata)\n",
    "\n",
    "## Compute similarity between donors\n",
    "n_pcs = 30\n",
    "X_pca = sample_adata.obsm['X_pca']\n",
    "sample_adata.obsp['distance_full'] = scipy.spatial.distance.cdist(X_pca[:,0:n_pcs], X_pca[:,0:n_pcs])"
   ]
  },
  {
   "cell_type": "code",
   "execution_count": 267,
   "metadata": {},
   "outputs": [],
   "source": [
    "sample_adata.write_h5ad(data_dir + 'PBMC_merged.normal.subsample500cells.clean_celltypes.donor_adata.h5ad')"
   ]
  },
  {
   "cell_type": "code",
   "execution_count": 505,
   "metadata": {},
   "outputs": [],
   "source": [
    "sample_adata = sc.read_h5ad(data_dir + 'PBMC_merged.normal.subsample500cells.clean_celltypes.donor_adata.h5ad')"
   ]
  },
  {
   "cell_type": "markdown",
   "metadata": {},
   "source": [
    "### Compare controls "
   ]
  },
  {
   "cell_type": "code",
   "execution_count": 506,
   "metadata": {},
   "outputs": [],
   "source": [
    "## Define query donors\n",
    "np.random.seed(41)\n",
    "query_dataset = '10_1038_s41591_021_01329_2'\n",
    "samples_design = np.random.choice((0, 1), sum(sample_adata.obs['dataset_id'] == query_dataset))\n",
    "query_samples = sample_adata.obs_names[sample_adata.obs['dataset_id'] == query_dataset][samples_design == 1]\n"
   ]
  },
  {
   "cell_type": "code",
   "execution_count": 507,
   "metadata": {},
   "outputs": [],
   "source": [
    "## Find set of closest samples to subset atlas\n",
    "def find_ctrl_samples(\n",
    "    sample_adata, \n",
    "    ctrl_samples_all,\n",
    "    query_samples, \n",
    "    method = 'closest', ## one of closest, farthest, random\n",
    "    n_ctrl: int = 15,\n",
    "    random_seed = 42,\n",
    "    n_pcs = 30\n",
    "    ):\n",
    "    '''\n",
    "    Params:\n",
    "    ------\n",
    "    - sample_adata: sample-level anndata object\n",
    "    - query_samples: list or collection of samples from query dataset\n",
    "    - n_ctrl: number of control samples to pick\n",
    "    '''\n",
    "    \n",
    "    # Get distances to query samples\n",
    "    query_distances = scipy.spatial.distance.cdist(sample_adata[query_samples,:].obsm['X_pca'][:,0:n_pcs], sample_adata[ctrl_samples_all,:].obsm['X_pca'][:,0:n_pcs])\n",
    "    \n",
    "    # Get n_ctrl closest samples\n",
    "    if method == 'closest':\n",
    "        n_closest = 0\n",
    "        k = 1\n",
    "        ctrl_samples = np.array([])\n",
    "        while n_closest < n_ctrl:\n",
    "            closest_samples_k = np.argsort(query_distances, axis=1)[:,0:k]\n",
    "            closest_samples = np.setdiff1d(np.unique(closest_samples_k), ctrl_samples)\n",
    "            closest_dist = query_distances[:,closest_samples].min(axis=0).argsort()\n",
    "            ctrl_samples = np.hstack([ctrl_samples, closest_samples[closest_dist][0:(n_ctrl - n_closest)]])\n",
    "            n_closest = len(ctrl_samples)\n",
    "            k +=1\n",
    "        ctrl_samples = ctrl_samples_all[ctrl_samples.astype('int')]\n",
    "\n",
    "    if method == 'farthest':\n",
    "        n_closest = 0\n",
    "        k = 1\n",
    "        ctrl_samples = np.array([])\n",
    "        while n_closest < n_ctrl:\n",
    "            closest_samples_k = np.argsort(query_distances, axis=1)[:,-k:]\n",
    "            closest_samples = np.setdiff1d(np.unique(closest_samples_k), ctrl_samples)\n",
    "            closest_dist = query_distances[:,closest_samples].min(axis=0).argsort()\n",
    "            ctrl_samples = np.hstack([ctrl_samples, closest_samples[closest_dist][0:(n_ctrl - n_closest)]])\n",
    "            n_closest = len(ctrl_samples)\n",
    "            k +=1\n",
    "        ctrl_samples = ctrl_samples_all[ctrl_samples.astype('int')]\n",
    "\n",
    "    if method == 'random':\n",
    "        np.random.seed(random_seed)\n",
    "        ctrl_samples = np.random.choice(ctrl_samples_all, n_ctrl, replace=False)\n",
    "\n",
    "    return(ctrl_samples)\n",
    "# ## Get ctrl samples closest to avg of query samples\n",
    "# closest_samples = ctrl_samples[np.argsort(query_distances.mean(axis=0))[0:n_ctrl]]"
   ]
  },
  {
   "cell_type": "code",
   "execution_count": 508,
   "metadata": {},
   "outputs": [],
   "source": [
    "## Matched control samples\n",
    "matched_ctrl = sample_adata.obs_names[(sample_adata.obs['dataset_id'] == query_dataset) & (~sample_adata.obs_names.isin(query_samples))]\n",
    "sample_adata.obs[f'matched_ctrl'] = sample_adata.obs_names.isin(closest_ctrl).astype('int')\n",
    "\n",
    "ctrl_samples_all = sample_adata.obs_names[sample_adata.obs['dataset_id'] != query_dataset]\n",
    "n_ctrl = len(matched_ctrl)\n",
    "\n",
    "## Closest control samples\n",
    "closest_ctrl = find_ctrl_samples(sample_adata, ctrl_samples_all, query_samples, method='closest', n_ctrl=n_ctrl)\n",
    "sample_adata.obs[f'close_ctrl'] = sample_adata.obs_names.isin(closest_ctrl).astype('int')\n",
    "\n",
    "## Farthest control samples\n",
    "far_ctrl = find_ctrl_samples(sample_adata, ctrl_samples_all, query_samples, method='farthest', n_ctrl=n_ctrl)\n",
    "sample_adata.obs[f'far_ctrl'] = sample_adata.obs_names.isin(far_ctrl).astype('int')\n",
    "\n",
    "## Random control samples (x 3)\n",
    "for i in [1,2,3]:\n",
    "    random_ctrl = find_ctrl_samples(sample_adata, ctrl_samples_all, query_samples, n_ctrl=n_ctrl, method = 'random', random_seed = 42+i)\n",
    "    sample_adata.obs[f'random{i}_ctrl'] = sample_adata.obs_names.isin(random_ctrl).astype('int')"
   ]
  },
  {
   "cell_type": "code",
   "execution_count": 513,
   "metadata": {},
   "outputs": [
    {
     "data": {
      "text/plain": [
       "View of AnnData object with n_obs × n_vars = 16 × 5916\n",
       "    obs: 'ethnicity', 'sex', 'dataset_id', 'assay', 'donor_id', 'matched_ctrl', 'close_ctrl', 'far_ctrl', 'random1_ctrl', 'random2_ctrl', 'random3_ctrl'\n",
       "    var: 'index_cell', 'kth_distance'\n",
       "    uns: 'log1p', 'pca', 'sample_col'\n",
       "    obsm: 'X_pca'\n",
       "    varm: 'PCs'\n",
       "    layers: 'counts'\n",
       "    obsp: 'distance_full'"
      ]
     },
     "execution_count": 513,
     "metadata": {},
     "output_type": "execute_result"
    }
   ],
   "source": []
  },
  {
   "cell_type": "code",
   "execution_count": 411,
   "metadata": {},
   "outputs": [
    {
     "data": {
      "text/plain": [
       "array([1046, 1093, 1007,   28, 1095])"
      ]
     },
     "execution_count": 411,
     "metadata": {},
     "output_type": "execute_result"
    }
   ],
   "source": [
    "closest_dist = query_distances[:,closest_samples].min(axis=0).argsort()\n",
    "closest_samples[closest_dist][0:n_ctrl - n_closest]"
   ]
  },
  {
   "cell_type": "markdown",
   "metadata": {},
   "source": []
  }
 ],
 "metadata": {
  "kernelspec": {
   "display_name": "Python (emma_env)",
   "language": "python",
   "name": "emma_env"
  },
  "language_info": {
   "codemirror_mode": {
    "name": "ipython",
    "version": 3
   },
   "file_extension": ".py",
   "mimetype": "text/x-python",
   "name": "python",
   "nbconvert_exporter": "python",
   "pygments_lexer": "ipython3",
   "version": "3.7.8"
  },
  "orig_nbformat": 4
 },
 "nbformat": 4,
 "nbformat_minor": 2
}
