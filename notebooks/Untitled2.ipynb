{
 "cells": [
  {
   "cell_type": "code",
   "execution_count": 1,
   "id": "assigned-clear",
   "metadata": {},
   "outputs": [],
   "source": [
    "import pandas as pd\n",
    "import numpy as np"
   ]
  },
  {
   "cell_type": "code",
   "execution_count": 22,
   "id": "known-dancing",
   "metadata": {
    "vscode": {
     "languageId": "python"
    }
   },
   "outputs": [],
   "source": [
    "## r2py setup\n",
    "import rpy2.rinterface_lib.callbacks\n",
    "import logging\n",
    "rpy2.rinterface_lib.callbacks.logger.setLevel(logging.ERROR)"
   ]
  },
  {
   "cell_type": "code",
   "execution_count": 23,
   "id": "lovely-purse",
   "metadata": {
    "vscode": {
     "languageId": "python"
    }
   },
   "outputs": [],
   "source": [
    "%load_ext rpy2.ipython"
   ]
  },
  {
   "cell_type": "code",
   "execution_count": 24,
   "id": "extraordinary-defeat",
   "metadata": {
    "vscode": {
     "languageId": "python"
    }
   },
   "outputs": [
    {
     "name": "stderr",
     "output_type": "stream",
     "text": [
      "\u001b[0;1;31mSystem has not been booted with systemd as init system (PID 1). Can't operate.\u001b[0m\n",
      "\u001b[0;1;31mFailed to create bus connection: Host is down\u001b[0m\n"
     ]
    }
   ],
   "source": [
    "%%R\n",
    "library(tidyverse)"
   ]
  },
  {
   "cell_type": "code",
   "execution_count": 31,
   "id": "infinite-animation",
   "metadata": {},
   "outputs": [],
   "source": [
    "HCA_manifest = pd.read_table('/nfs/team205/ed6/data/hca-manifest-6c5304b0-336f-5efe-8302-a724e06e59d2.83e2ac44-854a-54ee-9420-b4e2f6102404.tsv', index_col=0)"
   ]
  },
  {
   "cell_type": "code",
   "execution_count": 32,
   "id": "laden-verse",
   "metadata": {},
   "outputs": [
    {
     "data": {
      "text/plain": [
       "Index(['source_spec', 'bundle_uuid', 'bundle_version', 'file_document_id',\n",
       "       'file_type', 'file_name', 'file_format', 'read_index', 'file_size',\n",
       "       'file_uuid', 'file_version', 'file_crc32c', 'file_sha256',\n",
       "       'file_content_type', 'file_drs_uri', 'file_url',\n",
       "       'cell_suspension.provenance.document_id',\n",
       "       'cell_suspension.biomaterial_core.biomaterial_id',\n",
       "       'cell_suspension.estimated_cell_count',\n",
       "       'cell_suspension.selected_cell_type',\n",
       "       'sequencing_process.provenance.document_id',\n",
       "       'sequencing_protocol.instrument_manufacturer_model',\n",
       "       'sequencing_protocol.paired_end',\n",
       "       'library_preparation_protocol.library_construction_approach',\n",
       "       'library_preparation_protocol.nucleic_acid_source',\n",
       "       'project.provenance.document_id', 'project.contributors.institution',\n",
       "       'project.contributors.laboratory',\n",
       "       'project.project_core.project_short_name',\n",
       "       'project.project_core.project_title', 'project.estimated_cell_count',\n",
       "       'specimen_from_organism.provenance.document_id',\n",
       "       'specimen_from_organism.diseases', 'specimen_from_organism.organ',\n",
       "       'specimen_from_organism.organ_part',\n",
       "       'specimen_from_organism.preservation_storage.preservation_method',\n",
       "       'donor_organism.sex', 'donor_organism.biomaterial_core.biomaterial_id',\n",
       "       'donor_organism.provenance.document_id', 'donor_organism.genus_species',\n",
       "       'donor_organism.development_stage', 'donor_organism.diseases',\n",
       "       'donor_organism.organism_age', 'cell_line.provenance.document_id',\n",
       "       'cell_line.biomaterial_core.biomaterial_id',\n",
       "       'organoid.provenance.document_id',\n",
       "       'organoid.biomaterial_core.biomaterial_id', 'organoid.model_organ',\n",
       "       'organoid.model_organ_part', '_entity_type',\n",
       "       'sample.provenance.document_id',\n",
       "       'sample.biomaterial_core.biomaterial_id',\n",
       "       'sequencing_input.provenance.document_id',\n",
       "       'sequencing_input.biomaterial_core.biomaterial_id',\n",
       "       'sequencing_input_type'],\n",
       "      dtype='object')"
      ]
     },
     "execution_count": 32,
     "metadata": {},
     "output_type": "execute_result"
    }
   ],
   "source": [
    "HCA_manifest.columns"
   ]
  },
  {
   "cell_type": "code",
   "execution_count": 84,
   "id": "unique-castle",
   "metadata": {},
   "outputs": [
    {
     "data": {
      "text/plain": [
       "array(['application/octet-stream; dcp-type=data; dcp-type=data',\n",
       "       'text/tab-separated-values; dcp-type=data; dcp-type=data',\n",
       "       'application/vnd.loom; dcp-type=data',\n",
       "       'application/gzip; dcp-type=data; dcp-type=data',\n",
       "       'binary/octet-stream; dcp-type=data; dcp-type=data',\n",
       "       'application/x-tar; dcp-type=data; dcp-type=data',\n",
       "       'application/zip; dcp-type=data; dcp-type=data',\n",
       "       'text/csv; dcp-type=data; dcp-type=data',\n",
       "       'text/plain; dcp-type=data; dcp-type=data',\n",
       "       'application/vnd.openxmlformats-officedocument.spreadsheetml.sheet; dcp-type=data; dcp-type=data'],\n",
       "      dtype=object)"
      ]
     },
     "execution_count": 84,
     "metadata": {},
     "output_type": "execute_result"
    }
   ],
   "source": [
    "HCA_manifest.file_content_type.unique()"
   ]
  },
  {
   "cell_type": "code",
   "execution_count": 59,
   "id": "operating-roommate",
   "metadata": {},
   "outputs": [],
   "source": [
    "project_cols = ['project.project_core.project_short_name']\n",
    "donor_cols = HCA_manifest.columns[HCA_manifest.columns.str.startswith('donor')].tolist()\n",
    "specimen_cols = [\n",
    "    'specimen_from_organism.provenance.document_id',\n",
    "     'specimen_from_organism.diseases',\n",
    " 'specimen_from_organism.organ',\n",
    " 'specimen_from_organism.organ_part'\n",
    "]"
   ]
  },
  {
   "cell_type": "code",
   "execution_count": 69,
   "id": "metric-essence",
   "metadata": {},
   "outputs": [
    {
     "name": "stderr",
     "output_type": "stream",
     "text": [
      "/tmp/ipykernel_8700/77444952.py:2: SettingWithCopyWarning: \n",
      "A value is trying to be set on a copy of a slice from a DataFrame\n",
      "\n",
      "See the caveats in the documentation: https://pandas.pydata.org/pandas-docs/stable/user_guide/indexing.html#returning-a-view-versus-a-copy\n",
      "  HCA_manifest_keep.loc[HCA_manifest_keep['donor_organism.organism_age'].isna(), 'donor_organism.organism_age'] = 'embryonic'\n",
      "/tmp/ipykernel_8700/77444952.py:3: SettingWithCopyWarning: \n",
      "A value is trying to be set on a copy of a slice from a DataFrame\n",
      "\n",
      "See the caveats in the documentation: https://pandas.pydata.org/pandas-docs/stable/user_guide/indexing.html#returning-a-view-versus-a-copy\n",
      "  HCA_manifest_keep.loc[HCA_manifest_keep['donor_organism.diseases'].isna(), 'donor_organism.diseases'] = 'normal'\n"
     ]
    }
   ],
   "source": [
    "HCA_manifest_keep = HCA_manifest[project_cols + donor_cols ]\n",
    "HCA_manifest_keep.loc[HCA_manifest_keep['donor_organism.organism_age'].isna(), 'donor_organism.organism_age'] = 'embryonic'\n",
    "HCA_manifest_keep.loc[HCA_manifest_keep['donor_organism.diseases'].isna(), 'donor_organism.diseases'] = 'normal'"
   ]
  },
  {
   "cell_type": "code",
   "execution_count": 76,
   "id": "tired-manufacturer",
   "metadata": {},
   "outputs": [
    {
     "data": {
      "text/plain": [
       "array(['unknown', 'female', 'female || male', 'male',\n",
       "       'female || male || unknown', 'male || unknown'], dtype=object)"
      ]
     },
     "execution_count": 76,
     "metadata": {},
     "output_type": "execute_result"
    }
   ],
   "source": [
    "HCA_manifest_keep['donor_organism.sex'].unique()"
   ]
  },
  {
   "cell_type": "code",
   "execution_count": 70,
   "id": "labeled-township",
   "metadata": {},
   "outputs": [
    {
     "name": "stdout",
     "output_type": "stream",
     "text": [
      "  project.project_core.project_short_name donor_organism.sex\n",
      "1                    myocardialInfarction            unknown\n",
      "2           pulmonaryFibrosisPathobiology             female\n",
      "3         HumanNaturalKillerDiversityYang             female\n",
      "4                         1M Immune Cells     female || male\n",
      "5             spatiotemporalIntestinalDev     female || male\n",
      "6                         1M Immune Cells             female\n",
      "        donor_organism.biomaterial_core.biomaterial_id\n",
      "1                                                  P22\n",
      "2                                              donor_1\n",
      "3                                              Donor_2\n",
      "4 CB1 || CB2 || CB3 || CB4 || CB5 || CB6 || CB7 || CB8\n",
      "5                      AAB || AAE || AAF || AAT || ABV\n",
      "6                                                  CB3\n",
      "                                                                                                                                                                                                                                                                                         donor_organism.provenance.document_id\n",
      "1                                                                                                                                                                                                                                                                                         39984bd7-694c-4c04-be4c-1b5b07f2f27b\n",
      "2                                                                                                                                                                                                                                                                                         3b421eb7-4cef-4e13-a877-efa457bc7923\n",
      "3                                                                                                                                                                                                                                                                                         d7af8f24-6be7-493f-b060-830e87cc8107\n",
      "4 0b91cb1f-e2a8-413a-836c-1d38e7af3f2d || 31f89559-2682-4bbc-84c6-826dfe4a4e39 || 4a404c91-0dbf-4246-bc23-d13aff961ba7 || 4e98f612-15ec-44ab-b5f9-39787f92b01a || 509c507c-4759-452f-994e-d134d90329fd || 53af872d-b838-44d6-ae1b-25b56405483c || 6072d1f5-aa0c-4ab1-a8a6-a00ab479a1ba || e4b5115d-3a0d-4c50-aba4-04b5f76810da\n",
      "5                                                                                                                         4e6aecec-c9dd-4c59-ae22-8a54a57d8cb3 || 5504162e-348d-4896-8a58-ab6f27730a7b || a35e623c-96d8-422f-b259-2c35f04604f8 || c6ef0b34-9011-4ace-81ae-196ca0a1d924 || f68aeb5e-e062-4a7e-8346-a9066ae4cac3\n",
      "6                                                                                                                                                                                                                                                                                         4a404c91-0dbf-4246-bc23-d13aff961ba7\n",
      "  donor_organism.genus_species\n",
      "1                 Homo sapiens\n",
      "2                 Homo sapiens\n",
      "3                 Homo sapiens\n",
      "4                 Homo sapiens\n",
      "5                 Homo sapiens\n",
      "6                 Homo sapiens\n",
      "                                                                                                  donor_organism.development_stage\n",
      "1                                                                                                             post-embryonic stage\n",
      "2                                                                                                                human adult stage\n",
      "3                                                                                                                human adult stage\n",
      "4                                                                                                                       postpartum\n",
      "5 12th week post-fertilization human stage || 17th week post-fertilization human stage || 19th week post-fertilization human stage\n",
      "6                                                                                                                       postpartum\n",
      "  donor_organism.diseases donor_organism.organism_age\n",
      "1                  normal                   embryonic\n",
      "2                  normal                     63 year\n",
      "3                  normal                   25.0 year\n",
      "4                  normal                      0 year\n",
      "5                  normal                   embryonic\n",
      "6                  normal                      0 year\n"
     ]
    },
    {
     "name": "stderr",
     "output_type": "stream",
     "text": [
      "/home/jovyan/my-conda-envs/oor-benchmark/lib/python3.10/site-packages/rpy2/robjects/pandas2ri.py:56: FutureWarning: iteritems is deprecated and will be removed in a future version. Use .items instead.\n",
      "  for name, values in obj.iteritems():\n"
     ]
    }
   ],
   "source": [
    "%%R -i HCA_manifest_keep\n",
    "head(HCA_manifest_keep)"
   ]
  },
  {
   "cell_type": "code",
   "execution_count": 74,
   "id": "fabulous-baghdad",
   "metadata": {},
   "outputs": [
    {
     "name": "stdout",
     "output_type": "stream",
     "text": [
      "  project.project_core.project_short_name donor_organism.sex\n",
      "1                    myocardialInfarction            unknown\n",
      "2           pulmonaryFibrosisPathobiology             female\n",
      "3         HumanNaturalKillerDiversityYang             female\n",
      "4                         1M Immune Cells     female || male\n",
      "5             spatiotemporalIntestinalDev     female || male\n",
      "6                         1M Immune Cells             female\n",
      "        donor_organism.biomaterial_core.biomaterial_id\n",
      "1                                                  P22\n",
      "2                                              donor_1\n",
      "3                                              Donor_2\n",
      "4 CB1 || CB2 || CB3 || CB4 || CB5 || CB6 || CB7 || CB8\n",
      "5                      AAB || AAE || AAF || AAT || ABV\n",
      "6                                                  CB3\n",
      "                                                                                                                                                                                                                                                                                         donor_organism.provenance.document_id\n",
      "1                                                                                                                                                                                                                                                                                         39984bd7-694c-4c04-be4c-1b5b07f2f27b\n",
      "2                                                                                                                                                                                                                                                                                         3b421eb7-4cef-4e13-a877-efa457bc7923\n",
      "3                                                                                                                                                                                                                                                                                         d7af8f24-6be7-493f-b060-830e87cc8107\n",
      "4 0b91cb1f-e2a8-413a-836c-1d38e7af3f2d || 31f89559-2682-4bbc-84c6-826dfe4a4e39 || 4a404c91-0dbf-4246-bc23-d13aff961ba7 || 4e98f612-15ec-44ab-b5f9-39787f92b01a || 509c507c-4759-452f-994e-d134d90329fd || 53af872d-b838-44d6-ae1b-25b56405483c || 6072d1f5-aa0c-4ab1-a8a6-a00ab479a1ba || e4b5115d-3a0d-4c50-aba4-04b5f76810da\n",
      "5                                                                                                                         4e6aecec-c9dd-4c59-ae22-8a54a57d8cb3 || 5504162e-348d-4896-8a58-ab6f27730a7b || a35e623c-96d8-422f-b259-2c35f04604f8 || c6ef0b34-9011-4ace-81ae-196ca0a1d924 || f68aeb5e-e062-4a7e-8346-a9066ae4cac3\n",
      "6                                                                                                                                                                                                                                                                                         4a404c91-0dbf-4246-bc23-d13aff961ba7\n",
      "  donor_organism.genus_species\n",
      "1                 Homo sapiens\n",
      "2                 Homo sapiens\n",
      "3                 Homo sapiens\n",
      "4                 Homo sapiens\n",
      "5                 Homo sapiens\n",
      "6                 Homo sapiens\n",
      "                                                                                                  donor_organism.development_stage\n",
      "1                                                                                                             post-embryonic stage\n",
      "2                                                                                                                human adult stage\n",
      "3                                                                                                                human adult stage\n",
      "4                                                                                                                       postpartum\n",
      "5 12th week post-fertilization human stage || 17th week post-fertilization human stage || 19th week post-fertilization human stage\n",
      "6                                                                                                                       postpartum\n",
      "  donor_organism.diseases donor_organism.organism_age\n",
      "1                  normal                   embryonic\n",
      "2                  normal                     63 year\n",
      "3                  normal                   25.0 year\n",
      "4                  normal                      0 year\n",
      "5                  normal                   embryonic\n",
      "6                  normal                      0 year\n"
     ]
    }
   ],
   "source": [
    "%%R\n",
    "## Find collapsed columns\n",
    "cols <- colnames(HCA_manifest_keep)\n",
    "\n",
    "HCA_manifest_keep %>%\n",
    "    head() \n",
    "#     separate_rows(cols, convert=TRUE) \n",
    "#     mutate(specimen_from_organism.diseases = strsplit(as.character(specimen_from_organism.diseases), ' || ')) %>%\n",
    "#     head() %>%\n",
    "#     unnest(specimen_from_organism.diseases)"
   ]
  },
  {
   "cell_type": "code",
   "execution_count": null,
   "id": "fatty-consultancy",
   "metadata": {},
   "outputs": [],
   "source": []
  }
 ],
 "metadata": {
  "kernelspec": {
   "display_name": "Python (oor-benchmark)",
   "language": "python",
   "name": "oor-benchmark"
  },
  "language_info": {
   "codemirror_mode": {
    "name": "ipython",
    "version": 3
   },
   "file_extension": ".py",
   "mimetype": "text/x-python",
   "name": "python",
   "nbconvert_exporter": "python",
   "pygments_lexer": "ipython3",
   "version": "3.10.6"
  }
 },
 "nbformat": 4,
 "nbformat_minor": 5
}
