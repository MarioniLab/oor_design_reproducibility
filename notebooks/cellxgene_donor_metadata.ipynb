{
 "cells": [
  {
   "cell_type": "markdown",
   "id": "civil-counter",
   "metadata": {},
   "source": [
    "### Donor-level stats in cellxgene data portal"
   ]
  },
  {
   "cell_type": "markdown",
   "id": "random-pizza",
   "metadata": {},
   "source": [
    "Following [sfaira tutorial](https://github.com/theislab/sfaira_tutorials/blob/master/tutorials/cellxgene_download.ipynb)"
   ]
  },
  {
   "cell_type": "code",
   "execution_count": 1,
   "id": "atomic-waste",
   "metadata": {},
   "outputs": [],
   "source": [
    "import sfaira\n",
    "import scanpy as sc\n",
    "import pandas as pd\n",
    "import numpy as np\n",
    "import anndata\n",
    "import os\n",
    "import glob\n"
   ]
  },
  {
   "cell_type": "code",
   "execution_count": 2,
   "id": "usual-sampling",
   "metadata": {},
   "outputs": [],
   "source": [
    "data_path = os.path.join(\"/nfs/team205/ed6/data/\", \"sfaira_data\")\n",
    "cache_path = os.path.join(\"/nfs/team205/ed6/data/\", \"sfaira_cache\")\n",
    "meta_path = os.path.join(\"/nfs/team205/ed6/data/\", \"sfaira_meta\")\n",
    "if not os.path.exists(data_path):\n",
    "    os.mkdir(data_path)\n",
    "if not os.path.exists(cache_path):\n",
    "    os.mkdir(cache_path)\n",
    "if not os.path.exists(meta_path):\n",
    "    os.mkdir(meta_path)"
   ]
  },
  {
   "cell_type": "code",
   "execution_count": 3,
   "id": "rolled-norfolk",
   "metadata": {},
   "outputs": [],
   "source": [
    "sfaira.settings.cachedir_base = cache_path"
   ]
  },
  {
   "cell_type": "markdown",
   "id": "moving-table",
   "metadata": {},
   "source": [
    "## Interact w database"
   ]
  },
  {
   "cell_type": "code",
   "execution_count": 4,
   "id": "choice-implement",
   "metadata": {},
   "outputs": [
    {
     "name": "stdout",
     "output_type": "stream",
     "text": [
      "Ontology <class 'sfaira.versions.metadata.base.OntologyUberonLifecyclestage'> is not a DAG, treat child-parent reasoning with care.\n",
      "Ontology <class 'sfaira.versions.metadata.base.OntologyMondo'> is not a DAG, treat child-parent reasoning with care.\n",
      "Ontology <class 'sfaira.versions.metadata.base.OntologyUberon'> is not a DAG, treat child-parent reasoning with care.\n"
     ]
    }
   ],
   "source": [
    "dsg = sfaira.data.dataloaders.databases.DatasetSuperGroupDatabases(\n",
    "    data_path=data_path, cache_path=cache_path, meta_path=meta_path, cache_metadata=True)"
   ]
  },
  {
   "cell_type": "code",
   "execution_count": 5,
   "id": "polar-placement",
   "metadata": {},
   "outputs": [],
   "source": [
    "## Subset to human collections\n",
    "dsg.subset(key='organism', values=['Homo sapiens']) \n",
    "\n",
    "## Subset to scRNA-seq protocols (exclude spatial)\n",
    "protocols = [\"10x 3' transcription profiling\", \"10x 3' v1\", \"10x 3' v2\",\n",
    "       \"10x 3' v3\", \"10x 5' transcription profiling\", \"10x 5' v1\",\n",
    "        'CEL-seq2', 'Drop-seq',\n",
    "        'Smart-seq2', \n",
    "       'microwell-seq', 'sci-RNA-seq', 'single-cell RNA sequencing']\n",
    "dsg.subset(key='assay_sc', values=protocols)\n",
    "\n",
    "## Keep collections from a known primary tissue\n",
    "target_collections = []\n",
    "for k,v in dsg.datasets.items():\n",
    "    if v.organ is not None:\n",
    "        target_collections.append(k)\n",
    "# dsg.subset(key=\"collection_id\", values=target_collections)"
   ]
  },
  {
   "cell_type": "code",
   "execution_count": 6,
   "id": "active-count",
   "metadata": {},
   "outputs": [],
   "source": [
    "## Keep collections from published data\n",
    "DOIs = []\n",
    "for k in target_collections:\n",
    "    DOIs.append(dsg.datasets[k].doi)"
   ]
  },
  {
   "cell_type": "code",
   "execution_count": 7,
   "id": "individual-burns",
   "metadata": {},
   "outputs": [],
   "source": [
    "target_collections = [target_collections[i] for i,d in enumerate(DOIs) if d[0].startswith('https://doi.org/')]"
   ]
  },
  {
   "cell_type": "code",
   "execution_count": 8,
   "id": "circular-input",
   "metadata": {},
   "outputs": [],
   "source": [
    "dsg.subset(key=\"id\", values=target_collections)"
   ]
  },
  {
   "cell_type": "code",
   "execution_count": 9,
   "id": "determined-third",
   "metadata": {},
   "outputs": [
    {
     "data": {
      "text/plain": [
       "213"
      ]
     },
     "execution_count": 9,
     "metadata": {},
     "output_type": "execute_result"
    }
   ],
   "source": [
    "len(dsg.datasets)"
   ]
  },
  {
   "cell_type": "code",
   "execution_count": 17,
   "id": "worse-argument",
   "metadata": {},
   "outputs": [],
   "source": [
    "# dsg.download()"
   ]
  },
  {
   "cell_type": "code",
   "execution_count": 47,
   "id": "necessary-olive",
   "metadata": {},
   "outputs": [],
   "source": [
    "k = '0fdb6122-4600-40f0-a703-2da47cc7080d'\n",
    "v = dsg.datasets[k]"
   ]
  },
  {
   "cell_type": "code",
   "execution_count": 48,
   "id": "differential-marker",
   "metadata": {},
   "outputs": [
    {
     "ename": "ValueError",
     "evalue": "adata of 0fdb6122-4600-40f0-a703-2da47cc7080d already loaded.",
     "output_type": "error",
     "traceback": [
      "\u001b[0;31m---------------------------------------------------------------------------\u001b[0m",
      "\u001b[0;31mValueError\u001b[0m                                Traceback (most recent call last)",
      "\u001b[0;32m<ipython-input-48-6b8eb0786d79>\u001b[0m in \u001b[0;36m<module>\u001b[0;34m\u001b[0m\n\u001b[0;32m----> 1\u001b[0;31m \u001b[0mv\u001b[0m\u001b[0;34m.\u001b[0m\u001b[0mload\u001b[0m\u001b[0;34m(\u001b[0m\u001b[0;34m)\u001b[0m\u001b[0;34m\u001b[0m\u001b[0;34m\u001b[0m\u001b[0m\n\u001b[0m",
      "\u001b[0;32m~/my-conda-envs/emma_env/lib/python3.7/site-packages/sfaira/data/dataloaders/databases/cellxgene/cellxgene_loader.py\u001b[0m in \u001b[0;36mload\u001b[0;34m(self, load_raw, allow_caching, set_metadata, **kwargs)\u001b[0m\n\u001b[1;32m    196\u001b[0m             \u001b[0mset_metadata\u001b[0m\u001b[0;34m=\u001b[0m\u001b[0mset_metadata\u001b[0m\u001b[0;34m,\u001b[0m\u001b[0;34m\u001b[0m\u001b[0;34m\u001b[0m\u001b[0m\n\u001b[1;32m    197\u001b[0m             \u001b[0madata_ids\u001b[0m\u001b[0;34m=\u001b[0m\u001b[0mself\u001b[0m\u001b[0;34m.\u001b[0m\u001b[0m_adata_ids_cellxgene\u001b[0m\u001b[0;34m,\u001b[0m\u001b[0;34m\u001b[0m\u001b[0;34m\u001b[0m\u001b[0m\n\u001b[0;32m--> 198\u001b[0;31m             \u001b[0;34m**\u001b[0m\u001b[0mkwargs\u001b[0m\u001b[0;34m\u001b[0m\u001b[0;34m\u001b[0m\u001b[0m\n\u001b[0m\u001b[1;32m    199\u001b[0m         )\n\u001b[1;32m    200\u001b[0m \u001b[0;34m\u001b[0m\u001b[0m\n",
      "\u001b[0;32m~/my-conda-envs/emma_env/lib/python3.7/site-packages/sfaira/data/dataloaders/base/dataset.py\u001b[0m in \u001b[0;36mload\u001b[0;34m(self, load_raw, allow_caching, **kwargs)\u001b[0m\n\u001b[1;32m    457\u001b[0m         \u001b[0;31m# Sanity checks\u001b[0m\u001b[0;34m\u001b[0m\u001b[0;34m\u001b[0m\u001b[0;34m\u001b[0m\u001b[0m\n\u001b[1;32m    458\u001b[0m         \u001b[0;32mif\u001b[0m \u001b[0mself\u001b[0m\u001b[0;34m.\u001b[0m\u001b[0madata\u001b[0m \u001b[0;32mis\u001b[0m \u001b[0;32mnot\u001b[0m \u001b[0;32mNone\u001b[0m\u001b[0;34m:\u001b[0m\u001b[0;34m\u001b[0m\u001b[0;34m\u001b[0m\u001b[0m\n\u001b[0;32m--> 459\u001b[0;31m             \u001b[0;32mraise\u001b[0m \u001b[0mValueError\u001b[0m\u001b[0;34m(\u001b[0m\u001b[0;34mf\"adata of {self.id} already loaded.\"\u001b[0m\u001b[0;34m)\u001b[0m\u001b[0;34m\u001b[0m\u001b[0;34m\u001b[0m\u001b[0m\n\u001b[0m\u001b[1;32m    460\u001b[0m         \u001b[0;32mif\u001b[0m \u001b[0mself\u001b[0m\u001b[0;34m.\u001b[0m\u001b[0mdata_dir\u001b[0m \u001b[0;32mis\u001b[0m \u001b[0;32mNone\u001b[0m\u001b[0;34m:\u001b[0m\u001b[0;34m\u001b[0m\u001b[0;34m\u001b[0m\u001b[0m\n\u001b[1;32m    461\u001b[0m             \u001b[0;32mraise\u001b[0m \u001b[0mValueError\u001b[0m\u001b[0;34m(\u001b[0m\u001b[0;34m\"No sfaira data repo path provided in constructor.\"\u001b[0m\u001b[0;34m)\u001b[0m\u001b[0;34m\u001b[0m\u001b[0;34m\u001b[0m\u001b[0m\n",
      "\u001b[0;31mValueError\u001b[0m: adata of 0fdb6122-4600-40f0-a703-2da47cc7080d already loaded."
     ]
    }
   ],
   "source": [
    "v.load()"
   ]
  },
  {
   "cell_type": "code",
   "execution_count": 49,
   "id": "dress-colony",
   "metadata": {},
   "outputs": [
    {
     "ename": "KeyError",
     "evalue": "'ensembl'",
     "output_type": "error",
     "traceback": [
      "\u001b[0;31m---------------------------------------------------------------------------\u001b[0m",
      "\u001b[0;31mKeyError\u001b[0m                                  Traceback (most recent call last)",
      "\u001b[0;32m~/my-conda-envs/emma_env/lib/python3.7/site-packages/pandas/core/indexes/base.py\u001b[0m in \u001b[0;36mget_loc\u001b[0;34m(self, key, method, tolerance)\u001b[0m\n\u001b[1;32m   3360\u001b[0m             \u001b[0;32mtry\u001b[0m\u001b[0;34m:\u001b[0m\u001b[0;34m\u001b[0m\u001b[0;34m\u001b[0m\u001b[0m\n\u001b[0;32m-> 3361\u001b[0;31m                 \u001b[0;32mreturn\u001b[0m \u001b[0mself\u001b[0m\u001b[0;34m.\u001b[0m\u001b[0m_engine\u001b[0m\u001b[0;34m.\u001b[0m\u001b[0mget_loc\u001b[0m\u001b[0;34m(\u001b[0m\u001b[0mcasted_key\u001b[0m\u001b[0;34m)\u001b[0m\u001b[0;34m\u001b[0m\u001b[0;34m\u001b[0m\u001b[0m\n\u001b[0m\u001b[1;32m   3362\u001b[0m             \u001b[0;32mexcept\u001b[0m \u001b[0mKeyError\u001b[0m \u001b[0;32mas\u001b[0m \u001b[0merr\u001b[0m\u001b[0;34m:\u001b[0m\u001b[0;34m\u001b[0m\u001b[0;34m\u001b[0m\u001b[0m\n",
      "\u001b[0;32m~/my-conda-envs/emma_env/lib/python3.7/site-packages/pandas/_libs/index.pyx\u001b[0m in \u001b[0;36mpandas._libs.index.IndexEngine.get_loc\u001b[0;34m()\u001b[0m\n",
      "\u001b[0;32m~/my-conda-envs/emma_env/lib/python3.7/site-packages/pandas/_libs/index.pyx\u001b[0m in \u001b[0;36mpandas._libs.index.IndexEngine.get_loc\u001b[0;34m()\u001b[0m\n",
      "\u001b[0;32mpandas/_libs/hashtable_class_helper.pxi\u001b[0m in \u001b[0;36mpandas._libs.hashtable.PyObjectHashTable.get_item\u001b[0;34m()\u001b[0m\n",
      "\u001b[0;32mpandas/_libs/hashtable_class_helper.pxi\u001b[0m in \u001b[0;36mpandas._libs.hashtable.PyObjectHashTable.get_item\u001b[0;34m()\u001b[0m\n",
      "\u001b[0;31mKeyError\u001b[0m: 'ensembl'",
      "\nThe above exception was the direct cause of the following exception:\n",
      "\u001b[0;31mKeyError\u001b[0m                                  Traceback (most recent call last)",
      "\u001b[0;32m<ipython-input-49-dd441e97f818>\u001b[0m in \u001b[0;36m<module>\u001b[0;34m\u001b[0m\n\u001b[1;32m      2\u001b[0m         \u001b[0mremove_gene_version\u001b[0m\u001b[0;34m=\u001b[0m\u001b[0;32mTrue\u001b[0m\u001b[0;34m,\u001b[0m\u001b[0;34m\u001b[0m\u001b[0;34m\u001b[0m\u001b[0m\n\u001b[1;32m      3\u001b[0m         \u001b[0mmatch_to_release\u001b[0m\u001b[0;34m=\u001b[0m\u001b[0;34m{\u001b[0m\u001b[0;34m\"Homo sapiens\"\u001b[0m\u001b[0;34m:\u001b[0m \u001b[0;34m\"104\"\u001b[0m\u001b[0;34m}\u001b[0m\u001b[0;34m,\u001b[0m\u001b[0;31m#, \"Mus musculus\": \"104\"},\u001b[0m\u001b[0;34m\u001b[0m\u001b[0;34m\u001b[0m\u001b[0m\n\u001b[0;32m----> 4\u001b[0;31m         \u001b[0msubset_genes_to_type\u001b[0m\u001b[0;34m=\u001b[0m\u001b[0;34m\"protein_coding\"\u001b[0m\u001b[0;34m\u001b[0m\u001b[0;34m\u001b[0m\u001b[0m\n\u001b[0m\u001b[1;32m      5\u001b[0m     )\n\u001b[1;32m      6\u001b[0m \u001b[0mv\u001b[0m\u001b[0;34m.\u001b[0m\u001b[0mstreamline_metadata\u001b[0m\u001b[0;34m(\u001b[0m\u001b[0mkeep_orginal_obs\u001b[0m\u001b[0;34m=\u001b[0m\u001b[0;32mTrue\u001b[0m\u001b[0;34m,\u001b[0m \u001b[0mkeep_id_obs\u001b[0m\u001b[0;34m=\u001b[0m\u001b[0;32mTrue\u001b[0m \u001b[0;34m)\u001b[0m\u001b[0;34m\u001b[0m\u001b[0;34m\u001b[0m\u001b[0m\n",
      "\u001b[0;32m~/my-conda-envs/emma_env/lib/python3.7/site-packages/sfaira/data/dataloaders/base/dataset.py\u001b[0m in \u001b[0;36mstreamline_features\u001b[0;34m(self, match_to_release, remove_gene_version, subset_genes_to_type, schema)\u001b[0m\n\u001b[1;32m    723\u001b[0m                 \u001b[0mself\u001b[0m\u001b[0;34m.\u001b[0m\u001b[0madata\u001b[0m\u001b[0;34m.\u001b[0m\u001b[0mvar\u001b[0m\u001b[0;34m.\u001b[0m\u001b[0mindex\u001b[0m \u001b[0;34m=\u001b[0m \u001b[0mmake_index_unique\u001b[0m\u001b[0;34m(\u001b[0m\u001b[0mself\u001b[0m\u001b[0;34m.\u001b[0m\u001b[0madata\u001b[0m\u001b[0;34m.\u001b[0m\u001b[0mvar\u001b[0m\u001b[0;34m.\u001b[0m\u001b[0mindex\u001b[0m\u001b[0;34m)\u001b[0m\u001b[0;34m.\u001b[0m\u001b[0mtolist\u001b[0m\u001b[0;34m(\u001b[0m\u001b[0;34m)\u001b[0m\u001b[0;34m\u001b[0m\u001b[0;34m\u001b[0m\u001b[0m\n\u001b[1;32m    724\u001b[0m             \u001b[0;32melse\u001b[0m\u001b[0;34m:\u001b[0m\u001b[0;34m\u001b[0m\u001b[0;34m\u001b[0m\u001b[0m\n\u001b[0;32m--> 725\u001b[0;31m                 \u001b[0mself\u001b[0m\u001b[0;34m.\u001b[0m\u001b[0madata\u001b[0m\u001b[0;34m.\u001b[0m\u001b[0mvar\u001b[0m\u001b[0;34m[\u001b[0m\u001b[0mkey\u001b[0m\u001b[0;34m]\u001b[0m \u001b[0;34m=\u001b[0m \u001b[0mmake_index_unique\u001b[0m\u001b[0;34m(\u001b[0m\u001b[0mpd\u001b[0m\u001b[0;34m.\u001b[0m\u001b[0mIndex\u001b[0m\u001b[0;34m(\u001b[0m\u001b[0mself\u001b[0m\u001b[0;34m.\u001b[0m\u001b[0madata\u001b[0m\u001b[0;34m.\u001b[0m\u001b[0mvar\u001b[0m\u001b[0;34m[\u001b[0m\u001b[0mkey\u001b[0m\u001b[0;34m]\u001b[0m\u001b[0;34m.\u001b[0m\u001b[0mvalues\u001b[0m\u001b[0;34m.\u001b[0m\u001b[0mtolist\u001b[0m\u001b[0;34m(\u001b[0m\u001b[0;34m)\u001b[0m\u001b[0;34m)\u001b[0m\u001b[0;34m)\u001b[0m\u001b[0;34m.\u001b[0m\u001b[0mtolist\u001b[0m\u001b[0;34m(\u001b[0m\u001b[0;34m)\u001b[0m\u001b[0;34m\u001b[0m\u001b[0;34m\u001b[0m\u001b[0m\n\u001b[0m\u001b[1;32m    726\u001b[0m         \u001b[0;32mif\u001b[0m \u001b[0mremove_gene_version\u001b[0m\u001b[0;34m:\u001b[0m\u001b[0;34m\u001b[0m\u001b[0;34m\u001b[0m\u001b[0m\n\u001b[1;32m    727\u001b[0m             \u001b[0mself\u001b[0m\u001b[0;34m.\u001b[0m\u001b[0m_collapse_ensembl_gene_id_versions\u001b[0m\u001b[0;34m(\u001b[0m\u001b[0;34m)\u001b[0m\u001b[0;34m\u001b[0m\u001b[0;34m\u001b[0m\u001b[0m\n",
      "\u001b[0;32m~/my-conda-envs/emma_env/lib/python3.7/site-packages/pandas/core/frame.py\u001b[0m in \u001b[0;36m__getitem__\u001b[0;34m(self, key)\u001b[0m\n\u001b[1;32m   3456\u001b[0m             \u001b[0;32mif\u001b[0m \u001b[0mself\u001b[0m\u001b[0;34m.\u001b[0m\u001b[0mcolumns\u001b[0m\u001b[0;34m.\u001b[0m\u001b[0mnlevels\u001b[0m \u001b[0;34m>\u001b[0m \u001b[0;36m1\u001b[0m\u001b[0;34m:\u001b[0m\u001b[0;34m\u001b[0m\u001b[0;34m\u001b[0m\u001b[0m\n\u001b[1;32m   3457\u001b[0m                 \u001b[0;32mreturn\u001b[0m \u001b[0mself\u001b[0m\u001b[0;34m.\u001b[0m\u001b[0m_getitem_multilevel\u001b[0m\u001b[0;34m(\u001b[0m\u001b[0mkey\u001b[0m\u001b[0;34m)\u001b[0m\u001b[0;34m\u001b[0m\u001b[0;34m\u001b[0m\u001b[0m\n\u001b[0;32m-> 3458\u001b[0;31m             \u001b[0mindexer\u001b[0m \u001b[0;34m=\u001b[0m \u001b[0mself\u001b[0m\u001b[0;34m.\u001b[0m\u001b[0mcolumns\u001b[0m\u001b[0;34m.\u001b[0m\u001b[0mget_loc\u001b[0m\u001b[0;34m(\u001b[0m\u001b[0mkey\u001b[0m\u001b[0;34m)\u001b[0m\u001b[0;34m\u001b[0m\u001b[0;34m\u001b[0m\u001b[0m\n\u001b[0m\u001b[1;32m   3459\u001b[0m             \u001b[0;32mif\u001b[0m \u001b[0mis_integer\u001b[0m\u001b[0;34m(\u001b[0m\u001b[0mindexer\u001b[0m\u001b[0;34m)\u001b[0m\u001b[0;34m:\u001b[0m\u001b[0;34m\u001b[0m\u001b[0;34m\u001b[0m\u001b[0m\n\u001b[1;32m   3460\u001b[0m                 \u001b[0mindexer\u001b[0m \u001b[0;34m=\u001b[0m \u001b[0;34m[\u001b[0m\u001b[0mindexer\u001b[0m\u001b[0;34m]\u001b[0m\u001b[0;34m\u001b[0m\u001b[0;34m\u001b[0m\u001b[0m\n",
      "\u001b[0;32m~/my-conda-envs/emma_env/lib/python3.7/site-packages/pandas/core/indexes/base.py\u001b[0m in \u001b[0;36mget_loc\u001b[0;34m(self, key, method, tolerance)\u001b[0m\n\u001b[1;32m   3361\u001b[0m                 \u001b[0;32mreturn\u001b[0m \u001b[0mself\u001b[0m\u001b[0;34m.\u001b[0m\u001b[0m_engine\u001b[0m\u001b[0;34m.\u001b[0m\u001b[0mget_loc\u001b[0m\u001b[0;34m(\u001b[0m\u001b[0mcasted_key\u001b[0m\u001b[0;34m)\u001b[0m\u001b[0;34m\u001b[0m\u001b[0;34m\u001b[0m\u001b[0m\n\u001b[1;32m   3362\u001b[0m             \u001b[0;32mexcept\u001b[0m \u001b[0mKeyError\u001b[0m \u001b[0;32mas\u001b[0m \u001b[0merr\u001b[0m\u001b[0;34m:\u001b[0m\u001b[0;34m\u001b[0m\u001b[0;34m\u001b[0m\u001b[0m\n\u001b[0;32m-> 3363\u001b[0;31m                 \u001b[0;32mraise\u001b[0m \u001b[0mKeyError\u001b[0m\u001b[0;34m(\u001b[0m\u001b[0mkey\u001b[0m\u001b[0;34m)\u001b[0m \u001b[0;32mfrom\u001b[0m \u001b[0merr\u001b[0m\u001b[0;34m\u001b[0m\u001b[0;34m\u001b[0m\u001b[0m\n\u001b[0m\u001b[1;32m   3364\u001b[0m \u001b[0;34m\u001b[0m\u001b[0m\n\u001b[1;32m   3365\u001b[0m         \u001b[0;32mif\u001b[0m \u001b[0mis_scalar\u001b[0m\u001b[0;34m(\u001b[0m\u001b[0mkey\u001b[0m\u001b[0;34m)\u001b[0m \u001b[0;32mand\u001b[0m \u001b[0misna\u001b[0m\u001b[0;34m(\u001b[0m\u001b[0mkey\u001b[0m\u001b[0;34m)\u001b[0m \u001b[0;32mand\u001b[0m \u001b[0;32mnot\u001b[0m \u001b[0mself\u001b[0m\u001b[0;34m.\u001b[0m\u001b[0mhasnans\u001b[0m\u001b[0;34m:\u001b[0m\u001b[0;34m\u001b[0m\u001b[0;34m\u001b[0m\u001b[0m\n",
      "\u001b[0;31mKeyError\u001b[0m: 'ensembl'"
     ]
    }
   ],
   "source": [
    "v.streamline_features(\n",
    "        remove_gene_version=True,\n",
    "        match_to_release={\"Homo sapiens\": \"104\"},#, \"Mus musculus\": \"104\"},\n",
    "        subset_genes_to_type=\"protein_coding\"\n",
    "    )\n",
    "v.streamline_metadata(keep_orginal_obs=True, keep_id_obs=True )"
   ]
  },
  {
   "cell_type": "code",
   "execution_count": null,
   "id": "lined-testing",
   "metadata": {},
   "outputs": [],
   "source": [
    "v.adata.obs"
   ]
  },
  {
   "cell_type": "code",
   "execution_count": 33,
   "id": "seven-investigation",
   "metadata": {},
   "outputs": [],
   "source": [
    "obs_to_keep = ['disease', 'sex', 'tissue', 'assay', 'ethnicity', 'development_stage']\n",
    "donor_obs = v.adata.obs[obs_to_keep + [o + '_ontology_term_id' for o in obs_to_keep] + [\"Patient\"]].drop_duplicates()"
   ]
  },
  {
   "cell_type": "code",
   "execution_count": 34,
   "id": "sitting-photographer",
   "metadata": {},
   "outputs": [
    {
     "data": {
      "text/html": [
       "<div>\n",
       "<style scoped>\n",
       "    .dataframe tbody tr th:only-of-type {\n",
       "        vertical-align: middle;\n",
       "    }\n",
       "\n",
       "    .dataframe tbody tr th {\n",
       "        vertical-align: top;\n",
       "    }\n",
       "\n",
       "    .dataframe thead th {\n",
       "        text-align: right;\n",
       "    }\n",
       "</style>\n",
       "<table border=\"1\" class=\"dataframe\">\n",
       "  <thead>\n",
       "    <tr style=\"text-align: right;\">\n",
       "      <th></th>\n",
       "      <th>disease</th>\n",
       "      <th>sex</th>\n",
       "      <th>tissue</th>\n",
       "      <th>assay</th>\n",
       "      <th>ethnicity</th>\n",
       "      <th>development_stage</th>\n",
       "      <th>disease_ontology_term_id</th>\n",
       "      <th>sex_ontology_term_id</th>\n",
       "      <th>tissue_ontology_term_id</th>\n",
       "      <th>assay_ontology_term_id</th>\n",
       "      <th>ethnicity_ontology_term_id</th>\n",
       "      <th>development_stage_ontology_term_id</th>\n",
       "      <th>Patient</th>\n",
       "    </tr>\n",
       "  </thead>\n",
       "  <tbody>\n",
       "    <tr>\n",
       "      <th>0</th>\n",
       "      <td>dilated cardiomyopathy</td>\n",
       "      <td>female</td>\n",
       "      <td>heart right ventricle</td>\n",
       "      <td>10x 3' v3</td>\n",
       "      <td>unknown</td>\n",
       "      <td>fifth decade human stage</td>\n",
       "      <td>MONDO:0005021</td>\n",
       "      <td>PATO:0000383</td>\n",
       "      <td>UBERON:0002080</td>\n",
       "      <td>EFO:0009922</td>\n",
       "      <td>unknown</td>\n",
       "      <td>HsapDv:0000239</td>\n",
       "      <td>DP2</td>\n",
       "    </tr>\n",
       "    <tr>\n",
       "      <th>166</th>\n",
       "      <td>normal</td>\n",
       "      <td>male</td>\n",
       "      <td>interventricular septum</td>\n",
       "      <td>10x 3' v3</td>\n",
       "      <td>unknown</td>\n",
       "      <td>sixth decade human stage</td>\n",
       "      <td>PATO:0000461</td>\n",
       "      <td>PATO:0000384</td>\n",
       "      <td>UBERON:0002094</td>\n",
       "      <td>EFO:0009922</td>\n",
       "      <td>unknown</td>\n",
       "      <td>HsapDv:0000240</td>\n",
       "      <td>ED_H25</td>\n",
       "    </tr>\n",
       "    <tr>\n",
       "      <th>187</th>\n",
       "      <td>dilated cardiomyopathy</td>\n",
       "      <td>male</td>\n",
       "      <td>heart left ventricle</td>\n",
       "      <td>10x 3' v3</td>\n",
       "      <td>unknown</td>\n",
       "      <td>seventh decade human stage</td>\n",
       "      <td>MONDO:0005021</td>\n",
       "      <td>PATO:0000384</td>\n",
       "      <td>UBERON:0002084</td>\n",
       "      <td>EFO:0009922</td>\n",
       "      <td>unknown</td>\n",
       "      <td>HsapDv:0000241</td>\n",
       "      <td>DT4</td>\n",
       "    </tr>\n",
       "    <tr>\n",
       "      <th>302</th>\n",
       "      <td>normal</td>\n",
       "      <td>female</td>\n",
       "      <td>heart right ventricle</td>\n",
       "      <td>10x 3' v3</td>\n",
       "      <td>unknown</td>\n",
       "      <td>sixth decade human stage</td>\n",
       "      <td>PATO:0000461</td>\n",
       "      <td>PATO:0000383</td>\n",
       "      <td>UBERON:0002080</td>\n",
       "      <td>EFO:0009922</td>\n",
       "      <td>unknown</td>\n",
       "      <td>HsapDv:0000240</td>\n",
       "      <td>ED_H15</td>\n",
       "    </tr>\n",
       "    <tr>\n",
       "      <th>317</th>\n",
       "      <td>dilated cardiomyopathy</td>\n",
       "      <td>female</td>\n",
       "      <td>interventricular septum</td>\n",
       "      <td>10x 3' v3</td>\n",
       "      <td>unknown</td>\n",
       "      <td>fifth decade human stage</td>\n",
       "      <td>MONDO:0005021</td>\n",
       "      <td>PATO:0000383</td>\n",
       "      <td>UBERON:0002094</td>\n",
       "      <td>EFO:0009922</td>\n",
       "      <td>unknown</td>\n",
       "      <td>HsapDv:0000239</td>\n",
       "      <td>DP2</td>\n",
       "    </tr>\n",
       "    <tr>\n",
       "      <th>...</th>\n",
       "      <td>...</td>\n",
       "      <td>...</td>\n",
       "      <td>...</td>\n",
       "      <td>...</td>\n",
       "      <td>...</td>\n",
       "      <td>...</td>\n",
       "      <td>...</td>\n",
       "      <td>...</td>\n",
       "      <td>...</td>\n",
       "      <td>...</td>\n",
       "      <td>...</td>\n",
       "      <td>...</td>\n",
       "      <td>...</td>\n",
       "    </tr>\n",
       "    <tr>\n",
       "      <th>16690</th>\n",
       "      <td>dilated cardiomyopathy</td>\n",
       "      <td>male</td>\n",
       "      <td>heart left ventricle</td>\n",
       "      <td>10x 3' v3</td>\n",
       "      <td>unknown</td>\n",
       "      <td>fifth decade human stage</td>\n",
       "      <td>MONDO:0005021</td>\n",
       "      <td>PATO:0000384</td>\n",
       "      <td>UBERON:0002084</td>\n",
       "      <td>EFO:0009922</td>\n",
       "      <td>unknown</td>\n",
       "      <td>HsapDv:0000239</td>\n",
       "      <td>IC_H01</td>\n",
       "    </tr>\n",
       "    <tr>\n",
       "      <th>16715</th>\n",
       "      <td>dilated cardiomyopathy</td>\n",
       "      <td>male</td>\n",
       "      <td>heart left ventricle</td>\n",
       "      <td>10x 3' v3</td>\n",
       "      <td>unknown</td>\n",
       "      <td>adolescent stage</td>\n",
       "      <td>MONDO:0005021</td>\n",
       "      <td>PATO:0000384</td>\n",
       "      <td>UBERON:0002084</td>\n",
       "      <td>EFO:0009922</td>\n",
       "      <td>unknown</td>\n",
       "      <td>HsapDv:0000086</td>\n",
       "      <td>IC_H02</td>\n",
       "    </tr>\n",
       "    <tr>\n",
       "      <th>16824</th>\n",
       "      <td>dilated cardiomyopathy</td>\n",
       "      <td>male</td>\n",
       "      <td>heart left ventricle</td>\n",
       "      <td>10x 3' v3</td>\n",
       "      <td>unknown</td>\n",
       "      <td>fourth decade human stage</td>\n",
       "      <td>MONDO:0005021</td>\n",
       "      <td>PATO:0000384</td>\n",
       "      <td>UBERON:0002084</td>\n",
       "      <td>EFO:0009922</td>\n",
       "      <td>unknown</td>\n",
       "      <td>HsapDv:0000238</td>\n",
       "      <td>IC_H03</td>\n",
       "    </tr>\n",
       "    <tr>\n",
       "      <th>16861</th>\n",
       "      <td>dilated cardiomyopathy</td>\n",
       "      <td>female</td>\n",
       "      <td>heart left ventricle</td>\n",
       "      <td>10x 3' v3</td>\n",
       "      <td>unknown</td>\n",
       "      <td>seventh decade human stage</td>\n",
       "      <td>MONDO:0005021</td>\n",
       "      <td>PATO:0000383</td>\n",
       "      <td>UBERON:0002084</td>\n",
       "      <td>EFO:0009922</td>\n",
       "      <td>unknown</td>\n",
       "      <td>HsapDv:0000241</td>\n",
       "      <td>IC_H04</td>\n",
       "    </tr>\n",
       "    <tr>\n",
       "      <th>16876</th>\n",
       "      <td>dilated cardiomyopathy</td>\n",
       "      <td>female</td>\n",
       "      <td>heart right ventricle</td>\n",
       "      <td>10x 3' v3</td>\n",
       "      <td>unknown</td>\n",
       "      <td>seventh decade human stage</td>\n",
       "      <td>MONDO:0005021</td>\n",
       "      <td>PATO:0000383</td>\n",
       "      <td>UBERON:0002080</td>\n",
       "      <td>EFO:0009922</td>\n",
       "      <td>unknown</td>\n",
       "      <td>HsapDv:0000241</td>\n",
       "      <td>IC_H04</td>\n",
       "    </tr>\n",
       "  </tbody>\n",
       "</table>\n",
       "<p>179 rows × 13 columns</p>\n",
       "</div>"
      ],
      "text/plain": [
       "                      disease     sex                   tissue      assay  \\\n",
       "0      dilated cardiomyopathy  female    heart right ventricle  10x 3' v3   \n",
       "166                    normal    male  interventricular septum  10x 3' v3   \n",
       "187    dilated cardiomyopathy    male     heart left ventricle  10x 3' v3   \n",
       "302                    normal  female    heart right ventricle  10x 3' v3   \n",
       "317    dilated cardiomyopathy  female  interventricular septum  10x 3' v3   \n",
       "...                       ...     ...                      ...        ...   \n",
       "16690  dilated cardiomyopathy    male     heart left ventricle  10x 3' v3   \n",
       "16715  dilated cardiomyopathy    male     heart left ventricle  10x 3' v3   \n",
       "16824  dilated cardiomyopathy    male     heart left ventricle  10x 3' v3   \n",
       "16861  dilated cardiomyopathy  female     heart left ventricle  10x 3' v3   \n",
       "16876  dilated cardiomyopathy  female    heart right ventricle  10x 3' v3   \n",
       "\n",
       "      ethnicity           development_stage disease_ontology_term_id  \\\n",
       "0       unknown    fifth decade human stage            MONDO:0005021   \n",
       "166     unknown    sixth decade human stage             PATO:0000461   \n",
       "187     unknown  seventh decade human stage            MONDO:0005021   \n",
       "302     unknown    sixth decade human stage             PATO:0000461   \n",
       "317     unknown    fifth decade human stage            MONDO:0005021   \n",
       "...         ...                         ...                      ...   \n",
       "16690   unknown    fifth decade human stage            MONDO:0005021   \n",
       "16715   unknown            adolescent stage            MONDO:0005021   \n",
       "16824   unknown   fourth decade human stage            MONDO:0005021   \n",
       "16861   unknown  seventh decade human stage            MONDO:0005021   \n",
       "16876   unknown  seventh decade human stage            MONDO:0005021   \n",
       "\n",
       "      sex_ontology_term_id tissue_ontology_term_id assay_ontology_term_id  \\\n",
       "0             PATO:0000383          UBERON:0002080            EFO:0009922   \n",
       "166           PATO:0000384          UBERON:0002094            EFO:0009922   \n",
       "187           PATO:0000384          UBERON:0002084            EFO:0009922   \n",
       "302           PATO:0000383          UBERON:0002080            EFO:0009922   \n",
       "317           PATO:0000383          UBERON:0002094            EFO:0009922   \n",
       "...                    ...                     ...                    ...   \n",
       "16690         PATO:0000384          UBERON:0002084            EFO:0009922   \n",
       "16715         PATO:0000384          UBERON:0002084            EFO:0009922   \n",
       "16824         PATO:0000384          UBERON:0002084            EFO:0009922   \n",
       "16861         PATO:0000383          UBERON:0002084            EFO:0009922   \n",
       "16876         PATO:0000383          UBERON:0002080            EFO:0009922   \n",
       "\n",
       "      ethnicity_ontology_term_id development_stage_ontology_term_id Patient  \n",
       "0                        unknown                     HsapDv:0000239     DP2  \n",
       "166                      unknown                     HsapDv:0000240  ED_H25  \n",
       "187                      unknown                     HsapDv:0000241     DT4  \n",
       "302                      unknown                     HsapDv:0000240  ED_H15  \n",
       "317                      unknown                     HsapDv:0000239     DP2  \n",
       "...                          ...                                ...     ...  \n",
       "16690                    unknown                     HsapDv:0000239  IC_H01  \n",
       "16715                    unknown                     HsapDv:0000086  IC_H02  \n",
       "16824                    unknown                     HsapDv:0000238  IC_H03  \n",
       "16861                    unknown                     HsapDv:0000241  IC_H04  \n",
       "16876                    unknown                     HsapDv:0000241  IC_H04  \n",
       "\n",
       "[179 rows x 13 columns]"
      ]
     },
     "execution_count": 34,
     "metadata": {},
     "output_type": "execute_result"
    }
   ],
   "source": [
    "donor_obs"
   ]
  },
  {
   "cell_type": "code",
   "execution_count": 22,
   "id": "north-madness",
   "metadata": {},
   "outputs": [
    {
     "data": {
      "text/plain": [
       "['0fdb6122-4600-40f0-a703-2da47cc7080d.h5ad',\n",
       " '83b5e943-a1d5-4164-b3f2-f7a37f01b524.h5ad',\n",
       " 'bdf69f8d-5a96-4d6f-a9f5-9ee0e33597b7.h5ad',\n",
       " 'f7995301-7551-4e1d-8396-ffe3c9497ace.h5ad',\n",
       " 'ed2b673b-0279-454a-998c-3eec361edf54.h5ad',\n",
       " '1252c5fb-945f-42d6-b1a8-8a3bd864384b.h5ad',\n",
       " '1062c0f2-2a44-4cf9-a7c8-b5ed58b4728d.h5ad',\n",
       " '9434b020-de42-43eb-bcc4-542b2be69015.h5ad',\n",
       " '65badd7a-9262-4fd1-9ce2-eb5dc0ca8039.h5ad']"
      ]
     },
     "execution_count": 22,
     "metadata": {},
     "output_type": "execute_result"
    }
   ],
   "source": [
    "os.listdir(v.data_dir)"
   ]
  },
  {
   "cell_type": "code",
   "execution_count": null,
   "id": "potential-worry",
   "metadata": {},
   "outputs": [
    {
     "name": "stdout",
     "output_type": "stream",
     "text": [
      "Loading edc8d3fe-153c-4e3d-8be0-2108d30f8d70...\n",
      "Loading 2a498ace-872a-4935-984b-1afa70fd9886...\n",
      "Loading d5c67a4e-a8d9-456d-a273-fa01adb1b308...\n",
      "Loading c2a461b1-0c15-4047-9fcb-1f966fe55100...\n",
      "Loading 1252c5fb-945f-42d6-b1a8-8a3bd864384b...\n",
      "Loading bdf69f8d-5a96-4d6f-a9f5-9ee0e33597b7...\n",
      "Loading 83b5e943-a1d5-4164-b3f2-f7a37f01b524...\n",
      "Loading 9434b020-de42-43eb-bcc4-542b2be69015...\n",
      "Loading ed2b673b-0279-454a-998c-3eec361edf54...\n",
      "Loading f7995301-7551-4e1d-8396-ffe3c9497ace...\n",
      "Loading 65badd7a-9262-4fd1-9ce2-eb5dc0ca8039...\n",
      "Loading 0fdb6122-4600-40f0-a703-2da47cc7080d...\n",
      "Loading 1062c0f2-2a44-4cf9-a7c8-b5ed58b4728d...\n",
      "Loading 8e47ed12-c658-4252-b126-381df8d52a3d...\n",
      "Loading 774c18c5-efa1-4dc5-9e5e-2c824bab2e34...\n",
      "Loading 1c739a3e-c3f5-49d5-98e0-73975e751201...\n",
      "Loading f15e263b-6544-46cb-a46e-e33ab7ce8347...\n",
      "Loading 06b91002-4d3d-4d2e-8484-20c3b31e232c...\n",
      "Loading 6c600df6-ddca-4628-a8bb-1d6de1e3f9b4...\n",
      "Loading 75a881cf-5d88-46e2-bf9b-97e5cbc1bd56...\n",
      "Loading 873ff933-4fda-4936-9a70-67df11af90ac...\n",
      "Loading 1492eb6b-7d50-4c4d-94ac-c801a7d5555c...\n",
      "Loading 24066994-8183-488d-b037-ef6bb524af39...\n",
      "Loading 2727d83a-0af0-443a-bff8-58dc7028289a...\n",
      "Loading 9f1049ac-f8b7-45ad-8e31-6e96c3e5058f...\n",
      "Loading b94e3bdf-a385-49cc-b312-7a63cc28b77a...\n",
      "Loading bdacc907-7c26-419f-8808-969eab3ca2e8...\n",
      "Loading cd77258f-b08b-4c89-b93f-6e6f146b1a4d...\n",
      "Loading f9ad5649-f372-43e1-a3a8-423383e5a8a2...\n",
      "Loading 99950e99-2758-41d2-b2c9-643edcdf6d82...\n",
      "Loading 73b7d0aa-035f-4a15-9f1d-f56b70204591...\n",
      "Loading 2f7230e7-4706-4924-b571-473fc1e52c30...\n",
      "Loading dbf0bd35-87f8-4b25-bc90-a3c54f379907...\n",
      "Loading 7d98cc44-b090-4dc8-804f-2750c84fe9d7...\n",
      "Loading b25f3834-69b3-4d87-a272-3938432d1f30...\n",
      "Loading 01c93cf6-b695-4e30-a26e-121ae8b16a9e...\n",
      "Loading 51f476f7-b24d-42f3-8871-7dab3fa35e96...\n",
      "Loading ed9e9f96-4f08-49d2-bef5-b2c29adf3edc...\n",
      "Loading db59611b-42de-4035-93aa-1ed39f38b467...\n",
      "Loading 8a554710-08bc-4005-87cd-da9675bdc2e7...\n",
      "Loading ce009dc1-ac57-4386-b72f-5c575701c253...\n",
      "Loading f156606a-dd9a-49fd-bc40-0e069b6cf07c...\n",
      "Loading cab0bc48-744c-461b-aaf4-7bf2cb7af00d...\n",
      "Loading bd3e3487-c1e6-4298-b9de-8bdcf3f938d7...\n",
      "Loading 79ef1959-a6b4-4cac-82ca-30feaec48df1...\n",
      "Loading c874f155-9bf9-4928-b821-f52c876b3e48...\n",
      "Loading eeacb0c1-2217-4cf6-b8ce-1f0fedf1b569...\n",
      "Loading 492d9f77-c4c8-485d-92d7-7686fe6c8482...\n",
      "Loading eec804b9-2ae5-44f0-a1b5-d721e21257de...\n",
      "Loading a65bcc2d-4243-44c1-a262-ab7dcddfcf86...\n",
      "Loading 731e6380-879f-4b0b-9a1f-2150208852ef...\n",
      "Loading 50eb1e23-b8d4-4f76-a184-44e5541fa05a...\n",
      "Loading 62de80d7-e6c4-4ff0-ad4c-d3d36f57cb93...\n",
      "Loading 881fe679-c6e0-45a3-9427-c4e81be6921f...\n",
      "Loading ea786a06-5855-48b7-80d7-0313a21a2044...\n",
      "Loading 84230ea4-998d-4aa8-8456-81dd54ce23af...\n",
      "Loading e5f5d954-cf0e-4bd8-9346-8d1ddf15a08b...\n",
      "Loading 07854d9c-5375-4a9b-ac34-fa919d3c3686...\n",
      "Loading 0b75c598-0893-4216-afe8-5414cab7739d...\n",
      "Loading 32b9bdce-2481-4c85-ba1b-6ad5fcea844c...\n",
      "Loading 01ad3cd7-3929-4654-84c0-6db05bd5fd59...\n",
      "Loading de2c780c-1747-40bd-9ccf-9588ec186cee...\n",
      "Loading ebc2e1ff-c8f9-466a-acf4-9d291afaf8b3...\n",
      "Loading b693123e-95e6-4331-8b50-f367489a767e...\n",
      "Loading c7775e88-49bf-4ba2-a03b-93f00447c958...\n",
      "Loading 36c867a7-be10-4e69-9b39-5de12b0af6da...\n",
      "Loading fa8605cf-f27e-44af-ac2a-476bee4410d3...\n",
      "Loading 59b69042-47c2-47fd-ad03-d21beb99818f...\n",
      "Loading 5e717147-0f75-4de1-8bd2-6fda01b8d75f...\n",
      "Loading e763ed0d-0e5a-4b8e-9514-6da3d9e47956...\n",
      "Loading db0752b9-f20e-40b8-8997-992f3ae0bb2e...\n",
      "Loading ae5341b8-60fb-4fac-86db-86e49ee66287...\n",
      "Loading 4c4cd77c-8fee-4836-9145-16562a8782fe...\n",
      "Loading d9b4bc69-ed90-4f5f-99b2-61b0681ba436...\n",
      "Loading bc2a7b3d-f04e-477e-96c9-9d5367d5425c...\n",
      "Loading 96a3f64b-0ee9-40d8-91e9-813ce38261c9...\n",
      "Loading b3a5a10f-b1cb-4e8e-abce-bf345448625b...\n",
      "Loading ea01c125-67a7-4bd3-a8b0-e1b53a011b7e...\n",
      "Loading 0c774045-26a7-40f8-9b07-6742d3c771c0...\n",
      "Loading 576f193c-75d0-4a11-bd25-8676587e6dc2...\n",
      "Loading 524d4513-8afd-4120-9b7b-fe31ae10c29b...\n",
      "Loading 34deb33b-a50e-4993-a38b-1c0e5079c1c2...\n",
      "Loading 76347874-8801-44bf-9aea-0da21c78c430...\n",
      "Loading d4cfefa0-3a35-44eb-b848-d7a725b481e7...\n",
      "Loading d224c8e0-c28e-4360-9e42-b3977cd83f9f...\n",
      "Loading b47cf863-d90d-4fe5-a1eb-1a4785a3e329...\n",
      "Loading 486486d4-9462-43e5-9249-eb43fa5a49a6...\n",
      "Loading e9175006-8978-4417-939f-819855eab80e...\n",
      "Loading a6858c10-c52a-4a1d-bc12-a90dbd51ca66...\n",
      "Loading f64e1be1-de15-4d27-8da4-82225cd4c035...\n",
      "Loading ec6ceff8-c8bc-488d-b6bf-30df2fa92169...\n",
      "Loading dd018fc0-8da7-4033-a2ba-6b47de8ebb4f...\n",
      "Loading 574e9f9e-f8b4-41ef-bf19-89a9964fd9c7...\n",
      "Loading 5ba85070-a41c-4184-9c18-cf34c3fd0f62...\n",
      "Loading d3a83885-5198-4b04-8314-b753b66ef9a8...\n",
      "Loading 9dbab10c-118d-496b-966a-67f1763a6b7d...\n"
     ]
    }
   ],
   "source": [
    "cellxgene_donor_obs = pd.DataFrame()\n",
    "for k,v in dsg.datasets.items():\n",
    "    ## Restrict to datasets with disease conditions\n",
    "    if v.disease is None or v.disease != 'healthy':\n",
    "        print(f\"Loading {k}...\")\n",
    "        if v.adata is None:\n",
    "            v.load()\n",
    "        obs_to_keep = ['disease', 'sex', 'tissue', 'assay', 'ethnicity', 'development_stage']\n",
    "        donor_obs = v.adata.obs[obs_to_keep + [o + '_ontology_term_id' for o in obs_to_keep]].drop_duplicates()\n",
    "        donor_obs['dataset'] = k\n",
    "        cellxgene_donor_obs = pd.concat([cellxgene_donor_obs, donor_obs])\n",
    "        v.clear()"
   ]
  },
  {
   "cell_type": "code",
   "execution_count": null,
   "id": "agreed-bible",
   "metadata": {},
   "outputs": [],
   "source": []
  }
 ],
 "metadata": {
  "kernelspec": {
   "display_name": "Python (emma_env)",
   "language": "python",
   "name": "emma_env"
  },
  "language_info": {
   "codemirror_mode": {
    "name": "ipython",
    "version": 3
   },
   "file_extension": ".py",
   "mimetype": "text/x-python",
   "name": "python",
   "nbconvert_exporter": "python",
   "pygments_lexer": "ipython3",
   "version": "3.7.8"
  }
 },
 "nbformat": 4,
 "nbformat_minor": 5
}
