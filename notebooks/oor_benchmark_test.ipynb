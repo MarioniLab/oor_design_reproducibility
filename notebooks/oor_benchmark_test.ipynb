{
 "cells": [
  {
   "cell_type": "markdown",
   "id": "embedded-offense",
   "metadata": {},
   "source": [
    "### Benchmarking API example\n",
    "\n",
    "Refactoring `run_design_comparison.py`"
   ]
  },
  {
   "cell_type": "code",
   "execution_count": 1,
   "id": "fleet-people",
   "metadata": {},
   "outputs": [],
   "source": [
    "%load_ext autoreload\n",
    "%autoreload 2"
   ]
  },
  {
   "cell_type": "code",
   "execution_count": 33,
   "id": "located-depth",
   "metadata": {},
   "outputs": [
    {
     "name": "stderr",
     "output_type": "stream",
     "text": [
      "Global seed set to 0\n",
      "/home/jovyan/my-conda-envs/oor-benchmark/lib/python3.10/site-packages/pytorch_lightning/utilities/warnings.py:53: LightningDeprecationWarning: pytorch_lightning.utilities.warnings.rank_zero_deprecation has been deprecated in v1.6 and will be removed in v1.8. Use the equivalent function from the pytorch_lightning.utilities.rank_zero module instead.\n",
      "  new_rank_zero_deprecation(\n",
      "/home/jovyan/my-conda-envs/oor-benchmark/lib/python3.10/site-packages/pytorch_lightning/utilities/warnings.py:58: LightningDeprecationWarning: The `pytorch_lightning.loggers.base.rank_zero_experiment` is deprecated in v1.7 and will be removed in v1.9. Please use `pytorch_lightning.loggers.logger.rank_zero_experiment` instead.\n",
      "  return new_rank_zero_deprecation(*args, **kwargs)\n"
     ]
    }
   ],
   "source": [
    "import os\n",
    "import numpy as np\n",
    "import scanpy as sc\n",
    "\n",
    "import oor_benchmark\n",
    "from oor_benchmark.api import check_dataset\n",
    "from oor_benchmark.datasets.simulation import simulate_query_reference\n",
    "from oor_benchmark.methods import scArches_milo\n"
   ]
  },
  {
   "cell_type": "code",
   "execution_count": 3,
   "id": "authentic-commerce",
   "metadata": {},
   "outputs": [],
   "source": [
    "outdir = '/lustre/scratch117/cellgen/team205/ed6/PBMC_CZI_integration_filtered/'\n",
    "h5ad_file = 'PBMC_merged.normal.subsample500cells.clean_celltypes.h5ad'\n",
    "annotation_col = 'cell_type'\n",
    "perturb_pop = ['Myeloid']\n",
    "batch_col = 'sample_id'\n",
    "split_seed = 2022\n",
    "\n",
    "\n",
    "query_dataset = '10_1038_s41591_021_01329_2'\n",
    "\n",
    "adata = sc.read_h5ad(outdir + h5ad_file)"
   ]
  },
  {
   "cell_type": "code",
   "execution_count": 4,
   "id": "false-claim",
   "metadata": {},
   "outputs": [],
   "source": [
    "query_dataset = '10_1038_s41591_021_01329_2'\n",
    "\n",
    "np.random.seed(split_seed)\n",
    "query_samples = adata.obs['sample_id'][adata.obs['dataset_id'] == query_dataset].unique()\n",
    "samples_design = np.random.choice((0, 1), len(query_samples))\n",
    "ctrl_samples = query_samples[samples_design == 1]\n",
    "query_samples = query_samples[samples_design == 0]"
   ]
  },
  {
   "cell_type": "code",
   "execution_count": 7,
   "id": "powerful-millennium",
   "metadata": {},
   "outputs": [
    {
     "data": {
      "text/plain": [
       "array(['BGCV01_CV0904', 'BGCV04_CV0911', 'BGCV09_CV0917', 'BGCV12_CV0926',\n",
       "       'BGCV13_CV0934', 'BGCV14_CV0940', 'BGCV15_CV0944', 'MH8919230',\n",
       "       'MH8919231', 'MH8919278', 'MH8919280', 'MH8919282', 'MH8919283',\n",
       "       'MH8919332', 'newcastle65', 'newcastle74'], dtype='<U36')"
      ]
     },
     "execution_count": 7,
     "metadata": {},
     "output_type": "execute_result"
    }
   ],
   "source": [
    "query_samples.astype('str')"
   ]
  },
  {
   "cell_type": "code",
   "execution_count": 10,
   "id": "cardiac-armstrong",
   "metadata": {},
   "outputs": [],
   "source": [
    "## Simulate dataset groups\n",
    "adata = simulate_query_reference(\n",
    "    adata, query_annotation = perturb_pop, annotation_col = annotation_col,\n",
    "    batch_col = 'sample_id', \n",
    "    query_batch = query_samples.tolist(), \n",
    "    ctrl_batch = ctrl_samples.tolist(),\n",
    "    perturbation_type='remove'\n",
    ")"
   ]
  },
  {
   "cell_type": "code",
   "execution_count": 12,
   "id": "neural-gates",
   "metadata": {},
   "outputs": [
    {
     "data": {
      "text/plain": [
       "atlas    583144\n",
       "query      7505\n",
       "ctrl       6672\n",
       "Name: dataset_group, dtype: int64"
      ]
     },
     "execution_count": 12,
     "metadata": {},
     "output_type": "execute_result"
    }
   ],
   "source": [
    "adata.obs['dataset_group'].value_counts()"
   ]
  },
  {
   "cell_type": "code",
   "execution_count": 22,
   "id": "detailed-hollow",
   "metadata": {},
   "outputs": [],
   "source": [
    "def clean_pop_name(string):\n",
    "    return(''.join(e if e.isalnum() else '_' for e in string))\n",
    "\n",
    "## Run test\n",
    "data_dir = '/lustre/scratch117/cellgen/team205/ed6/PBMC_CZI_integration_filtered/tmp/'\n",
    "sim_id = f\"qPBMC_500cells_demo_perturb_{annotation_col}{clean_pop_name('-'.join(perturb_pop))}_queryBatchdataset_id{query_dataset}_seed{split_seed}\""
   ]
  },
  {
   "cell_type": "code",
   "execution_count": 23,
   "id": "brown-cable",
   "metadata": {},
   "outputs": [
    {
     "data": {
      "text/plain": [
       "False"
      ]
     },
     "execution_count": 23,
     "metadata": {},
     "output_type": "execute_result"
    }
   ],
   "source": [
    "os.path.exists(data_dir + sim_id)"
   ]
  },
  {
   "cell_type": "code",
   "execution_count": 26,
   "id": "curious-senate",
   "metadata": {},
   "outputs": [],
   "source": [
    "## Save intermediate files\n",
    "adata_atlas = adata[adata.obs['dataset_group'] == 'atlas'].copy()\n",
    "adata_ctrl = adata[adata.obs['dataset_group'] == 'ctrl'].copy()\n",
    "adata_query = adata[adata.obs['dataset_group'] == 'query'].copy()\n",
    "\n",
    "if not os.path.exists(data_dir + sim_id):\n",
    "    os.mkdir(data_dir + sim_id)\n",
    "adata_atlas.write_h5ad(data_dir+sim_id+'/atlas.h5ad')\n",
    "adata_query.write_h5ad(data_dir+sim_id+'/query.h5ad')\n",
    "adata_ctrl.write_h5ad(data_dir+sim_id+'/ctrl.h5ad')"
   ]
  },
  {
   "cell_type": "code",
   "execution_count": 30,
   "id": "light-royal",
   "metadata": {},
   "outputs": [
    {
     "data": {
      "text/plain": [
       "array([ 1.,  2.,  1., ...,  1., 11.,  2.], dtype=float32)"
      ]
     },
     "execution_count": 30,
     "metadata": {},
     "output_type": "execute_result"
    }
   ],
   "source": [
    "## Check counts\n",
    "adata.X.data "
   ]
  },
  {
   "cell_type": "code",
   "execution_count": 32,
   "id": "favorite-light",
   "metadata": {},
   "outputs": [
    {
     "data": {
      "text/plain": [
       "True"
      ]
     },
     "execution_count": 32,
     "metadata": {},
     "output_type": "execute_result"
    }
   ],
   "source": [
    "assert check_dataset(adata)"
   ]
  },
  {
   "cell_type": "code",
   "execution_count": 34,
   "id": "pleased-billion",
   "metadata": {},
   "outputs": [
    {
     "name": "stderr",
     "output_type": "stream",
     "text": [
      "\n",
      "KeyboardInterrupt\n",
      "\n"
     ]
    }
   ],
   "source": [
    "scArches_milo.scArches_atlas_milo_ctrl(adata, train_params={'max_epochs':1})"
   ]
  },
  {
   "cell_type": "code",
   "execution_count": null,
   "id": "furnished-insert",
   "metadata": {},
   "outputs": [],
   "source": [
    "\n",
    "\n",
    "import argparse\n",
    "parser = argparse.ArgumentParser()\n",
    "parser.add_argument(\"h5ad_file\",\n",
    "                    type=str,\n",
    "                    help=\"path to input anndata file\")\n",
    "parser.add_argument(\"perturb_pop\",\n",
    "                    type=str,\n",
    "                    help=\"ID of perturbed population\")\n",
    "parser.add_argument(\"--annotation_col\",\n",
    "                    default=\"cell_annotation\",\n",
    "                    help=\"column with population info used for simulation\")\n",
    "parser.add_argument(\"--batch_col\",\n",
    "                    default='dataset_id',\n",
    "                    help=\"column with batch info used for simulation\")\n",
    "parser.add_argument(\"--query_batch\",\n",
    "                    default='10_1038_s41591_021_01329_2',\n",
    "                    help=\"ID of query batch\")\n",
    "parser.add_argument(\"--split_seed\",\n",
    "                    default=2022,\n",
    "                    help=\"ID of query batch\")\n",
    "parser.add_argument(\"--outpath\",\n",
    "                    default='/nfs/team205/ed6/data/PBMC_CZI_integration_filtered/',\n",
    "                    help=\"path to working directory\")\n",
    "args = parser.parse_args()\n",
    "\n",
    "\n",
    "def clean_pop_name(string):\n",
    "    return(''.join(e if e.isalnum() else '_' for e in string))\n",
    "\n",
    "\n",
    "def _train_design(adata,\n",
    "                  batch_obs,\n",
    "                  query_dataset,\n",
    "                  perturb_pop,\n",
    "                  annotation_col='cell_type',\n",
    "                  split_seed=2022,\n",
    "                  data_dir='/nfs/team205/ed6/data/PBMC_CZI_integration_filtered/',\n",
    "                  n_hvgs=5000\n",
    "                  ):\n",
    "\n",
    "    #  Select query batch\n",
    "    query = np.array([s in query_dataset for s in adata.obs[batch_obs]])\n",
    "    adata.obs[\"is_train\"] = (~query).astype(int)\n",
    "    adata.obs[\"is_test\"] = query.astype('int')\n",
    "\n",
    "    ## Split in case and ctrl\n",
    "    np.random.seed(split_seed)\n",
    "    query_samples = adata.obs['sample_id'][adata.obs[batch_obs].isin(\n",
    "        query_dataset)].unique()\n",
    "    samples_design = np.random.choice((0, 1), len(query_samples))\n",
    "    adata.obs['is_ctrl'] = adata.obs['sample_id'].isin(\n",
    "        query_samples[samples_design == 1]).astype(int)\n",
    "    adata.obs.loc[adata.obs['is_ctrl'] == 1, 'is_test'] = 0\n",
    "\n",
    "    # Remove query-specific pop from ctrl and atlas\n",
    "    adata.obs.loc[(adata.obs[annotation_col].isin(perturb_pop)),\n",
    "                  'is_train'] = 0\n",
    "    adata.obs.loc[(adata.obs[annotation_col].isin(\n",
    "        perturb_pop)), 'is_ctrl'] = 0\n",
    "\n",
    "    # test that no cell is assigned to multiple splits\n",
    "    assert adata.obs[['is_train', 'is_test', 'is_ctrl']].sum(1).max() == 1\n",
    "\n",
    "    # test that perturbed population is in condition dataset only\n",
    "    assert adata[adata.obs['is_test'] ==\n",
    "                 1].obs[annotation_col].isin(perturb_pop).sum() > 0\n",
    "    assert adata[adata.obs['is_train'] ==\n",
    "                 1].obs[annotation_col].isin(perturb_pop).sum() == 0\n",
    "    assert adata[adata.obs['is_ctrl'] == 1].obs[annotation_col].isin(\n",
    "        perturb_pop).sum() == 0\n",
    "\n",
    "    adata_atlas = adata[adata.obs['is_train'] == 1].copy()\n",
    "    adata_ctrl = adata[adata.obs['is_ctrl'] == 1].copy()\n",
    "    adata_query = adata[adata.obs['is_test'] == 1].copy()\n",
    "\n",
    "    #  Save anndata objects\n",
    "\n",
    "    #  Make folder to store results\n",
    "    sim_id = f\"qPBMC_500cells_demo_perturb_{annotation_col}{clean_pop_name('-'.join(perturb_pop))}_queryBatch{batch_obs}{'-'.join(query_dataset)}_seed{split_seed}\"\n",
    "    if not os.path.exists(data_dir + sim_id):\n",
    "        os.mkdir(data_dir + sim_id)\n",
    "    adata_atlas.write_h5ad(data_dir+sim_id+'/atlas.h5ad')\n",
    "    adata_query.write_h5ad(data_dir+sim_id+'/query.h5ad')\n",
    "    adata_ctrl.write_h5ad(data_dir+sim_id+'/ctrl.h5ad')\n",
    "\n",
    "    adata_atlas.layers['counts'] = adata_atlas.X.copy()\n",
    "    adata_query.layers['counts'] = adata_query.X.copy()\n",
    "    adata_ctrl.layers['counts'] = adata_ctrl.X.copy()\n",
    "\n",
    "    # Train model on atlas\n",
    "    if 'log1p' not in adata_atlas.uns.keys():\n",
    "        sc.pp.normalize_per_cell(adata_atlas)\n",
    "        sc.pp.log1p(adata_atlas)\n",
    "\n",
    "    sc.pp.highly_variable_genes(\n",
    "        adata_atlas,\n",
    "        n_top_genes=n_hvgs,\n",
    "        subset=True\n",
    "    )\n",
    "\n",
    "    vae_ref = diff2atlas.model_wrappers.train_scVI(\n",
    "        adata_atlas, data_dir + sim_id + \"/model_reference\", batch_key='sample_id')\n",
    "\n",
    "    # Map query datasets\n",
    "    adata_query_fit = adata_query.copy()\n",
    "    diff2atlas.model_wrappers.fit_scVI(\n",
    "        vae_ref,\n",
    "        adata_query_fit,\n",
    "        outfile=data_dir + sim_id + \"/model_fit_query2atlas/\")\n",
    "\n",
    "    adata_ctrl_fit = adata_ctrl.copy()\n",
    "    diff2atlas.model_wrappers.fit_scVI(\n",
    "        vae_ref,\n",
    "        adata_ctrl_fit,\n",
    "        outfile=data_dir + sim_id + \"/model_fit_ctrl2atlas/\")\n",
    "\n",
    "    # Train model on ctrl\n",
    "    if 'log1p' not in adata_ctrl.uns.keys():\n",
    "        sc.pp.normalize_per_cell(adata_ctrl)\n",
    "        sc.pp.log1p(adata_ctrl)\n",
    "\n",
    "    sc.pp.highly_variable_genes(\n",
    "        adata_ctrl,\n",
    "        n_top_genes=n_hvgs,\n",
    "        subset=True\n",
    "    )\n",
    "\n",
    "    vae_ctrl = diff2atlas.model_wrappers.train_scVI(\n",
    "        adata_ctrl, data_dir + sim_id + \"/model_ctrl\", batch_key='sample_id')\n",
    "\n",
    "    # Map query data to ctrl\n",
    "    adata_query_fit = adata_query.copy()\n",
    "    diff2atlas.model_wrappers.fit_scVI(\n",
    "        vae_ctrl,\n",
    "        adata_query_fit,\n",
    "        outfile=data_dir + sim_id + \"/model_fit_query2ctrl/\")\n",
    "\n",
    "\n",
    "adata = sc.read_h5ad(args.outpath + args.h5ad_file)\n",
    "\n",
    "_train_design(\n",
    "    adata,\n",
    "    perturb_pop=[args.perturb_pop],\n",
    "    annotation_col=args.annotation_col,\n",
    "    batch_obs=args.batch_col,\n",
    "    query_dataset=[args.query_batch],\n",
    "    data_dir=args.outpath,\n",
    "    split_seed=args.split_seed\n",
    ")\n"
   ]
  }
 ],
 "metadata": {
  "kernelspec": {
   "display_name": "Python (oor-benchmark)",
   "language": "python",
   "name": "oor-benchmark"
  },
  "language_info": {
   "codemirror_mode": {
    "name": "ipython",
    "version": 3
   },
   "file_extension": ".py",
   "mimetype": "text/x-python",
   "name": "python",
   "nbconvert_exporter": "python",
   "pygments_lexer": "ipython3",
   "version": "3.10.6"
  }
 },
 "nbformat": 4,
 "nbformat_minor": 5
}
