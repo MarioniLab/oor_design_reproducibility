{
 "cells": [
  {
   "cell_type": "markdown",
   "id": "distinguished-cancellation",
   "metadata": {},
   "source": [
    "# Mouse chimera proof-of-concept"
   ]
  },
  {
   "cell_type": "code",
   "execution_count": 7,
   "id": "sapphire-marshall",
   "metadata": {},
   "outputs": [],
   "source": [
    "import os,sys\n",
    "import numpy as np\n",
    "import pandas as pd\n",
    "import anndata\n",
    "import scanpy as sc\n",
    "import scvelo.datasets"
   ]
  },
  {
   "cell_type": "code",
   "execution_count": 2,
   "id": "informational-sight",
   "metadata": {},
   "outputs": [],
   "source": [
    "## r2py setup\n",
    "import rpy2.rinterface_lib.callbacks\n",
    "import logging\n",
    "rpy2.rinterface_lib.callbacks.logger.setLevel(logging.ERROR)\n",
    "\n",
    "import anndata2ri\n",
    "anndata2ri.activate()"
   ]
  },
  {
   "cell_type": "code",
   "execution_count": 3,
   "id": "retired-receptor",
   "metadata": {},
   "outputs": [],
   "source": [
    "%load_ext rpy2.ipython"
   ]
  },
  {
   "cell_type": "markdown",
   "id": "indirect-monaco",
   "metadata": {},
   "source": [
    "### Prepare datasets "
   ]
  },
  {
   "cell_type": "code",
   "execution_count": 41,
   "id": "needed-feature",
   "metadata": {},
   "outputs": [],
   "source": [
    "data_dir = '/nfs/team205/ed6/data/mouse_gastrulation/'\n",
    "# os.mkdir(data_dir)"
   ]
  },
  {
   "cell_type": "code",
   "execution_count": 40,
   "id": "musical-shuttle",
   "metadata": {},
   "outputs": [],
   "source": [
    "!cp /home/jovyan/mount/gdrive/query2reference/processed_data/gastrulation.h5ad /nfs/team205/ed6/data/mouse_gastrulation/"
   ]
  },
  {
   "cell_type": "code",
   "execution_count": 48,
   "id": "recovered-ideal",
   "metadata": {},
   "outputs": [
    {
     "data": {
      "application/vnd.jupyter.widget-view+json": {
       "model_id": "0625d8cc9f3841e6b9f1ea55cac890aa",
       "version_major": 2,
       "version_minor": 0
      },
      "text/plain": [
       "  0%|          | 0.00/4.37G [00:00<?, ?B/s]"
      ]
     },
     "metadata": {},
     "output_type": "display_data"
    }
   ],
   "source": [
    "## Full atlas\n",
    "adata_atlas = scvelo.datasets.gastrulation()"
   ]
  },
  {
   "cell_type": "code",
   "execution_count": 6,
   "id": "attractive-walnut",
   "metadata": {},
   "outputs": [
    {
     "name": "stdout",
     "output_type": "stream",
     "text": [
      "Update all/some/none? [a/s/n]: "
     ]
    },
    {
     "name": "stdin",
     "output_type": "stream",
     "text": [
      " n\n"
     ]
    }
   ],
   "source": [
    "%%R\n",
    "if (!requireNamespace(\"BiocManager\", quietly = TRUE))\n",
    "    install.packages(\"BiocManager\")\n",
    "BiocManager::install(\"MouseGastrulationData\")"
   ]
  },
  {
   "cell_type": "code",
   "execution_count": 9,
   "id": "crucial-place",
   "metadata": {},
   "outputs": [],
   "source": [
    "%%R\n",
    "library(MouseGastrulationData)"
   ]
  },
  {
   "cell_type": "code",
   "execution_count": 18,
   "id": "raised-contest",
   "metadata": {},
   "outputs": [
    {
     "name": "stdout",
     "output_type": "stream",
     "text": [
      "\n",
      "\n",
      "\n",
      "\n",
      "\n",
      "\n",
      "\n",
      "\n",
      "\n",
      "\n",
      "\n",
      "\n",
      "\n",
      "\n",
      "\n",
      "\n",
      "\n",
      "\n",
      "\n",
      "\n",
      "\n"
     ]
    }
   ],
   "source": [
    "%%R\n",
    "wt_chimera_sce <- WTChimeraData(type = 'processed')\n",
    "tal1_chimera_sce <- Tal1ChimeraData(type = 'processed')"
   ]
  },
  {
   "cell_type": "code",
   "execution_count": 36,
   "id": "twelve-swimming",
   "metadata": {},
   "outputs": [
    {
     "name": "stdout",
     "output_type": "stream",
     "text": [
      "class: SingleCellExperiment \n",
      "dim: 6 30703 \n",
      "metadata(0):\n",
      "assays(1): X\n",
      "rownames(6): ENSMUSG00000051951 ENSMUSG00000089699 ...\n",
      "  ENSMUSG00000025902 ENSMUSG00000104328\n",
      "rowData names(2): ENSEMBL SYMBOL\n",
      "colnames(30703): cell_1 cell_2 ... cell_30702 cell_30703\n",
      "colData names(11): cell barcode ... doub.density sizeFactor\n",
      "reducedDimNames(2): pca.corrected.E7.5 pca.corrected.E8.5\n",
      "altExpNames(0):\n"
     ]
    }
   ],
   "source": [
    "%%R -o wt_chimera_sce\n",
    "head(wt_chimera_sce)"
   ]
  },
  {
   "cell_type": "code",
   "execution_count": 35,
   "id": "compliant-venezuela",
   "metadata": {},
   "outputs": [
    {
     "name": "stdout",
     "output_type": "stream",
     "text": [
      "[1] 29453 56122\n"
     ]
    }
   ],
   "source": [
    "%%R -o tal1_chimera_sce\n",
    "dim(tal1_chimera_sce)"
   ]
  },
  {
   "cell_type": "code",
   "execution_count": 49,
   "id": "brown-zambia",
   "metadata": {},
   "outputs": [],
   "source": [
    "adata_atlas.write_h5ad(data_dir + 'MouseGastrulationAtlas.h5ad')\n",
    "wt_chimera_sce.write_h5ad(data_dir + 'WTChimera.h5ad')\n",
    "tal1_chimera_sce.write_h5ad(data_dir + 'Tal1Chimera.h5ad')\n",
    "## Also copied in gdrive /home/jovyan/mount/gdrive/query2reference/ for GPU node"
   ]
  },
  {
   "cell_type": "code",
   "execution_count": null,
   "id": "intelligent-marsh",
   "metadata": {},
   "outputs": [],
   "source": []
  }
 ],
 "metadata": {
  "kernelspec": {
   "display_name": "Python (emma_env)",
   "language": "python",
   "name": "emma_env"
  },
  "language_info": {
   "codemirror_mode": {
    "name": "ipython",
    "version": 3
   },
   "file_extension": ".py",
   "mimetype": "text/x-python",
   "name": "python",
   "nbconvert_exporter": "python",
   "pygments_lexer": "ipython3",
   "version": "3.7.8"
  }
 },
 "nbformat": 4,
 "nbformat_minor": 5
}
